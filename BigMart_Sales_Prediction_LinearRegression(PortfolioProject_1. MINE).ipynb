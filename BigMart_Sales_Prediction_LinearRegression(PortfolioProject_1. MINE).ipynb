{
 "cells": [
  {
   "cell_type": "code",
   "execution_count": 102,
   "id": "84dc2d00",
   "metadata": {},
   "outputs": [],
   "source": [
    "# !pip install  joblib==1.0.1 matplotlib==3.3.4 numpy==1.20.1 pandas==1.3.5 scikit_learn==0.24.1 scipy==1.6.2 seaborn==0.11.1 --quiet\n",
    "# !pip install xgboost==1.5.1 --quiet\n",
    "# !pip install featuretools==1.7.0 --quiet"
   ]
  },
  {
   "cell_type": "code",
   "execution_count": 103,
   "id": "62b56056",
   "metadata": {},
   "outputs": [],
   "source": [
    "#Importing Necessary Libraries\n",
    "\n",
    "# Importing Data wrangling libraries\n",
    "import numpy as np\n",
    "import pandas as pd\n",
    "\n",
    "# Import Statistical Libraries\n",
    "from scipy import stats\n",
    "\n",
    "# Import Feature Generation Libraries\n",
    "# import featuretools as ft\n",
    "\n",
    "# Import PLotting and Graph Libraries\n",
    "import matplotlib.pyplot as plt\n",
    "import seaborn as sns\n",
    "import warnings\n",
    "warnings.filterwarnings('ignore')\n",
    "\n",
    "# Import Data Preprocessing and Modelling Libraries\n",
    "from sklearn.linear_model import Ridge\n",
    "from sklearn.model_selection import KFold, cross_val_score\n",
    "from sklearn.model_selection import train_test_split\n",
    "from sklearn.preprocessing import LabelEncoder\n",
    "from sklearn.model_selection import GridSearchCV\n",
    "from sklearn.model_selection import RandomizedSearchCV\n"
   ]
  },
  {
   "cell_type": "code",
   "execution_count": 104,
   "id": "d69c3539",
   "metadata": {},
   "outputs": [
    {
     "name": "stdout",
     "output_type": "stream",
     "text": [
      "(8523, 12) (5681, 11)\n"
     ]
    }
   ],
   "source": [
    "#Imorting the datasets\n",
    "train =pd.read_csv(\"train_kOBLwZA.csv\")\n",
    "test=pd.read_csv(\"test_t02dQwI.csv\")\n",
    "\n",
    "#Checking the shapes of train and test\n",
    "print(train.shape,test.shape)"
   ]
  },
  {
   "cell_type": "code",
   "execution_count": 105,
   "id": "5c3797f1",
   "metadata": {},
   "outputs": [
    {
     "name": "stdout",
     "output_type": "stream",
     "text": [
      "(14204, 12)\n"
     ]
    }
   ],
   "source": [
    "#Defining a function\n",
    "#Creating 'concat' function to concat DataFrame\n",
    "def concat(X,Y):\n",
    "    df= pd.concat([X,Y],ignore_index=True)\n",
    "    return df\n",
    "\n",
    "# Using concat function to concatenate train and test Data\n",
    "df= concat(train,test)\n",
    "\n",
    "# Print shape of concatenated Data Frame\n",
    "print(df.shape)"
   ]
  },
  {
   "cell_type": "code",
   "execution_count": 106,
   "id": "43d68d46",
   "metadata": {},
   "outputs": [
    {
     "data": {
      "text/html": [
       "<div>\n",
       "<style scoped>\n",
       "    .dataframe tbody tr th:only-of-type {\n",
       "        vertical-align: middle;\n",
       "    }\n",
       "\n",
       "    .dataframe tbody tr th {\n",
       "        vertical-align: top;\n",
       "    }\n",
       "\n",
       "    .dataframe thead th {\n",
       "        text-align: right;\n",
       "    }\n",
       "</style>\n",
       "<table border=\"1\" class=\"dataframe\">\n",
       "  <thead>\n",
       "    <tr style=\"text-align: right;\">\n",
       "      <th></th>\n",
       "      <th>Item_Identifier</th>\n",
       "      <th>Item_Weight</th>\n",
       "      <th>Item_Fat_Content</th>\n",
       "      <th>Item_Visibility</th>\n",
       "      <th>Item_Type</th>\n",
       "      <th>Item_MRP</th>\n",
       "      <th>Outlet_Identifier</th>\n",
       "      <th>Outlet_Establishment_Year</th>\n",
       "      <th>Outlet_Size</th>\n",
       "      <th>Outlet_Location_Type</th>\n",
       "      <th>Outlet_Type</th>\n",
       "      <th>Item_Outlet_Sales</th>\n",
       "    </tr>\n",
       "  </thead>\n",
       "  <tbody>\n",
       "    <tr>\n",
       "      <th>0</th>\n",
       "      <td>FDA15</td>\n",
       "      <td>9.30</td>\n",
       "      <td>Low Fat</td>\n",
       "      <td>0.016047</td>\n",
       "      <td>Dairy</td>\n",
       "      <td>249.8092</td>\n",
       "      <td>OUT049</td>\n",
       "      <td>1999</td>\n",
       "      <td>Medium</td>\n",
       "      <td>Tier 1</td>\n",
       "      <td>Supermarket Type1</td>\n",
       "      <td>3735.1380</td>\n",
       "    </tr>\n",
       "    <tr>\n",
       "      <th>1</th>\n",
       "      <td>DRC01</td>\n",
       "      <td>5.92</td>\n",
       "      <td>Regular</td>\n",
       "      <td>0.019278</td>\n",
       "      <td>Soft Drinks</td>\n",
       "      <td>48.2692</td>\n",
       "      <td>OUT018</td>\n",
       "      <td>2009</td>\n",
       "      <td>Medium</td>\n",
       "      <td>Tier 3</td>\n",
       "      <td>Supermarket Type2</td>\n",
       "      <td>443.4228</td>\n",
       "    </tr>\n",
       "    <tr>\n",
       "      <th>2</th>\n",
       "      <td>FDN15</td>\n",
       "      <td>17.50</td>\n",
       "      <td>Low Fat</td>\n",
       "      <td>0.016760</td>\n",
       "      <td>Meat</td>\n",
       "      <td>141.6180</td>\n",
       "      <td>OUT049</td>\n",
       "      <td>1999</td>\n",
       "      <td>Medium</td>\n",
       "      <td>Tier 1</td>\n",
       "      <td>Supermarket Type1</td>\n",
       "      <td>2097.2700</td>\n",
       "    </tr>\n",
       "    <tr>\n",
       "      <th>3</th>\n",
       "      <td>FDX07</td>\n",
       "      <td>19.20</td>\n",
       "      <td>Regular</td>\n",
       "      <td>0.000000</td>\n",
       "      <td>Fruits and Vegetables</td>\n",
       "      <td>182.0950</td>\n",
       "      <td>OUT010</td>\n",
       "      <td>1998</td>\n",
       "      <td>NaN</td>\n",
       "      <td>Tier 3</td>\n",
       "      <td>Grocery Store</td>\n",
       "      <td>732.3800</td>\n",
       "    </tr>\n",
       "    <tr>\n",
       "      <th>4</th>\n",
       "      <td>NCD19</td>\n",
       "      <td>8.93</td>\n",
       "      <td>Low Fat</td>\n",
       "      <td>0.000000</td>\n",
       "      <td>Household</td>\n",
       "      <td>53.8614</td>\n",
       "      <td>OUT013</td>\n",
       "      <td>1987</td>\n",
       "      <td>High</td>\n",
       "      <td>Tier 3</td>\n",
       "      <td>Supermarket Type1</td>\n",
       "      <td>994.7052</td>\n",
       "    </tr>\n",
       "  </tbody>\n",
       "</table>\n",
       "</div>"
      ],
      "text/plain": [
       "  Item_Identifier  Item_Weight Item_Fat_Content  Item_Visibility  \\\n",
       "0           FDA15         9.30          Low Fat         0.016047   \n",
       "1           DRC01         5.92          Regular         0.019278   \n",
       "2           FDN15        17.50          Low Fat         0.016760   \n",
       "3           FDX07        19.20          Regular         0.000000   \n",
       "4           NCD19         8.93          Low Fat         0.000000   \n",
       "\n",
       "               Item_Type  Item_MRP Outlet_Identifier  \\\n",
       "0                  Dairy  249.8092            OUT049   \n",
       "1            Soft Drinks   48.2692            OUT018   \n",
       "2                   Meat  141.6180            OUT049   \n",
       "3  Fruits and Vegetables  182.0950            OUT010   \n",
       "4              Household   53.8614            OUT013   \n",
       "\n",
       "   Outlet_Establishment_Year Outlet_Size Outlet_Location_Type  \\\n",
       "0                       1999      Medium               Tier 1   \n",
       "1                       2009      Medium               Tier 3   \n",
       "2                       1999      Medium               Tier 1   \n",
       "3                       1998         NaN               Tier 3   \n",
       "4                       1987        High               Tier 3   \n",
       "\n",
       "         Outlet_Type  Item_Outlet_Sales  \n",
       "0  Supermarket Type1          3735.1380  \n",
       "1  Supermarket Type2           443.4228  \n",
       "2  Supermarket Type1          2097.2700  \n",
       "3      Grocery Store           732.3800  \n",
       "4  Supermarket Type1           994.7052  "
      ]
     },
     "execution_count": 106,
     "metadata": {},
     "output_type": "execute_result"
    }
   ],
   "source": [
    "#Print first 5 rows of Data\n",
    "df.head()"
   ]
  },
  {
   "cell_type": "code",
   "execution_count": 107,
   "id": "a4923239",
   "metadata": {},
   "outputs": [
    {
     "data": {
      "text/plain": [
       "Item_Identifier                 0\n",
       "Item_Weight                  2439\n",
       "Item_Fat_Content                0\n",
       "Item_Visibility                 0\n",
       "Item_Type                       0\n",
       "Item_MRP                        0\n",
       "Outlet_Identifier               0\n",
       "Outlet_Establishment_Year       0\n",
       "Outlet_Size                  4016\n",
       "Outlet_Location_Type            0\n",
       "Outlet_Type                     0\n",
       "Item_Outlet_Sales            5681\n",
       "dtype: int64"
      ]
     },
     "execution_count": 107,
     "metadata": {},
     "output_type": "execute_result"
    }
   ],
   "source": [
    "#Checks number of null values for all the variables\n",
    "df.isnull().sum()\n",
    "\n",
    "#Item_Weight has 2439 null values\n",
    "#Outlet Size has 4016 null values"
   ]
  },
  {
   "cell_type": "code",
   "execution_count": 108,
   "id": "c8381e19",
   "metadata": {},
   "outputs": [
    {
     "data": {
      "text/plain": [
       "Item_Identifier               1559\n",
       "Item_Weight                    416\n",
       "Item_Fat_Content                 5\n",
       "Item_Visibility              13006\n",
       "Item_Type                       16\n",
       "Item_MRP                      8052\n",
       "Outlet_Identifier               10\n",
       "Outlet_Establishment_Year        9\n",
       "Outlet_Size                      4\n",
       "Outlet_Location_Type             3\n",
       "Outlet_Type                      4\n",
       "Item_Outlet_Sales             3494\n",
       "dtype: int64"
      ]
     },
     "execution_count": 108,
     "metadata": {},
     "output_type": "execute_result"
    }
   ],
   "source": [
    "#Checks the number of unique entries correspnding to each variable\n",
    "df.apply(lambda x: len(x.unique()))"
   ]
  },
  {
   "cell_type": "code",
   "execution_count": 109,
   "id": "081de875",
   "metadata": {},
   "outputs": [],
   "source": [
    "#Defining a function\n",
    "#frequency of unique entries in each columns with their names\n",
    "\n",
    "def frequency_each_item(X,Y):\n",
    "    for i in Y:\n",
    "        print(\"frequency of each category for\",i)\n",
    "        print(X[i].value_counts())\n",
    "        print(\"-\"*60)"
   ]
  },
  {
   "cell_type": "code",
   "execution_count": 110,
   "id": "d502fea6",
   "metadata": {},
   "outputs": [
    {
     "name": "stdout",
     "output_type": "stream",
     "text": [
      "frequency of each category for Item_Fat_Content\n",
      "Item_Fat_Content\n",
      "Low Fat    8485\n",
      "Regular    4824\n",
      "LF          522\n",
      "reg         195\n",
      "low fat     178\n",
      "Name: count, dtype: int64\n",
      "------------------------------------------------------------\n",
      "frequency of each category for Item_Type\n",
      "Item_Type\n",
      "Fruits and Vegetables    2013\n",
      "Snack Foods              1989\n",
      "Household                1548\n",
      "Frozen Foods             1426\n",
      "Dairy                    1136\n",
      "Baking Goods             1086\n",
      "Canned                   1084\n",
      "Health and Hygiene        858\n",
      "Meat                      736\n",
      "Soft Drinks               726\n",
      "Breads                    416\n",
      "Hard Drinks               362\n",
      "Others                    280\n",
      "Starchy Foods             269\n",
      "Breakfast                 186\n",
      "Seafood                    89\n",
      "Name: count, dtype: int64\n",
      "------------------------------------------------------------\n",
      "frequency of each category for Outlet_Location_Type\n",
      "Outlet_Location_Type\n",
      "Tier 3    5583\n",
      "Tier 2    4641\n",
      "Tier 1    3980\n",
      "Name: count, dtype: int64\n",
      "------------------------------------------------------------\n",
      "frequency of each category for Outlet_Size\n",
      "Outlet_Size\n",
      "Medium    4655\n",
      "Small     3980\n",
      "High      1553\n",
      "Name: count, dtype: int64\n",
      "------------------------------------------------------------\n",
      "frequency of each category for Outlet_Type\n",
      "Outlet_Type\n",
      "Supermarket Type1    9294\n",
      "Grocery Store        1805\n",
      "Supermarket Type3    1559\n",
      "Supermarket Type2    1546\n",
      "Name: count, dtype: int64\n",
      "------------------------------------------------------------\n"
     ]
    }
   ],
   "source": [
    "#Frequency of unique entries in each columns with their names\n",
    "category=['Item_Fat_Content','Item_Type','Outlet_Location_Type','Outlet_Size','Outlet_Type']\n",
    "frequency_each_item(df,category)"
   ]
  },
  {
   "cell_type": "markdown",
   "id": "1c81cc47",
   "metadata": {},
   "source": [
    "# Data Sanity Check"
   ]
  },
  {
   "cell_type": "markdown",
   "id": "ce4f5646",
   "metadata": {},
   "source": [
    "**General Guideline for Sanity Check**\n",
    "\n",
    "- Check for correct data types against each columns\n",
    "- Check for any unknown characters in data\n",
    "- Check for duplicate data\n",
    "- If you're are combining multiple data sources:\n",
    "        a. joins have worked correcectly.\n",
    "        b. Check no. of rows created is it acceptable.\n",
    "        c. Check no. of columns created is it acceptable."
   ]
  },
  {
   "cell_type": "code",
   "execution_count": 111,
   "id": "dae4df43",
   "metadata": {},
   "outputs": [
    {
     "name": "stdout",
     "output_type": "stream",
     "text": [
      "<class 'pandas.core.frame.DataFrame'>\n",
      "RangeIndex: 14204 entries, 0 to 14203\n",
      "Data columns (total 12 columns):\n",
      " #   Column                     Non-Null Count  Dtype  \n",
      "---  ------                     --------------  -----  \n",
      " 0   Item_Identifier            14204 non-null  object \n",
      " 1   Item_Weight                11765 non-null  float64\n",
      " 2   Item_Fat_Content           14204 non-null  object \n",
      " 3   Item_Visibility            14204 non-null  float64\n",
      " 4   Item_Type                  14204 non-null  object \n",
      " 5   Item_MRP                   14204 non-null  float64\n",
      " 6   Outlet_Identifier          14204 non-null  object \n",
      " 7   Outlet_Establishment_Year  14204 non-null  int64  \n",
      " 8   Outlet_Size                10188 non-null  object \n",
      " 9   Outlet_Location_Type       14204 non-null  object \n",
      " 10  Outlet_Type                14204 non-null  object \n",
      " 11  Item_Outlet_Sales          8523 non-null   float64\n",
      "dtypes: float64(4), int64(1), object(7)\n",
      "memory usage: 1.3+ MB\n"
     ]
    }
   ],
   "source": [
    "df.info()"
   ]
  },
  {
   "cell_type": "markdown",
   "id": "6c86c49d",
   "metadata": {},
   "source": [
    "### Fixing Inconsistencies in \"Item_Fat_Content\""
   ]
  },
  {
   "cell_type": "code",
   "execution_count": 112,
   "id": "366f9f7b",
   "metadata": {},
   "outputs": [
    {
     "data": {
      "text/plain": [
       "Item_Fat_Content\n",
       "Low Fat    9185\n",
       "Regular    5019\n",
       "Name: count, dtype: int64"
      ]
     },
     "execution_count": 112,
     "metadata": {},
     "output_type": "execute_result"
    }
   ],
   "source": [
    "# Correcting the mis-written datas\n",
    "df['Item_Fat_Content'].replace(to_replace =['low fat','reg','LF'],\n",
    "                 value =['Low Fat','Regular','Low Fat'],inplace=True)\n",
    "df['Item_Fat_Content'].value_counts()"
   ]
  },
  {
   "cell_type": "markdown",
   "id": "3fecf84a",
   "metadata": {},
   "source": [
    "### Fixing \"Item_Visibility\" with 0 values"
   ]
  },
  {
   "cell_type": "code",
   "execution_count": 113,
   "id": "d16cefea",
   "metadata": {},
   "outputs": [
    {
     "data": {
      "text/html": [
       "<div>\n",
       "<style scoped>\n",
       "    .dataframe tbody tr th:only-of-type {\n",
       "        vertical-align: middle;\n",
       "    }\n",
       "\n",
       "    .dataframe tbody tr th {\n",
       "        vertical-align: top;\n",
       "    }\n",
       "\n",
       "    .dataframe thead th {\n",
       "        text-align: right;\n",
       "    }\n",
       "</style>\n",
       "<table border=\"1\" class=\"dataframe\">\n",
       "  <thead>\n",
       "    <tr style=\"text-align: right;\">\n",
       "      <th></th>\n",
       "      <th>Item_Identifier</th>\n",
       "      <th>Item_Weight</th>\n",
       "      <th>Item_Fat_Content</th>\n",
       "      <th>Item_Visibility</th>\n",
       "      <th>Item_Type</th>\n",
       "      <th>Item_MRP</th>\n",
       "      <th>Outlet_Identifier</th>\n",
       "      <th>Outlet_Establishment_Year</th>\n",
       "      <th>Outlet_Size</th>\n",
       "      <th>Outlet_Location_Type</th>\n",
       "      <th>Outlet_Type</th>\n",
       "      <th>Item_Outlet_Sales</th>\n",
       "    </tr>\n",
       "  </thead>\n",
       "  <tbody>\n",
       "    <tr>\n",
       "      <th>0</th>\n",
       "      <td>FDA15</td>\n",
       "      <td>9.30</td>\n",
       "      <td>Low Fat</td>\n",
       "      <td>0.016047</td>\n",
       "      <td>Dairy</td>\n",
       "      <td>249.8092</td>\n",
       "      <td>OUT049</td>\n",
       "      <td>1999</td>\n",
       "      <td>Medium</td>\n",
       "      <td>Tier 1</td>\n",
       "      <td>Supermarket Type1</td>\n",
       "      <td>3735.1380</td>\n",
       "    </tr>\n",
       "    <tr>\n",
       "      <th>1</th>\n",
       "      <td>DRC01</td>\n",
       "      <td>5.92</td>\n",
       "      <td>Regular</td>\n",
       "      <td>0.019278</td>\n",
       "      <td>Soft Drinks</td>\n",
       "      <td>48.2692</td>\n",
       "      <td>OUT018</td>\n",
       "      <td>2009</td>\n",
       "      <td>Medium</td>\n",
       "      <td>Tier 3</td>\n",
       "      <td>Supermarket Type2</td>\n",
       "      <td>443.4228</td>\n",
       "    </tr>\n",
       "    <tr>\n",
       "      <th>2</th>\n",
       "      <td>FDN15</td>\n",
       "      <td>17.50</td>\n",
       "      <td>Low Fat</td>\n",
       "      <td>0.016760</td>\n",
       "      <td>Meat</td>\n",
       "      <td>141.6180</td>\n",
       "      <td>OUT049</td>\n",
       "      <td>1999</td>\n",
       "      <td>Medium</td>\n",
       "      <td>Tier 1</td>\n",
       "      <td>Supermarket Type1</td>\n",
       "      <td>2097.2700</td>\n",
       "    </tr>\n",
       "    <tr>\n",
       "      <th>3</th>\n",
       "      <td>FDX07</td>\n",
       "      <td>19.20</td>\n",
       "      <td>Regular</td>\n",
       "      <td>0.017834</td>\n",
       "      <td>Fruits and Vegetables</td>\n",
       "      <td>182.0950</td>\n",
       "      <td>OUT010</td>\n",
       "      <td>1998</td>\n",
       "      <td>NaN</td>\n",
       "      <td>Tier 3</td>\n",
       "      <td>Grocery Store</td>\n",
       "      <td>732.3800</td>\n",
       "    </tr>\n",
       "    <tr>\n",
       "      <th>4</th>\n",
       "      <td>NCD19</td>\n",
       "      <td>8.93</td>\n",
       "      <td>Low Fat</td>\n",
       "      <td>0.009780</td>\n",
       "      <td>Household</td>\n",
       "      <td>53.8614</td>\n",
       "      <td>OUT013</td>\n",
       "      <td>1987</td>\n",
       "      <td>High</td>\n",
       "      <td>Tier 3</td>\n",
       "      <td>Supermarket Type1</td>\n",
       "      <td>994.7052</td>\n",
       "    </tr>\n",
       "  </tbody>\n",
       "</table>\n",
       "</div>"
      ],
      "text/plain": [
       "  Item_Identifier  Item_Weight Item_Fat_Content  Item_Visibility  \\\n",
       "0           FDA15         9.30          Low Fat         0.016047   \n",
       "1           DRC01         5.92          Regular         0.019278   \n",
       "2           FDN15        17.50          Low Fat         0.016760   \n",
       "3           FDX07        19.20          Regular         0.017834   \n",
       "4           NCD19         8.93          Low Fat         0.009780   \n",
       "\n",
       "               Item_Type  Item_MRP Outlet_Identifier  \\\n",
       "0                  Dairy  249.8092            OUT049   \n",
       "1            Soft Drinks   48.2692            OUT018   \n",
       "2                   Meat  141.6180            OUT049   \n",
       "3  Fruits and Vegetables  182.0950            OUT010   \n",
       "4              Household   53.8614            OUT013   \n",
       "\n",
       "   Outlet_Establishment_Year Outlet_Size Outlet_Location_Type  \\\n",
       "0                       1999      Medium               Tier 1   \n",
       "1                       2009      Medium               Tier 3   \n",
       "2                       1999      Medium               Tier 1   \n",
       "3                       1998         NaN               Tier 3   \n",
       "4                       1987        High               Tier 3   \n",
       "\n",
       "         Outlet_Type  Item_Outlet_Sales  \n",
       "0  Supermarket Type1          3735.1380  \n",
       "1  Supermarket Type2           443.4228  \n",
       "2  Supermarket Type1          2097.2700  \n",
       "3      Grocery Store           732.3800  \n",
       "4  Supermarket Type1           994.7052  "
      ]
     },
     "execution_count": 113,
     "metadata": {},
     "output_type": "execute_result"
    }
   ],
   "source": [
    "# Converting all the zero values to mean in the visibility column\n",
    "Item_Visibility_mean=df.groupby('Item_Identifier' )['Item_Visibility'].mean()\n",
    "bool4=df['Item_Visibility']==0\n",
    "df['Item_Visibility'][bool4]=df['Item_Identifier'][bool4].apply(lambda x:Item_Visibility_mean.loc[x]).values\n",
    "df.head()"
   ]
  },
  {
   "cell_type": "markdown",
   "id": "3286b418",
   "metadata": {},
   "source": [
    "# Handling Missing Values"
   ]
  },
  {
   "cell_type": "markdown",
   "id": "8ac842f0",
   "metadata": {},
   "source": [
    "**General Guideline for Treating Missing Value**\n",
    "\n",
    "- Identify if Missing are Numerical or Categorical values.\n",
    "- Check for % of missing value of a column, if more than 30% of data missing drop the column.\n",
    "\n",
    "**For Numerical Values**:\n",
    "\n",
    "    a. Impute with Mean, Median or constant values.\n",
    "    b. Logical condition Imputation.\n",
    "    c. Interpolation and Regression Approach\n",
    "\n",
    "**For Categorical Values**\n",
    "\n",
    "    a. Impute with Mode values\n",
    "    b. Logical condition Imputation."
   ]
  },
  {
   "cell_type": "markdown",
   "id": "f9c2fc5d",
   "metadata": {},
   "source": [
    "### Handling Missing Value for \"Outlet_Size\""
   ]
  },
  {
   "cell_type": "code",
   "execution_count": 114,
   "id": "1f80be92",
   "metadata": {},
   "outputs": [],
   "source": [
    "## Explantory Code\n",
    "# Substitution Categorical Missing Value with Mode\n",
    "# mode_value = df['Outlet_Size'].mode()[0]\n",
    "# df['Outlet_Size'].fillna(mode_value)"
   ]
  },
  {
   "cell_type": "code",
   "execution_count": 115,
   "id": "eeb5427f",
   "metadata": {},
   "outputs": [
    {
     "data": {
      "text/plain": [
       "0"
      ]
     },
     "execution_count": 115,
     "metadata": {},
     "output_type": "execute_result"
    }
   ],
   "source": [
    "# Substiutuion with Logical Condition.\n",
    "mode_Outlet_Size= df.groupby(['Outlet_Type'])['Outlet_Size'].agg(pd.Series.mode)\n",
    "bool2=df['Outlet_Size'].isnull()\n",
    "df['Outlet_Size'][bool2] = df['Outlet_Type'][bool2].apply(lambda x : mode_Outlet_Size.loc[x]).values\n",
    "sum(df['Outlet_Size'].isnull())"
   ]
  },
  {
   "cell_type": "markdown",
   "id": "5bc8eefc",
   "metadata": {},
   "source": [
    "### Handling Missing Value for \"Item_Weight\""
   ]
  },
  {
   "cell_type": "code",
   "execution_count": 116,
   "id": "38ddb1e7",
   "metadata": {},
   "outputs": [],
   "source": [
    "## Explantory Code\n",
    "# mean_value = df['Item_Weight'].mean()\n",
    "# df['Item_Weight'].fillna(mean_value)"
   ]
  },
  {
   "cell_type": "code",
   "execution_count": 117,
   "id": "22d2014e",
   "metadata": {},
   "outputs": [
    {
     "data": {
      "text/plain": [
       "0"
      ]
     },
     "execution_count": 117,
     "metadata": {},
     "output_type": "execute_result"
    }
   ],
   "source": [
    "# Substiutuion with Logical Condition.\n",
    "avg_item_weight=df.groupby('Item_Identifier')['Item_Weight'].agg(np.mean)\n",
    "bool_value= df['Item_Weight'].isnull()\n",
    "df['Item_Weight'][bool_value]=df['Item_Identifier'][bool_value].apply(lambda x :avg_item_weight.loc[x]).values\n",
    "sum(df['Item_Weight'].isnull())"
   ]
  },
  {
   "cell_type": "markdown",
   "id": "55431100",
   "metadata": {},
   "source": [
    "# Identifying outliers and fixing them"
   ]
  },
  {
   "cell_type": "code",
   "execution_count": 118,
   "id": "82fe0a6b",
   "metadata": {},
   "outputs": [
    {
     "data": {
      "text/html": [
       "<div>\n",
       "<style scoped>\n",
       "    .dataframe tbody tr th:only-of-type {\n",
       "        vertical-align: middle;\n",
       "    }\n",
       "\n",
       "    .dataframe tbody tr th {\n",
       "        vertical-align: top;\n",
       "    }\n",
       "\n",
       "    .dataframe thead th {\n",
       "        text-align: right;\n",
       "    }\n",
       "</style>\n",
       "<table border=\"1\" class=\"dataframe\">\n",
       "  <thead>\n",
       "    <tr style=\"text-align: right;\">\n",
       "      <th></th>\n",
       "      <th>Item_Weight</th>\n",
       "      <th>Item_Visibility</th>\n",
       "      <th>Item_MRP</th>\n",
       "      <th>Outlet_Establishment_Year</th>\n",
       "      <th>Item_Outlet_Sales</th>\n",
       "    </tr>\n",
       "  </thead>\n",
       "  <tbody>\n",
       "    <tr>\n",
       "      <th>count</th>\n",
       "      <td>14204.000000</td>\n",
       "      <td>14204.000000</td>\n",
       "      <td>14204.000000</td>\n",
       "      <td>14204.000000</td>\n",
       "      <td>8523.000000</td>\n",
       "    </tr>\n",
       "    <tr>\n",
       "      <th>mean</th>\n",
       "      <td>12.793380</td>\n",
       "      <td>0.069710</td>\n",
       "      <td>141.004977</td>\n",
       "      <td>1997.830681</td>\n",
       "      <td>2181.288914</td>\n",
       "    </tr>\n",
       "    <tr>\n",
       "      <th>std</th>\n",
       "      <td>4.651716</td>\n",
       "      <td>0.049728</td>\n",
       "      <td>62.086938</td>\n",
       "      <td>8.371664</td>\n",
       "      <td>1706.499616</td>\n",
       "    </tr>\n",
       "    <tr>\n",
       "      <th>min</th>\n",
       "      <td>4.555000</td>\n",
       "      <td>0.003575</td>\n",
       "      <td>31.290000</td>\n",
       "      <td>1985.000000</td>\n",
       "      <td>33.290000</td>\n",
       "    </tr>\n",
       "    <tr>\n",
       "      <th>25%</th>\n",
       "      <td>8.710000</td>\n",
       "      <td>0.031145</td>\n",
       "      <td>94.012000</td>\n",
       "      <td>1987.000000</td>\n",
       "      <td>834.247400</td>\n",
       "    </tr>\n",
       "    <tr>\n",
       "      <th>50%</th>\n",
       "      <td>12.600000</td>\n",
       "      <td>0.057194</td>\n",
       "      <td>142.247000</td>\n",
       "      <td>1999.000000</td>\n",
       "      <td>1794.331000</td>\n",
       "    </tr>\n",
       "    <tr>\n",
       "      <th>75%</th>\n",
       "      <td>16.750000</td>\n",
       "      <td>0.096930</td>\n",
       "      <td>185.855600</td>\n",
       "      <td>2004.000000</td>\n",
       "      <td>3101.296400</td>\n",
       "    </tr>\n",
       "    <tr>\n",
       "      <th>max</th>\n",
       "      <td>21.350000</td>\n",
       "      <td>0.328391</td>\n",
       "      <td>266.888400</td>\n",
       "      <td>2009.000000</td>\n",
       "      <td>13086.964800</td>\n",
       "    </tr>\n",
       "  </tbody>\n",
       "</table>\n",
       "</div>"
      ],
      "text/plain": [
       "        Item_Weight  Item_Visibility      Item_MRP  Outlet_Establishment_Year  \\\n",
       "count  14204.000000     14204.000000  14204.000000               14204.000000   \n",
       "mean      12.793380         0.069710    141.004977                1997.830681   \n",
       "std        4.651716         0.049728     62.086938                   8.371664   \n",
       "min        4.555000         0.003575     31.290000                1985.000000   \n",
       "25%        8.710000         0.031145     94.012000                1987.000000   \n",
       "50%       12.600000         0.057194    142.247000                1999.000000   \n",
       "75%       16.750000         0.096930    185.855600                2004.000000   \n",
       "max       21.350000         0.328391    266.888400                2009.000000   \n",
       "\n",
       "       Item_Outlet_Sales  \n",
       "count        8523.000000  \n",
       "mean         2181.288914  \n",
       "std          1706.499616  \n",
       "min            33.290000  \n",
       "25%           834.247400  \n",
       "50%          1794.331000  \n",
       "75%          3101.296400  \n",
       "max         13086.964800  "
      ]
     },
     "execution_count": 118,
     "metadata": {},
     "output_type": "execute_result"
    }
   ],
   "source": [
    "df.describe()"
   ]
  },
  {
   "cell_type": "code",
   "execution_count": 119,
   "id": "b31a9129",
   "metadata": {},
   "outputs": [
    {
     "data": {
      "image/png": "[encoded data removed]",
      "text/plain": [
       "<Figure size 640x480 with 1 Axes>"
      ]
     },
     "metadata": {},
     "output_type": "display_data"
    }
   ],
   "source": [
    "sns.set(style=\"whitegrid\")\n",
    "ax = sns.boxplot(x=df[\"Item_Outlet_Sales\"])"
   ]
  },
  {
   "cell_type": "code",
   "execution_count": 120,
   "id": "89a4d50a",
   "metadata": {},
   "outputs": [],
   "source": [
    "#As we know only Item_Outlet_Sales have outliers we can fix them but fixing them will increase our RMSE score\n",
    "#to a large extent"
   ]
  },
  {
   "cell_type": "markdown",
   "id": "2716d368",
   "metadata": {},
   "source": [
    "# Handling Categorical Values"
   ]
  },
  {
   "cell_type": "markdown",
   "id": "764e3906",
   "metadata": {},
   "source": [
    "**General Guideline to treating Categorical Values**\n",
    "\n",
    "- Identify if the variable if its Nominal or Ordinal Varriable.\n",
    "\n",
    "- **For Nomianl Varriable:**\n",
    " Check for cardinality of the variable.\n",
    "   - if cardinality = 2, you can apply:\n",
    "         a. binary encoding\n",
    "         b. One-hot encoding or\n",
    "         c. pd.get_dummies\n",
    "        \n",
    "  - if cardinality < 5, you can apply:\n",
    "        a. One-hot encoding or\n",
    "        b. pd.get_dummies\n",
    "\n",
    "  - if cardinality 5 - 10, you can apply:\n",
    "        a. One-hot encoding or\n",
    "        b. pd.get_dummies\n",
    "        c. frequecny encoding\n",
    "        d. target-mean encoding\n",
    "\n",
    "  - if cardinality > 10, you can apply:\n",
    "        a. if no. of categories can be reduced.\n",
    "        b. frequecny encoding\n",
    "        c. target-mean encoding\n",
    "\n",
    "- **For Ordinal Varriable**: It has a defenitive order\n",
    "        a. Create a dictionary for label\n",
    "        b. Apply Label encoding\n",
    "        c. Apply Ordinal encoding\n"
   ]
  },
  {
   "cell_type": "markdown",
   "id": "53ee6c7c",
   "metadata": {},
   "source": [
    "### Handling Categorical Value \"Item_Type\""
   ]
  },
  {
   "cell_type": "code",
   "execution_count": 121,
   "id": "d68872c2",
   "metadata": {},
   "outputs": [],
   "source": [
    "## Explanantion Code\n",
    "\n",
    "# df['Item_Type'].value_counts(normalize=True)*100\n",
    "# # 'Item_Type' has high cardinality\n",
    "# # We need to reduce the columns into fewer category if possible.\n",
    "# # Can see those values which are smaller representation can be combined togther."
   ]
  },
  {
   "cell_type": "code",
   "execution_count": 122,
   "id": "ecf69770",
   "metadata": {},
   "outputs": [
    {
     "data": {
      "text/html": [
       "<div>\n",
       "<style scoped>\n",
       "    .dataframe tbody tr th:only-of-type {\n",
       "        vertical-align: middle;\n",
       "    }\n",
       "\n",
       "    .dataframe tbody tr th {\n",
       "        vertical-align: top;\n",
       "    }\n",
       "\n",
       "    .dataframe thead th {\n",
       "        text-align: right;\n",
       "    }\n",
       "</style>\n",
       "<table border=\"1\" class=\"dataframe\">\n",
       "  <thead>\n",
       "    <tr style=\"text-align: right;\">\n",
       "      <th></th>\n",
       "      <th>Item_Identifier</th>\n",
       "      <th>Item_Weight</th>\n",
       "      <th>Item_Fat_Content</th>\n",
       "      <th>Item_Visibility</th>\n",
       "      <th>Item_MRP</th>\n",
       "      <th>Outlet_Identifier</th>\n",
       "      <th>Outlet_Establishment_Year</th>\n",
       "      <th>Outlet_Size</th>\n",
       "      <th>Outlet_Location_Type</th>\n",
       "      <th>Outlet_Type</th>\n",
       "      <th>Item_Outlet_Sales</th>\n",
       "      <th>Item_Type_combined</th>\n",
       "    </tr>\n",
       "  </thead>\n",
       "  <tbody>\n",
       "    <tr>\n",
       "      <th>0</th>\n",
       "      <td>FDA15</td>\n",
       "      <td>9.30</td>\n",
       "      <td>Low Fat</td>\n",
       "      <td>0.016047</td>\n",
       "      <td>249.8092</td>\n",
       "      <td>OUT049</td>\n",
       "      <td>1999</td>\n",
       "      <td>Medium</td>\n",
       "      <td>Tier 1</td>\n",
       "      <td>Supermarket Type1</td>\n",
       "      <td>3735.1380</td>\n",
       "      <td>Food</td>\n",
       "    </tr>\n",
       "    <tr>\n",
       "      <th>1</th>\n",
       "      <td>DRC01</td>\n",
       "      <td>5.92</td>\n",
       "      <td>Regular</td>\n",
       "      <td>0.019278</td>\n",
       "      <td>48.2692</td>\n",
       "      <td>OUT018</td>\n",
       "      <td>2009</td>\n",
       "      <td>Medium</td>\n",
       "      <td>Tier 3</td>\n",
       "      <td>Supermarket Type2</td>\n",
       "      <td>443.4228</td>\n",
       "      <td>Drinks</td>\n",
       "    </tr>\n",
       "    <tr>\n",
       "      <th>2</th>\n",
       "      <td>FDN15</td>\n",
       "      <td>17.50</td>\n",
       "      <td>Low Fat</td>\n",
       "      <td>0.016760</td>\n",
       "      <td>141.6180</td>\n",
       "      <td>OUT049</td>\n",
       "      <td>1999</td>\n",
       "      <td>Medium</td>\n",
       "      <td>Tier 1</td>\n",
       "      <td>Supermarket Type1</td>\n",
       "      <td>2097.2700</td>\n",
       "      <td>Food</td>\n",
       "    </tr>\n",
       "    <tr>\n",
       "      <th>3</th>\n",
       "      <td>FDX07</td>\n",
       "      <td>19.20</td>\n",
       "      <td>Regular</td>\n",
       "      <td>0.017834</td>\n",
       "      <td>182.0950</td>\n",
       "      <td>OUT010</td>\n",
       "      <td>1998</td>\n",
       "      <td>Small</td>\n",
       "      <td>Tier 3</td>\n",
       "      <td>Grocery Store</td>\n",
       "      <td>732.3800</td>\n",
       "      <td>Food</td>\n",
       "    </tr>\n",
       "    <tr>\n",
       "      <th>4</th>\n",
       "      <td>NCD19</td>\n",
       "      <td>8.93</td>\n",
       "      <td>Low Fat</td>\n",
       "      <td>0.009780</td>\n",
       "      <td>53.8614</td>\n",
       "      <td>OUT013</td>\n",
       "      <td>1987</td>\n",
       "      <td>High</td>\n",
       "      <td>Tier 3</td>\n",
       "      <td>Supermarket Type1</td>\n",
       "      <td>994.7052</td>\n",
       "      <td>Non_consumable</td>\n",
       "    </tr>\n",
       "  </tbody>\n",
       "</table>\n",
       "</div>"
      ],
      "text/plain": [
       "  Item_Identifier  Item_Weight Item_Fat_Content  Item_Visibility  Item_MRP  \\\n",
       "0           FDA15         9.30          Low Fat         0.016047  249.8092   \n",
       "1           DRC01         5.92          Regular         0.019278   48.2692   \n",
       "2           FDN15        17.50          Low Fat         0.016760  141.6180   \n",
       "3           FDX07        19.20          Regular         0.017834  182.0950   \n",
       "4           NCD19         8.93          Low Fat         0.009780   53.8614   \n",
       "\n",
       "  Outlet_Identifier  Outlet_Establishment_Year Outlet_Size  \\\n",
       "0            OUT049                       1999      Medium   \n",
       "1            OUT018                       2009      Medium   \n",
       "2            OUT049                       1999      Medium   \n",
       "3            OUT010                       1998       Small   \n",
       "4            OUT013                       1987        High   \n",
       "\n",
       "  Outlet_Location_Type        Outlet_Type  Item_Outlet_Sales  \\\n",
       "0               Tier 1  Supermarket Type1          3735.1380   \n",
       "1               Tier 3  Supermarket Type2           443.4228   \n",
       "2               Tier 1  Supermarket Type1          2097.2700   \n",
       "3               Tier 3      Grocery Store           732.3800   \n",
       "4               Tier 3  Supermarket Type1           994.7052   \n",
       "\n",
       "  Item_Type_combined  \n",
       "0               Food  \n",
       "1             Drinks  \n",
       "2               Food  \n",
       "3               Food  \n",
       "4     Non_consumable  "
      ]
     },
     "execution_count": 122,
     "metadata": {},
     "output_type": "execute_result"
    }
   ],
   "source": [
    "#Reducing food category to only 3 types with the help of the first 2 alphabets of the Item_Identifier column\n",
    "\n",
    "df['Item_Type_combined']=df['Item_Identifier'].apply(lambda x : x[0:2])\n",
    "df['Item_Type_combined'].replace(to_replace =['FD','DR','NC'],\n",
    "                 value =['Food','Drinks','Non_consumable'],inplace=True)\n",
    "#dropping the redundant column\n",
    "df=df.drop(columns=['Item_Type'])\n",
    "df.head()"
   ]
  },
  {
   "cell_type": "markdown",
   "id": "38dbaff6",
   "metadata": {},
   "source": [
    "### Handling Categorical Value \"Item_Fat_Content\"\n"
   ]
  },
  {
   "cell_type": "code",
   "execution_count": 123,
   "id": "fc0140b0",
   "metadata": {},
   "outputs": [
    {
     "data": {
      "text/plain": [
       "Item_Fat_Content\n",
       "Low Fat       6499\n",
       "Regular       5019\n",
       "Non_edible    2686\n",
       "Name: count, dtype: int64"
      ]
     },
     "execution_count": 123,
     "metadata": {},
     "output_type": "execute_result"
    }
   ],
   "source": [
    "#Calculating number of Item_fat_contents that are also non_consumable\n",
    "bool3=df['Item_Type_combined']=='Non_consumable'\n",
    "\n",
    "df['Item_Fat_Content'][bool3]='Non_edible'\n",
    "df['Item_Fat_Content'].value_counts()"
   ]
  },
  {
   "cell_type": "markdown",
   "id": "43f122d0",
   "metadata": {},
   "source": [
    "# Plotting Graphs for more Analysis"
   ]
  },
  {
   "cell_type": "code",
   "execution_count": 124,
   "id": "8dd5f944",
   "metadata": {},
   "outputs": [
    {
     "data": {
      "image/png": "[encoded data removed]",
      "text/plain": [
       "<Figure size 640x480 with 1 Axes>"
      ]
     },
     "metadata": {},
     "output_type": "display_data"
    }
   ],
   "source": [
    "#value of sales increases for the increase in MRP of the item\n",
    "plt.scatter(df.Item_MRP,df.Item_Outlet_Sales,c='g')\n",
    "plt.show()"
   ]
  },
  {
   "cell_type": "code",
   "execution_count": 125,
   "id": "9809f57f",
   "metadata": {},
   "outputs": [
    {
     "data": {
      "image/png": "[encoded data removed]",
      "text/plain": [
       "<Figure size 612.222x600 with 3 Axes>"
      ]
     },
     "metadata": {},
     "output_type": "display_data"
    }
   ],
   "source": [
    "sns.FacetGrid(df, col='Item_Type_combined', col_wrap=2) \\\n",
    "    .map(plt.hist, 'Item_Outlet_Sales') \\\n",
    "    .add_legend();\n",
    "# Maximum contribution to outlet sales is from Items that are food type and least is from drinks"
   ]
  },
  {
   "cell_type": "code",
   "execution_count": 126,
   "id": "4c6f2d53",
   "metadata": {},
   "outputs": [
    {
     "data": {
      "image/png": "[encoded data removed]",
      "text/plain": [
       "<Figure size 612.222x600 with 3 Axes>"
      ]
     },
     "metadata": {},
     "output_type": "display_data"
    }
   ],
   "source": [
    "sns.FacetGrid(df, col='Outlet_Location_Type', col_wrap=2) \\\n",
    "    .map(plt.hist, 'Item_Outlet_Sales') \\\n",
    "    .add_legend();\n",
    "#Tier3 type of outlet location provides for the maximum sales and other two provides the least sales"
   ]
  },
  {
   "cell_type": "code",
   "execution_count": 127,
   "id": "bdde9ca3",
   "metadata": {},
   "outputs": [
    {
     "data": {
      "image/png": "[encoded data removed]",
      "text/plain": [
       "<Figure size 612.222x600 with 3 Axes>"
      ]
     },
     "metadata": {},
     "output_type": "display_data"
    }
   ],
   "source": [
    "sns.FacetGrid(df, col='Outlet_Size', col_wrap=2) \\\n",
    "    .map(plt.hist, 'Item_Outlet_Sales') \\\n",
    "    .add_legend();\n",
    "#Small sized Outlets are providing the maximum sales whereas large sized outlets\n",
    "# are contributing the least"
   ]
  },
  {
   "cell_type": "code",
   "execution_count": 128,
   "id": "bf856297",
   "metadata": {},
   "outputs": [
    {
     "data": {
      "image/png": "[encoded data removed]",
      "text/plain": [
       "<Figure size 612.222x600 with 3 Axes>"
      ]
     },
     "metadata": {},
     "output_type": "display_data"
    }
   ],
   "source": [
    "sns.FacetGrid(df, col='Item_Fat_Content', col_wrap=2) \\\n",
    "    .map(plt.hist, 'Item_Outlet_Sales') \\\n",
    "    .add_legend();\n",
    "# people are prefering items with lowest fat content the most"
   ]
  },
  {
   "cell_type": "code",
   "execution_count": 129,
   "id": "0508a87f",
   "metadata": {},
   "outputs": [
    {
     "data": {
      "image/png": "[encoded data removed]",
      "text/plain": [
       "<Figure size 612.222x600 with 4 Axes>"
      ]
     },
     "metadata": {},
     "output_type": "display_data"
    }
   ],
   "source": [
    "sns.FacetGrid(df, col='Outlet_Type', col_wrap=2) \\\n",
    "    .map(plt.hist, 'Item_Outlet_Sales') \\\n",
    "    .add_legend();\n",
    "#Maximum of the high sales margin is from Supermarket Type1\n",
    "#Grocery store has the least sales"
   ]
  },
  {
   "cell_type": "markdown",
   "id": "ea183be7",
   "metadata": {},
   "source": [
    "# Explanation Code\n",
    "'''\n",
    "Columns:\n",
    "'Item_Fat_Content','Outlet_Location_Type','Outlet_Size','Outlet_Type','Item_Type_combined'\n",
    "\n",
    "are Ordinal in Nature.\n",
    "\n",
    "So we can either create dict or apply label encoding.\n",
    "\n",
    "Item_Fat_Content_dict = {\"Non_edible\":0,\n",
    "                          \"Low Fat\":1,\n",
    "                          \"Regular\":2,\n",
    "                          }\n",
    "df['Item_Fat_Content'].apply(lambda x: Item_Fat_Content_dict[x])\n",
    "or\n",
    "df['Item_Fat_Content'].replace(Item_Fat_Content_dict)\n",
    "\n",
    "OR\n",
    "\n",
    "le=LabelEncoder()\n",
    "le.fit_transform(df['Item_Fat_Content'])\n",
    "\n",
    "le.inverse_transform([0,1,2])\n",
    "\n",
    "'''\n",
    "\n",
    "'''\n",
    "one-hot encoding:\n",
    "\n",
    "enc = OneHotEncoder(handle_unknown='ignore')\n",
    "enc.fit_transform('Outlet_Identifier')\n",
    "\n",
    "pd.get_dummies:\n",
    "\n",
    "pd.get_dummies(df_new,columns=['Outlet_Identifier'])\n",
    "\n",
    "frequecncy Encoding:\n",
    "\n",
    "freq_value = df.groupby('Item_Identifier').size()/len(df)\n",
    "freq_dict = freq_value.to_dict()\n",
    "df['Item_Identifier'].replace(freq_dict)\n",
    "\n",
    "target Mean Encoding:\n",
    "\n",
    "mean_value = df.groupby('Item_Identifier')['Item_Outlet_Sales'].mean()\n",
    "mean_dict = mean_value.to_dict()\n",
    "df['Item_Identifier'].replace(mean_dict)\n",
    "\n",
    "'''"
   ]
  },
  {
   "cell_type": "code",
   "execution_count": 130,
   "id": "d1a4e9b8",
   "metadata": {},
   "outputs": [
    {
     "data": {
      "text/plain": [
       "10"
      ]
     },
     "execution_count": 130,
     "metadata": {},
     "output_type": "execute_result"
    }
   ],
   "source": [
    "df['Outlet_Identifier'].nunique()"
   ]
  },
  {
   "cell_type": "code",
   "execution_count": 131,
   "id": "e3440225",
   "metadata": {},
   "outputs": [
    {
     "data": {
      "text/plain": [
       "0        OUT049\n",
       "1        OUT018\n",
       "2        OUT049\n",
       "3        OUT010\n",
       "4        OUT013\n",
       "          ...  \n",
       "14199    OUT046\n",
       "14200    OUT018\n",
       "14201    OUT045\n",
       "14202    OUT017\n",
       "14203    OUT045\n",
       "Name: Outlet_Identifier, Length: 14204, dtype: object"
      ]
     },
     "execution_count": 131,
     "metadata": {},
     "output_type": "execute_result"
    }
   ],
   "source": [
    "df['Outlet_Identifier']"
   ]
  },
  {
   "cell_type": "code",
   "execution_count": 132,
   "id": "519cff49",
   "metadata": {},
   "outputs": [
    {
     "data": {
      "text/plain": [
       "array([[0., 0., 0., ..., 0., 0., 1.],\n",
       "       [0., 0., 0., ..., 0., 0., 0.],\n",
       "       [0., 0., 0., ..., 0., 0., 1.],\n",
       "       ...,\n",
       "       [0., 0., 0., ..., 1., 0., 0.],\n",
       "       [0., 0., 1., ..., 0., 0., 0.],\n",
       "       [0., 0., 0., ..., 1., 0., 0.]])"
      ]
     },
     "execution_count": 132,
     "metadata": {},
     "output_type": "execute_result"
    }
   ],
   "source": [
    "# one-hot encoding:\n",
    "from sklearn.preprocessing import OneHotEncoder\n",
    "enc = OneHotEncoder()\n",
    "outlet_array = enc.fit_transform(df[['Outlet_Identifier']]).toarray()\n",
    "outlet_array"
   ]
  },
  {
   "cell_type": "code",
   "execution_count": 133,
   "id": "16887489",
   "metadata": {},
   "outputs": [
    {
     "data": {
      "text/plain": [
       "array([1., 0., 0., 0., 0., 0., 0., 0., 0., 0.])"
      ]
     },
     "execution_count": 133,
     "metadata": {},
     "output_type": "execute_result"
    }
   ],
   "source": [
    "outlet_array[3]"
   ]
  },
  {
   "cell_type": "code",
   "execution_count": 134,
   "id": "a251963e",
   "metadata": {},
   "outputs": [
    {
     "data": {
      "text/plain": [
       "[array(['OUT010', 'OUT013', 'OUT017', 'OUT018', 'OUT019', 'OUT027',\n",
       "        'OUT035', 'OUT045', 'OUT046', 'OUT049'], dtype=object)]"
      ]
     },
     "execution_count": 134,
     "metadata": {},
     "output_type": "execute_result"
    }
   ],
   "source": [
    "enc.categories_"
   ]
  },
  {
   "cell_type": "code",
   "execution_count": 135,
   "id": "2e42625f",
   "metadata": {},
   "outputs": [
    {
     "data": {
      "text/html": [
       "<style>#sk-container-id-2 {color: black;}#sk-container-id-2 pre{padding: 0;}#sk-container-id-2 div.sk-toggleable {background-color: white;}#sk-container-id-2 label.sk-toggleable__label {cursor: pointer;display: block;width: 100%;margin-bottom: 0;padding: 0.3em;box-sizing: border-box;text-align: center;}#sk-container-id-2 label.sk-toggleable__label-arrow:before {content: \"▸\";float: left;margin-right: 0.25em;color: #696969;}#sk-container-id-2 label.sk-toggleable__label-arrow:hover:before {color: black;}#sk-container-id-2 div.sk-estimator:hover label.sk-toggleable__label-arrow:before {color: black;}#sk-container-id-2 div.sk-toggleable__content {max-height: 0;max-width: 0;overflow: hidden;text-align: left;background-color: #f0f8ff;}#sk-container-id-2 div.sk-toggleable__content pre {margin: 0.2em;color: black;border-radius: 0.25em;background-color: #f0f8ff;}#sk-container-id-2 input.sk-toggleable__control:checked~div.sk-toggleable__content {max-height: 200px;max-width: 100%;overflow: auto;}#sk-container-id-2 input.sk-toggleable__control:checked~label.sk-toggleable__label-arrow:before {content: \"▾\";}#sk-container-id-2 div.sk-estimator input.sk-toggleable__control:checked~label.sk-toggleable__label {background-color: #d4ebff;}#sk-container-id-2 div.sk-label input.sk-toggleable__control:checked~label.sk-toggleable__label {background-color: #d4ebff;}#sk-container-id-2 input.sk-hidden--visually {border: 0;clip: rect(1px 1px 1px 1px);clip: rect(1px, 1px, 1px, 1px);height: 1px;margin: -1px;overflow: hidden;padding: 0;position: absolute;width: 1px;}#sk-container-id-2 div.sk-estimator {font-family: monospace;background-color: #f0f8ff;border: 1px dotted black;border-radius: 0.25em;box-sizing: border-box;margin-bottom: 0.5em;}#sk-container-id-2 div.sk-estimator:hover {background-color: #d4ebff;}#sk-container-id-2 div.sk-parallel-item::after {content: \"\";width: 100%;border-bottom: 1px solid gray;flex-grow: 1;}#sk-container-id-2 div.sk-label:hover label.sk-toggleable__label {background-color: #d4ebff;}#sk-container-id-2 div.sk-serial::before {content: \"\";position: absolute;border-left: 1px solid gray;box-sizing: border-box;top: 0;bottom: 0;left: 50%;z-index: 0;}#sk-container-id-2 div.sk-serial {display: flex;flex-direction: column;align-items: center;background-color: white;padding-right: 0.2em;padding-left: 0.2em;position: relative;}#sk-container-id-2 div.sk-item {position: relative;z-index: 1;}#sk-container-id-2 div.sk-parallel {display: flex;align-items: stretch;justify-content: center;background-color: white;position: relative;}#sk-container-id-2 div.sk-item::before, #sk-container-id-2 div.sk-parallel-item::before {content: \"\";position: absolute;border-left: 1px solid gray;box-sizing: border-box;top: 0;bottom: 0;left: 50%;z-index: -1;}#sk-container-id-2 div.sk-parallel-item {display: flex;flex-direction: column;z-index: 1;position: relative;background-color: white;}#sk-container-id-2 div.sk-parallel-item:first-child::after {align-self: flex-end;width: 50%;}#sk-container-id-2 div.sk-parallel-item:last-child::after {align-self: flex-start;width: 50%;}#sk-container-id-2 div.sk-parallel-item:only-child::after {width: 0;}#sk-container-id-2 div.sk-dashed-wrapped {border: 1px dashed gray;margin: 0 0.4em 0.5em 0.4em;box-sizing: border-box;padding-bottom: 0.4em;background-color: white;}#sk-container-id-2 div.sk-label label {font-family: monospace;font-weight: bold;display: inline-block;line-height: 1.2em;}#sk-container-id-2 div.sk-label-container {text-align: center;}#sk-container-id-2 div.sk-container {/* jupyter's `normalize.less` sets `[hidden] { display: none; }` but bootstrap.min.css set `[hidden] { display: none !important; }` so we also need the `!important` here to be able to override the default hidden behavior on the sphinx rendered scikit-learn.org. See: https://github.com/scikit-learn/scikit-learn/issues/21755 */display: inline-block !important;position: relative;}#sk-container-id-2 div.sk-text-repr-fallback {display: none;}</style><div id=\"sk-container-id-2\" class=\"sk-top-container\"><div class=\"sk-text-repr-fallback\"><pre>OneHotEncoder()</pre><b>In a Jupyter environment, please rerun this cell to show the HTML representation or trust the notebook. <br />On GitHub, the HTML representation is unable to render, please try loading this page with nbviewer.org.</b></div><div class=\"sk-container\" hidden><div class=\"sk-item\"><div class=\"sk-estimator sk-toggleable\"><input class=\"sk-toggleable__control sk-hidden--visually\" id=\"sk-estimator-id-2\" type=\"checkbox\" checked><label for=\"sk-estimator-id-2\" class=\"sk-toggleable__label sk-toggleable__label-arrow\">OneHotEncoder</label><div class=\"sk-toggleable__content\"><pre>OneHotEncoder()</pre></div></div></div></div></div>"
      ],
      "text/plain": [
       "OneHotEncoder()"
      ]
     },
     "execution_count": 135,
     "metadata": {},
     "output_type": "execute_result"
    }
   ],
   "source": [
    "enc"
   ]
  },
  {
   "cell_type": "code",
   "execution_count": 136,
   "id": "4f604593",
   "metadata": {},
   "outputs": [
    {
     "data": {
      "text/html": [
       "<div>\n",
       "<style scoped>\n",
       "    .dataframe tbody tr th:only-of-type {\n",
       "        vertical-align: middle;\n",
       "    }\n",
       "\n",
       "    .dataframe tbody tr th {\n",
       "        vertical-align: top;\n",
       "    }\n",
       "\n",
       "    .dataframe thead tr th {\n",
       "        text-align: left;\n",
       "    }\n",
       "</style>\n",
       "<table border=\"1\" class=\"dataframe\">\n",
       "  <thead>\n",
       "    <tr>\n",
       "      <th></th>\n",
       "      <th>OUT010</th>\n",
       "      <th>OUT013</th>\n",
       "      <th>OUT017</th>\n",
       "      <th>OUT018</th>\n",
       "      <th>OUT019</th>\n",
       "      <th>OUT027</th>\n",
       "      <th>OUT035</th>\n",
       "      <th>OUT045</th>\n",
       "      <th>OUT046</th>\n",
       "      <th>OUT049</th>\n",
       "    </tr>\n",
       "  </thead>\n",
       "  <tbody>\n",
       "    <tr>\n",
       "      <th>0</th>\n",
       "      <td>0.0</td>\n",
       "      <td>0.0</td>\n",
       "      <td>0.0</td>\n",
       "      <td>0.0</td>\n",
       "      <td>0.0</td>\n",
       "      <td>0.0</td>\n",
       "      <td>0.0</td>\n",
       "      <td>0.0</td>\n",
       "      <td>0.0</td>\n",
       "      <td>1.0</td>\n",
       "    </tr>\n",
       "    <tr>\n",
       "      <th>1</th>\n",
       "      <td>0.0</td>\n",
       "      <td>0.0</td>\n",
       "      <td>0.0</td>\n",
       "      <td>1.0</td>\n",
       "      <td>0.0</td>\n",
       "      <td>0.0</td>\n",
       "      <td>0.0</td>\n",
       "      <td>0.0</td>\n",
       "      <td>0.0</td>\n",
       "      <td>0.0</td>\n",
       "    </tr>\n",
       "    <tr>\n",
       "      <th>2</th>\n",
       "      <td>0.0</td>\n",
       "      <td>0.0</td>\n",
       "      <td>0.0</td>\n",
       "      <td>0.0</td>\n",
       "      <td>0.0</td>\n",
       "      <td>0.0</td>\n",
       "      <td>0.0</td>\n",
       "      <td>0.0</td>\n",
       "      <td>0.0</td>\n",
       "      <td>1.0</td>\n",
       "    </tr>\n",
       "    <tr>\n",
       "      <th>3</th>\n",
       "      <td>1.0</td>\n",
       "      <td>0.0</td>\n",
       "      <td>0.0</td>\n",
       "      <td>0.0</td>\n",
       "      <td>0.0</td>\n",
       "      <td>0.0</td>\n",
       "      <td>0.0</td>\n",
       "      <td>0.0</td>\n",
       "      <td>0.0</td>\n",
       "      <td>0.0</td>\n",
       "    </tr>\n",
       "    <tr>\n",
       "      <th>4</th>\n",
       "      <td>0.0</td>\n",
       "      <td>1.0</td>\n",
       "      <td>0.0</td>\n",
       "      <td>0.0</td>\n",
       "      <td>0.0</td>\n",
       "      <td>0.0</td>\n",
       "      <td>0.0</td>\n",
       "      <td>0.0</td>\n",
       "      <td>0.0</td>\n",
       "      <td>0.0</td>\n",
       "    </tr>\n",
       "    <tr>\n",
       "      <th>...</th>\n",
       "      <td>...</td>\n",
       "      <td>...</td>\n",
       "      <td>...</td>\n",
       "      <td>...</td>\n",
       "      <td>...</td>\n",
       "      <td>...</td>\n",
       "      <td>...</td>\n",
       "      <td>...</td>\n",
       "      <td>...</td>\n",
       "      <td>...</td>\n",
       "    </tr>\n",
       "    <tr>\n",
       "      <th>14199</th>\n",
       "      <td>0.0</td>\n",
       "      <td>0.0</td>\n",
       "      <td>0.0</td>\n",
       "      <td>0.0</td>\n",
       "      <td>0.0</td>\n",
       "      <td>0.0</td>\n",
       "      <td>0.0</td>\n",
       "      <td>0.0</td>\n",
       "      <td>1.0</td>\n",
       "      <td>0.0</td>\n",
       "    </tr>\n",
       "    <tr>\n",
       "      <th>14200</th>\n",
       "      <td>0.0</td>\n",
       "      <td>0.0</td>\n",
       "      <td>0.0</td>\n",
       "      <td>1.0</td>\n",
       "      <td>0.0</td>\n",
       "      <td>0.0</td>\n",
       "      <td>0.0</td>\n",
       "      <td>0.0</td>\n",
       "      <td>0.0</td>\n",
       "      <td>0.0</td>\n",
       "    </tr>\n",
       "    <tr>\n",
       "      <th>14201</th>\n",
       "      <td>0.0</td>\n",
       "      <td>0.0</td>\n",
       "      <td>0.0</td>\n",
       "      <td>0.0</td>\n",
       "      <td>0.0</td>\n",
       "      <td>0.0</td>\n",
       "      <td>0.0</td>\n",
       "      <td>1.0</td>\n",
       "      <td>0.0</td>\n",
       "      <td>0.0</td>\n",
       "    </tr>\n",
       "    <tr>\n",
       "      <th>14202</th>\n",
       "      <td>0.0</td>\n",
       "      <td>0.0</td>\n",
       "      <td>1.0</td>\n",
       "      <td>0.0</td>\n",
       "      <td>0.0</td>\n",
       "      <td>0.0</td>\n",
       "      <td>0.0</td>\n",
       "      <td>0.0</td>\n",
       "      <td>0.0</td>\n",
       "      <td>0.0</td>\n",
       "    </tr>\n",
       "    <tr>\n",
       "      <th>14203</th>\n",
       "      <td>0.0</td>\n",
       "      <td>0.0</td>\n",
       "      <td>0.0</td>\n",
       "      <td>0.0</td>\n",
       "      <td>0.0</td>\n",
       "      <td>0.0</td>\n",
       "      <td>0.0</td>\n",
       "      <td>1.0</td>\n",
       "      <td>0.0</td>\n",
       "      <td>0.0</td>\n",
       "    </tr>\n",
       "  </tbody>\n",
       "</table>\n",
       "<p>14204 rows × 10 columns</p>\n",
       "</div>"
      ],
      "text/plain": [
       "      OUT010 OUT013 OUT017 OUT018 OUT019 OUT027 OUT035 OUT045 OUT046 OUT049\n",
       "0        0.0    0.0    0.0    0.0    0.0    0.0    0.0    0.0    0.0    1.0\n",
       "1        0.0    0.0    0.0    1.0    0.0    0.0    0.0    0.0    0.0    0.0\n",
       "2        0.0    0.0    0.0    0.0    0.0    0.0    0.0    0.0    0.0    1.0\n",
       "3        1.0    0.0    0.0    0.0    0.0    0.0    0.0    0.0    0.0    0.0\n",
       "4        0.0    1.0    0.0    0.0    0.0    0.0    0.0    0.0    0.0    0.0\n",
       "...      ...    ...    ...    ...    ...    ...    ...    ...    ...    ...\n",
       "14199    0.0    0.0    0.0    0.0    0.0    0.0    0.0    0.0    1.0    0.0\n",
       "14200    0.0    0.0    0.0    1.0    0.0    0.0    0.0    0.0    0.0    0.0\n",
       "14201    0.0    0.0    0.0    0.0    0.0    0.0    0.0    1.0    0.0    0.0\n",
       "14202    0.0    0.0    1.0    0.0    0.0    0.0    0.0    0.0    0.0    0.0\n",
       "14203    0.0    0.0    0.0    0.0    0.0    0.0    0.0    1.0    0.0    0.0\n",
       "\n",
       "[14204 rows x 10 columns]"
      ]
     },
     "execution_count": 136,
     "metadata": {},
     "output_type": "execute_result"
    }
   ],
   "source": [
    "df_enc = pd.DataFrame(outlet_array,columns=enc.categories_)\n",
    "df_enc"
   ]
  },
  {
   "cell_type": "code",
   "execution_count": 137,
   "id": "2ea5bdda",
   "metadata": {},
   "outputs": [
    {
     "data": {
      "text/html": [
       "<div>\n",
       "<style scoped>\n",
       "    .dataframe tbody tr th:only-of-type {\n",
       "        vertical-align: middle;\n",
       "    }\n",
       "\n",
       "    .dataframe tbody tr th {\n",
       "        vertical-align: top;\n",
       "    }\n",
       "\n",
       "    .dataframe thead th {\n",
       "        text-align: right;\n",
       "    }\n",
       "</style>\n",
       "<table border=\"1\" class=\"dataframe\">\n",
       "  <thead>\n",
       "    <tr style=\"text-align: right;\">\n",
       "      <th></th>\n",
       "      <th>Item_Identifier</th>\n",
       "      <th>Item_Weight</th>\n",
       "      <th>Item_Fat_Content</th>\n",
       "      <th>Item_Visibility</th>\n",
       "      <th>Item_MRP</th>\n",
       "      <th>Outlet_Identifier</th>\n",
       "      <th>Outlet_Establishment_Year</th>\n",
       "      <th>Outlet_Size</th>\n",
       "      <th>Outlet_Location_Type</th>\n",
       "      <th>Outlet_Type</th>\n",
       "      <th>...</th>\n",
       "      <th>(OUT010,)</th>\n",
       "      <th>(OUT013,)</th>\n",
       "      <th>(OUT017,)</th>\n",
       "      <th>(OUT018,)</th>\n",
       "      <th>(OUT019,)</th>\n",
       "      <th>(OUT027,)</th>\n",
       "      <th>(OUT035,)</th>\n",
       "      <th>(OUT045,)</th>\n",
       "      <th>(OUT046,)</th>\n",
       "      <th>(OUT049,)</th>\n",
       "    </tr>\n",
       "  </thead>\n",
       "  <tbody>\n",
       "    <tr>\n",
       "      <th>0</th>\n",
       "      <td>FDA15</td>\n",
       "      <td>9.30</td>\n",
       "      <td>Low Fat</td>\n",
       "      <td>0.016047</td>\n",
       "      <td>249.8092</td>\n",
       "      <td>OUT049</td>\n",
       "      <td>1999</td>\n",
       "      <td>Medium</td>\n",
       "      <td>Tier 1</td>\n",
       "      <td>Supermarket Type1</td>\n",
       "      <td>...</td>\n",
       "      <td>0.0</td>\n",
       "      <td>0.0</td>\n",
       "      <td>0.0</td>\n",
       "      <td>0.0</td>\n",
       "      <td>0.0</td>\n",
       "      <td>0.0</td>\n",
       "      <td>0.0</td>\n",
       "      <td>0.0</td>\n",
       "      <td>0.0</td>\n",
       "      <td>1.0</td>\n",
       "    </tr>\n",
       "    <tr>\n",
       "      <th>1</th>\n",
       "      <td>DRC01</td>\n",
       "      <td>5.92</td>\n",
       "      <td>Regular</td>\n",
       "      <td>0.019278</td>\n",
       "      <td>48.2692</td>\n",
       "      <td>OUT018</td>\n",
       "      <td>2009</td>\n",
       "      <td>Medium</td>\n",
       "      <td>Tier 3</td>\n",
       "      <td>Supermarket Type2</td>\n",
       "      <td>...</td>\n",
       "      <td>0.0</td>\n",
       "      <td>0.0</td>\n",
       "      <td>0.0</td>\n",
       "      <td>1.0</td>\n",
       "      <td>0.0</td>\n",
       "      <td>0.0</td>\n",
       "      <td>0.0</td>\n",
       "      <td>0.0</td>\n",
       "      <td>0.0</td>\n",
       "      <td>0.0</td>\n",
       "    </tr>\n",
       "    <tr>\n",
       "      <th>2</th>\n",
       "      <td>FDN15</td>\n",
       "      <td>17.50</td>\n",
       "      <td>Low Fat</td>\n",
       "      <td>0.016760</td>\n",
       "      <td>141.6180</td>\n",
       "      <td>OUT049</td>\n",
       "      <td>1999</td>\n",
       "      <td>Medium</td>\n",
       "      <td>Tier 1</td>\n",
       "      <td>Supermarket Type1</td>\n",
       "      <td>...</td>\n",
       "      <td>0.0</td>\n",
       "      <td>0.0</td>\n",
       "      <td>0.0</td>\n",
       "      <td>0.0</td>\n",
       "      <td>0.0</td>\n",
       "      <td>0.0</td>\n",
       "      <td>0.0</td>\n",
       "      <td>0.0</td>\n",
       "      <td>0.0</td>\n",
       "      <td>1.0</td>\n",
       "    </tr>\n",
       "    <tr>\n",
       "      <th>3</th>\n",
       "      <td>FDX07</td>\n",
       "      <td>19.20</td>\n",
       "      <td>Regular</td>\n",
       "      <td>0.017834</td>\n",
       "      <td>182.0950</td>\n",
       "      <td>OUT010</td>\n",
       "      <td>1998</td>\n",
       "      <td>Small</td>\n",
       "      <td>Tier 3</td>\n",
       "      <td>Grocery Store</td>\n",
       "      <td>...</td>\n",
       "      <td>1.0</td>\n",
       "      <td>0.0</td>\n",
       "      <td>0.0</td>\n",
       "      <td>0.0</td>\n",
       "      <td>0.0</td>\n",
       "      <td>0.0</td>\n",
       "      <td>0.0</td>\n",
       "      <td>0.0</td>\n",
       "      <td>0.0</td>\n",
       "      <td>0.0</td>\n",
       "    </tr>\n",
       "    <tr>\n",
       "      <th>4</th>\n",
       "      <td>NCD19</td>\n",
       "      <td>8.93</td>\n",
       "      <td>Non_edible</td>\n",
       "      <td>0.009780</td>\n",
       "      <td>53.8614</td>\n",
       "      <td>OUT013</td>\n",
       "      <td>1987</td>\n",
       "      <td>High</td>\n",
       "      <td>Tier 3</td>\n",
       "      <td>Supermarket Type1</td>\n",
       "      <td>...</td>\n",
       "      <td>0.0</td>\n",
       "      <td>1.0</td>\n",
       "      <td>0.0</td>\n",
       "      <td>0.0</td>\n",
       "      <td>0.0</td>\n",
       "      <td>0.0</td>\n",
       "      <td>0.0</td>\n",
       "      <td>0.0</td>\n",
       "      <td>0.0</td>\n",
       "      <td>0.0</td>\n",
       "    </tr>\n",
       "  </tbody>\n",
       "</table>\n",
       "<p>5 rows × 22 columns</p>\n",
       "</div>"
      ],
      "text/plain": [
       "  Item_Identifier  Item_Weight Item_Fat_Content  Item_Visibility  Item_MRP  \\\n",
       "0           FDA15         9.30          Low Fat         0.016047  249.8092   \n",
       "1           DRC01         5.92          Regular         0.019278   48.2692   \n",
       "2           FDN15        17.50          Low Fat         0.016760  141.6180   \n",
       "3           FDX07        19.20          Regular         0.017834  182.0950   \n",
       "4           NCD19         8.93       Non_edible         0.009780   53.8614   \n",
       "\n",
       "  Outlet_Identifier  Outlet_Establishment_Year Outlet_Size  \\\n",
       "0            OUT049                       1999      Medium   \n",
       "1            OUT018                       2009      Medium   \n",
       "2            OUT049                       1999      Medium   \n",
       "3            OUT010                       1998       Small   \n",
       "4            OUT013                       1987        High   \n",
       "\n",
       "  Outlet_Location_Type        Outlet_Type  ...  (OUT010,) (OUT013,)  \\\n",
       "0               Tier 1  Supermarket Type1  ...        0.0       0.0   \n",
       "1               Tier 3  Supermarket Type2  ...        0.0       0.0   \n",
       "2               Tier 1  Supermarket Type1  ...        0.0       0.0   \n",
       "3               Tier 3      Grocery Store  ...        1.0       0.0   \n",
       "4               Tier 3  Supermarket Type1  ...        0.0       1.0   \n",
       "\n",
       "   (OUT017,)  (OUT018,)  (OUT019,)  (OUT027,)  (OUT035,)  (OUT045,)  \\\n",
       "0        0.0        0.0        0.0        0.0        0.0        0.0   \n",
       "1        0.0        1.0        0.0        0.0        0.0        0.0   \n",
       "2        0.0        0.0        0.0        0.0        0.0        0.0   \n",
       "3        0.0        0.0        0.0        0.0        0.0        0.0   \n",
       "4        0.0        0.0        0.0        0.0        0.0        0.0   \n",
       "\n",
       "   (OUT046,)  (OUT049,)  \n",
       "0        0.0        1.0  \n",
       "1        0.0        0.0  \n",
       "2        0.0        1.0  \n",
       "3        0.0        0.0  \n",
       "4        0.0        0.0  \n",
       "\n",
       "[5 rows x 22 columns]"
      ]
     },
     "execution_count": 137,
     "metadata": {},
     "output_type": "execute_result"
    }
   ],
   "source": [
    "pd.merge(df,df_enc,how='left',left_index=True,right_index=True).head()"
   ]
  },
  {
   "cell_type": "code",
   "execution_count": 138,
   "id": "68c154d0",
   "metadata": {},
   "outputs": [
    {
     "data": {
      "text/html": [
       "<div>\n",
       "<style scoped>\n",
       "    .dataframe tbody tr th:only-of-type {\n",
       "        vertical-align: middle;\n",
       "    }\n",
       "\n",
       "    .dataframe tbody tr th {\n",
       "        vertical-align: top;\n",
       "    }\n",
       "\n",
       "    .dataframe thead th {\n",
       "        text-align: right;\n",
       "    }\n",
       "</style>\n",
       "<table border=\"1\" class=\"dataframe\">\n",
       "  <thead>\n",
       "    <tr style=\"text-align: right;\">\n",
       "      <th></th>\n",
       "      <th>Item_Identifier</th>\n",
       "      <th>Item_Weight</th>\n",
       "      <th>Item_Fat_Content</th>\n",
       "      <th>Item_Visibility</th>\n",
       "      <th>Item_MRP</th>\n",
       "      <th>Outlet_Identifier</th>\n",
       "      <th>Outlet_Establishment_Year</th>\n",
       "      <th>Outlet_Size</th>\n",
       "      <th>Outlet_Location_Type</th>\n",
       "      <th>Outlet_Type</th>\n",
       "      <th>...</th>\n",
       "      <th>(OUT010,)</th>\n",
       "      <th>(OUT013,)</th>\n",
       "      <th>(OUT017,)</th>\n",
       "      <th>(OUT018,)</th>\n",
       "      <th>(OUT019,)</th>\n",
       "      <th>(OUT027,)</th>\n",
       "      <th>(OUT035,)</th>\n",
       "      <th>(OUT045,)</th>\n",
       "      <th>(OUT046,)</th>\n",
       "      <th>(OUT049,)</th>\n",
       "    </tr>\n",
       "  </thead>\n",
       "  <tbody>\n",
       "    <tr>\n",
       "      <th>0</th>\n",
       "      <td>FDA15</td>\n",
       "      <td>9.30</td>\n",
       "      <td>Low Fat</td>\n",
       "      <td>0.016047</td>\n",
       "      <td>249.8092</td>\n",
       "      <td>OUT049</td>\n",
       "      <td>1999</td>\n",
       "      <td>Medium</td>\n",
       "      <td>Tier 1</td>\n",
       "      <td>Supermarket Type1</td>\n",
       "      <td>...</td>\n",
       "      <td>0.0</td>\n",
       "      <td>0.0</td>\n",
       "      <td>0.0</td>\n",
       "      <td>0.0</td>\n",
       "      <td>0.0</td>\n",
       "      <td>0.0</td>\n",
       "      <td>0.0</td>\n",
       "      <td>0.0</td>\n",
       "      <td>0.0</td>\n",
       "      <td>1.0</td>\n",
       "    </tr>\n",
       "    <tr>\n",
       "      <th>1</th>\n",
       "      <td>DRC01</td>\n",
       "      <td>5.92</td>\n",
       "      <td>Regular</td>\n",
       "      <td>0.019278</td>\n",
       "      <td>48.2692</td>\n",
       "      <td>OUT018</td>\n",
       "      <td>2009</td>\n",
       "      <td>Medium</td>\n",
       "      <td>Tier 3</td>\n",
       "      <td>Supermarket Type2</td>\n",
       "      <td>...</td>\n",
       "      <td>0.0</td>\n",
       "      <td>0.0</td>\n",
       "      <td>0.0</td>\n",
       "      <td>1.0</td>\n",
       "      <td>0.0</td>\n",
       "      <td>0.0</td>\n",
       "      <td>0.0</td>\n",
       "      <td>0.0</td>\n",
       "      <td>0.0</td>\n",
       "      <td>0.0</td>\n",
       "    </tr>\n",
       "    <tr>\n",
       "      <th>2</th>\n",
       "      <td>FDN15</td>\n",
       "      <td>17.50</td>\n",
       "      <td>Low Fat</td>\n",
       "      <td>0.016760</td>\n",
       "      <td>141.6180</td>\n",
       "      <td>OUT049</td>\n",
       "      <td>1999</td>\n",
       "      <td>Medium</td>\n",
       "      <td>Tier 1</td>\n",
       "      <td>Supermarket Type1</td>\n",
       "      <td>...</td>\n",
       "      <td>0.0</td>\n",
       "      <td>0.0</td>\n",
       "      <td>0.0</td>\n",
       "      <td>0.0</td>\n",
       "      <td>0.0</td>\n",
       "      <td>0.0</td>\n",
       "      <td>0.0</td>\n",
       "      <td>0.0</td>\n",
       "      <td>0.0</td>\n",
       "      <td>1.0</td>\n",
       "    </tr>\n",
       "    <tr>\n",
       "      <th>3</th>\n",
       "      <td>FDX07</td>\n",
       "      <td>19.20</td>\n",
       "      <td>Regular</td>\n",
       "      <td>0.017834</td>\n",
       "      <td>182.0950</td>\n",
       "      <td>OUT010</td>\n",
       "      <td>1998</td>\n",
       "      <td>Small</td>\n",
       "      <td>Tier 3</td>\n",
       "      <td>Grocery Store</td>\n",
       "      <td>...</td>\n",
       "      <td>1.0</td>\n",
       "      <td>0.0</td>\n",
       "      <td>0.0</td>\n",
       "      <td>0.0</td>\n",
       "      <td>0.0</td>\n",
       "      <td>0.0</td>\n",
       "      <td>0.0</td>\n",
       "      <td>0.0</td>\n",
       "      <td>0.0</td>\n",
       "      <td>0.0</td>\n",
       "    </tr>\n",
       "    <tr>\n",
       "      <th>4</th>\n",
       "      <td>NCD19</td>\n",
       "      <td>8.93</td>\n",
       "      <td>Non_edible</td>\n",
       "      <td>0.009780</td>\n",
       "      <td>53.8614</td>\n",
       "      <td>OUT013</td>\n",
       "      <td>1987</td>\n",
       "      <td>High</td>\n",
       "      <td>Tier 3</td>\n",
       "      <td>Supermarket Type1</td>\n",
       "      <td>...</td>\n",
       "      <td>0.0</td>\n",
       "      <td>1.0</td>\n",
       "      <td>0.0</td>\n",
       "      <td>0.0</td>\n",
       "      <td>0.0</td>\n",
       "      <td>0.0</td>\n",
       "      <td>0.0</td>\n",
       "      <td>0.0</td>\n",
       "      <td>0.0</td>\n",
       "      <td>0.0</td>\n",
       "    </tr>\n",
       "  </tbody>\n",
       "</table>\n",
       "<p>5 rows × 22 columns</p>\n",
       "</div>"
      ],
      "text/plain": [
       "  Item_Identifier  Item_Weight Item_Fat_Content  Item_Visibility  Item_MRP  \\\n",
       "0           FDA15         9.30          Low Fat         0.016047  249.8092   \n",
       "1           DRC01         5.92          Regular         0.019278   48.2692   \n",
       "2           FDN15        17.50          Low Fat         0.016760  141.6180   \n",
       "3           FDX07        19.20          Regular         0.017834  182.0950   \n",
       "4           NCD19         8.93       Non_edible         0.009780   53.8614   \n",
       "\n",
       "  Outlet_Identifier  Outlet_Establishment_Year Outlet_Size  \\\n",
       "0            OUT049                       1999      Medium   \n",
       "1            OUT018                       2009      Medium   \n",
       "2            OUT049                       1999      Medium   \n",
       "3            OUT010                       1998       Small   \n",
       "4            OUT013                       1987        High   \n",
       "\n",
       "  Outlet_Location_Type        Outlet_Type  ...  (OUT010,) (OUT013,)  \\\n",
       "0               Tier 1  Supermarket Type1  ...        0.0       0.0   \n",
       "1               Tier 3  Supermarket Type2  ...        0.0       0.0   \n",
       "2               Tier 1  Supermarket Type1  ...        0.0       0.0   \n",
       "3               Tier 3      Grocery Store  ...        1.0       0.0   \n",
       "4               Tier 3  Supermarket Type1  ...        0.0       1.0   \n",
       "\n",
       "   (OUT017,)  (OUT018,)  (OUT019,)  (OUT027,)  (OUT035,)  (OUT045,)  \\\n",
       "0        0.0        0.0        0.0        0.0        0.0        0.0   \n",
       "1        0.0        1.0        0.0        0.0        0.0        0.0   \n",
       "2        0.0        0.0        0.0        0.0        0.0        0.0   \n",
       "3        0.0        0.0        0.0        0.0        0.0        0.0   \n",
       "4        0.0        0.0        0.0        0.0        0.0        0.0   \n",
       "\n",
       "   (OUT046,)  (OUT049,)  \n",
       "0        0.0        1.0  \n",
       "1        0.0        0.0  \n",
       "2        0.0        1.0  \n",
       "3        0.0        0.0  \n",
       "4        0.0        0.0  \n",
       "\n",
       "[5 rows x 22 columns]"
      ]
     },
     "execution_count": 138,
     "metadata": {},
     "output_type": "execute_result"
    }
   ],
   "source": [
    "pd.concat([df,df_enc],axis=1).head()"
   ]
  },
  {
   "cell_type": "code",
   "execution_count": 139,
   "id": "3f35f8ad",
   "metadata": {},
   "outputs": [
    {
     "data": {
      "text/html": [
       "<div>\n",
       "<style scoped>\n",
       "    .dataframe tbody tr th:only-of-type {\n",
       "        vertical-align: middle;\n",
       "    }\n",
       "\n",
       "    .dataframe tbody tr th {\n",
       "        vertical-align: top;\n",
       "    }\n",
       "\n",
       "    .dataframe thead th {\n",
       "        text-align: right;\n",
       "    }\n",
       "</style>\n",
       "<table border=\"1\" class=\"dataframe\">\n",
       "  <thead>\n",
       "    <tr style=\"text-align: right;\">\n",
       "      <th></th>\n",
       "      <th>Outlet_Identifier_OUT010</th>\n",
       "      <th>Outlet_Identifier_OUT013</th>\n",
       "      <th>Outlet_Identifier_OUT017</th>\n",
       "      <th>Outlet_Identifier_OUT018</th>\n",
       "      <th>Outlet_Identifier_OUT019</th>\n",
       "      <th>Outlet_Identifier_OUT027</th>\n",
       "      <th>Outlet_Identifier_OUT035</th>\n",
       "      <th>Outlet_Identifier_OUT045</th>\n",
       "      <th>Outlet_Identifier_OUT046</th>\n",
       "      <th>Outlet_Identifier_OUT049</th>\n",
       "    </tr>\n",
       "  </thead>\n",
       "  <tbody>\n",
       "    <tr>\n",
       "      <th>0</th>\n",
       "      <td>False</td>\n",
       "      <td>False</td>\n",
       "      <td>False</td>\n",
       "      <td>False</td>\n",
       "      <td>False</td>\n",
       "      <td>False</td>\n",
       "      <td>False</td>\n",
       "      <td>False</td>\n",
       "      <td>False</td>\n",
       "      <td>True</td>\n",
       "    </tr>\n",
       "    <tr>\n",
       "      <th>1</th>\n",
       "      <td>False</td>\n",
       "      <td>False</td>\n",
       "      <td>False</td>\n",
       "      <td>True</td>\n",
       "      <td>False</td>\n",
       "      <td>False</td>\n",
       "      <td>False</td>\n",
       "      <td>False</td>\n",
       "      <td>False</td>\n",
       "      <td>False</td>\n",
       "    </tr>\n",
       "    <tr>\n",
       "      <th>2</th>\n",
       "      <td>False</td>\n",
       "      <td>False</td>\n",
       "      <td>False</td>\n",
       "      <td>False</td>\n",
       "      <td>False</td>\n",
       "      <td>False</td>\n",
       "      <td>False</td>\n",
       "      <td>False</td>\n",
       "      <td>False</td>\n",
       "      <td>True</td>\n",
       "    </tr>\n",
       "    <tr>\n",
       "      <th>3</th>\n",
       "      <td>True</td>\n",
       "      <td>False</td>\n",
       "      <td>False</td>\n",
       "      <td>False</td>\n",
       "      <td>False</td>\n",
       "      <td>False</td>\n",
       "      <td>False</td>\n",
       "      <td>False</td>\n",
       "      <td>False</td>\n",
       "      <td>False</td>\n",
       "    </tr>\n",
       "    <tr>\n",
       "      <th>4</th>\n",
       "      <td>False</td>\n",
       "      <td>True</td>\n",
       "      <td>False</td>\n",
       "      <td>False</td>\n",
       "      <td>False</td>\n",
       "      <td>False</td>\n",
       "      <td>False</td>\n",
       "      <td>False</td>\n",
       "      <td>False</td>\n",
       "      <td>False</td>\n",
       "    </tr>\n",
       "  </tbody>\n",
       "</table>\n",
       "</div>"
      ],
      "text/plain": [
       "   Outlet_Identifier_OUT010  Outlet_Identifier_OUT013  \\\n",
       "0                     False                     False   \n",
       "1                     False                     False   \n",
       "2                     False                     False   \n",
       "3                      True                     False   \n",
       "4                     False                      True   \n",
       "\n",
       "   Outlet_Identifier_OUT017  Outlet_Identifier_OUT018  \\\n",
       "0                     False                     False   \n",
       "1                     False                      True   \n",
       "2                     False                     False   \n",
       "3                     False                     False   \n",
       "4                     False                     False   \n",
       "\n",
       "   Outlet_Identifier_OUT019  Outlet_Identifier_OUT027  \\\n",
       "0                     False                     False   \n",
       "1                     False                     False   \n",
       "2                     False                     False   \n",
       "3                     False                     False   \n",
       "4                     False                     False   \n",
       "\n",
       "   Outlet_Identifier_OUT035  Outlet_Identifier_OUT045  \\\n",
       "0                     False                     False   \n",
       "1                     False                     False   \n",
       "2                     False                     False   \n",
       "3                     False                     False   \n",
       "4                     False                     False   \n",
       "\n",
       "   Outlet_Identifier_OUT046  Outlet_Identifier_OUT049  \n",
       "0                     False                      True  \n",
       "1                     False                     False  \n",
       "2                     False                      True  \n",
       "3                     False                     False  \n",
       "4                     False                     False  "
      ]
     },
     "execution_count": 139,
     "metadata": {},
     "output_type": "execute_result"
    }
   ],
   "source": [
    "# pd.get_dummies:\n",
    "pd.get_dummies(df,columns=['Outlet_Identifier']).iloc[:,-10::].head()"
   ]
  },
  {
   "cell_type": "code",
   "execution_count": 140,
   "id": "b6e50724",
   "metadata": {},
   "outputs": [
    {
     "data": {
      "text/plain": [
       "0        0.109124\n",
       "1        0.108843\n",
       "2        0.109124\n",
       "3        0.065123\n",
       "4        0.109335\n",
       "           ...   \n",
       "14199    0.109124\n",
       "14200    0.108843\n",
       "14201    0.108983\n",
       "14202    0.108631\n",
       "14203    0.108983\n",
       "Name: Outlet_Identifier, Length: 14204, dtype: float64"
      ]
     },
     "execution_count": 140,
     "metadata": {},
     "output_type": "execute_result"
    }
   ],
   "source": [
    "# frequecncy Encoding:\n",
    "\n",
    "freq_value = df.groupby('Outlet_Identifier').size()/len(df)\n",
    "freq_value = df['Outlet_Identifier'].value_counts(normalize=True)\n",
    "freq_dict = freq_value.to_dict()\n",
    "df['Outlet_Identifier'].replace(freq_dict)"
   ]
  },
  {
   "cell_type": "code",
   "execution_count": 141,
   "id": "17dbea69",
   "metadata": {},
   "outputs": [
    {
     "data": {
      "text/plain": [
       "Outlet_Identifier\n",
       "OUT027    0.109758\n",
       "OUT013    0.109335\n",
       "OUT049    0.109124\n",
       "OUT046    0.109124\n",
       "OUT035    0.109124\n",
       "OUT045    0.108983\n",
       "OUT018    0.108843\n",
       "OUT017    0.108631\n",
       "OUT010    0.065123\n",
       "OUT019    0.061954\n",
       "Name: proportion, dtype: float64"
      ]
     },
     "execution_count": 141,
     "metadata": {},
     "output_type": "execute_result"
    }
   ],
   "source": [
    "df['Outlet_Identifier'].value_counts(normalize=True)"
   ]
  },
  {
   "cell_type": "code",
   "execution_count": 142,
   "id": "2b4e9694",
   "metadata": {},
   "outputs": [
    {
     "data": {
      "text/plain": [
       "{'OUT027': 0.10975781470008449,\n",
       " 'OUT013': 0.1093353984793016,\n",
       " 'OUT049': 0.10912419036891016,\n",
       " 'OUT046': 0.10912419036891016,\n",
       " 'OUT035': 0.10912419036891016,\n",
       " 'OUT045': 0.10898338496198254,\n",
       " 'OUT018': 0.10884257955505491,\n",
       " 'OUT017': 0.10863137144466348,\n",
       " 'OUT010': 0.06512250070402703,\n",
       " 'OUT019': 0.06195437904815545}"
      ]
     },
     "execution_count": 142,
     "metadata": {},
     "output_type": "execute_result"
    }
   ],
   "source": [
    "df['Outlet_Identifier'].value_counts(normalize=True).to_dict()"
   ]
  },
  {
   "cell_type": "code",
   "execution_count": 143,
   "id": "3e11d3ed",
   "metadata": {},
   "outputs": [
    {
     "data": {
      "text/plain": [
       "0        0.109124\n",
       "1        0.108843\n",
       "2        0.109124\n",
       "3        0.065123\n",
       "4        0.109335\n",
       "           ...   \n",
       "14199    0.109124\n",
       "14200    0.108843\n",
       "14201    0.108983\n",
       "14202    0.108631\n",
       "14203    0.108983\n",
       "Name: Outlet_Identifier, Length: 14204, dtype: float64"
      ]
     },
     "execution_count": 143,
     "metadata": {},
     "output_type": "execute_result"
    }
   ],
   "source": [
    "df['Outlet_Identifier'].replace(freq_dict)"
   ]
  },
  {
   "cell_type": "code",
   "execution_count": 144,
   "id": "a116df81",
   "metadata": {},
   "outputs": [
    {
     "name": "stdout",
     "output_type": "stream",
     "text": [
      "Item_Identifier\n",
      "DRA12    0.000634\n",
      "DRA24    0.000704\n",
      "DRA59    0.000704\n",
      "DRB01    0.000563\n",
      "DRB13    0.000634\n",
      "           ...   \n",
      "NCZ30    0.000704\n",
      "NCZ41    0.000563\n",
      "NCZ42    0.000704\n",
      "NCZ53    0.000634\n",
      "NCZ54    0.000704\n",
      "Length: 1559, dtype: float64\n",
      "{'DRA12': 0.0006336243311743171, 'DRA24': 0.0007040270346381301, 'DRA59': 0.0007040270346381301, 'DRB01': 0.000563221627710504, 'DRB13': 0.0006336243311743171, 'DRB24': 0.000563221627710504, 'DRB25': 0.0007040270346381301, 'DRB48': 0.0006336243311743171, 'DRC01': 0.0006336243311743171, 'DRC12': 0.000563221627710504, 'DRC13': 0.000563221627710504, 'DRC24': 0.0006336243311743171, 'DRC25': 0.0007040270346381301, 'DRC27': 0.0007040270346381301, 'DRC36': 0.0007040270346381301, 'DRC49': 0.0006336243311743171, 'DRD01': 0.0006336243311743171, 'DRD12': 0.000563221627710504, 'DRD13': 0.000563221627710504, 'DRD15': 0.0007040270346381301, 'DRD24': 0.0007040270346381301, 'DRD25': 0.0007040270346381301, 'DRD27': 0.0006336243311743171, 'DRD37': 0.0006336243311743171, 'DRD49': 0.000563221627710504, 'DRD60': 0.0006336243311743171, 'DRE01': 0.0006336243311743171, 'DRE03': 0.0006336243311743171, 'DRE12': 0.000563221627710504, 'DRE13': 0.0007040270346381301, 'DRE15': 0.0007040270346381301, 'DRE25': 0.0006336243311743171, 'DRE27': 0.0006336243311743171, 'DRE37': 0.0006336243311743171, 'DRE48': 0.0006336243311743171, 'DRE49': 0.0006336243311743171, 'DRE60': 0.0006336243311743171, 'DRF01': 0.0007040270346381301, 'DRF03': 0.0006336243311743171, 'DRF13': 0.0006336243311743171, 'DRF15': 0.0007040270346381301, 'DRF23': 0.0006336243311743171, 'DRF25': 0.0006336243311743171, 'DRF27': 0.0006336243311743171, 'DRF36': 0.0006336243311743171, 'DRF37': 0.0006336243311743171, 'DRF48': 0.0006336243311743171, 'DRF49': 0.0006336243311743171, 'DRF51': 0.000563221627710504, 'DRF60': 0.000563221627710504, 'DRG01': 0.0006336243311743171, 'DRG03': 0.0006336243311743171, 'DRG11': 0.0006336243311743171, 'DRG13': 0.000563221627710504, 'DRG15': 0.000563221627710504, 'DRG23': 0.0006336243311743171, 'DRG25': 0.000563221627710504, 'DRG27': 0.0006336243311743171, 'DRG36': 0.000563221627710504, 'DRG37': 0.0007040270346381301, 'DRG39': 0.000563221627710504, 'DRG48': 0.0007040270346381301, 'DRG49': 0.0007040270346381301, 'DRG51': 0.0006336243311743171, 'DRH01': 0.0006336243311743171, 'DRH03': 0.0007040270346381301, 'DRH11': 0.0007040270346381301, 'DRH13': 0.0006336243311743171, 'DRH15': 0.0006336243311743171, 'DRH23': 0.0007040270346381301, 'DRH25': 0.0006336243311743171, 'DRH36': 0.0006336243311743171, 'DRH37': 0.0007040270346381301, 'DRH39': 0.0007040270346381301, 'DRH49': 0.0007040270346381301, 'DRH51': 0.0006336243311743171, 'DRH59': 0.0006336243311743171, 'DRI01': 0.0006336243311743171, 'DRI03': 0.0007040270346381301, 'DRI11': 0.0007040270346381301, 'DRI13': 0.000563221627710504, 'DRI23': 0.000563221627710504, 'DRI25': 0.0006336243311743171, 'DRI37': 0.0006336243311743171, 'DRI39': 0.0006336243311743171, 'DRI47': 0.0007040270346381301, 'DRI49': 0.000563221627710504, 'DRI51': 0.0006336243311743171, 'DRI59': 0.000563221627710504, 'DRJ01': 0.0006336243311743171, 'DRJ11': 0.0006336243311743171, 'DRJ13': 0.0006336243311743171, 'DRJ23': 0.0006336243311743171, 'DRJ24': 0.0007040270346381301, 'DRJ25': 0.0006336243311743171, 'DRJ35': 0.000563221627710504, 'DRJ37': 0.000563221627710504, 'DRJ39': 0.0006336243311743171, 'DRJ47': 0.0007040270346381301, 'DRJ49': 0.000563221627710504, 'DRJ51': 0.0006336243311743171, 'DRJ59': 0.0006336243311743171, 'DRK01': 0.0006336243311743171, 'DRK11': 0.000563221627710504, 'DRK12': 0.0006336243311743171, 'DRK13': 0.0007040270346381301, 'DRK23': 0.0006336243311743171, 'DRK35': 0.0007040270346381301, 'DRK37': 0.0007040270346381301, 'DRK39': 0.0006336243311743171, 'DRK47': 0.0006336243311743171, 'DRK49': 0.0007040270346381301, 'DRK59': 0.0007040270346381301, 'DRL01': 0.0007040270346381301, 'DRL11': 0.0006336243311743171, 'DRL23': 0.0006336243311743171, 'DRL35': 0.0006336243311743171, 'DRL37': 0.0006336243311743171, 'DRL47': 0.0006336243311743171, 'DRL49': 0.0007040270346381301, 'DRL59': 0.0006336243311743171, 'DRL60': 0.0007040270346381301, 'DRM11': 0.0007040270346381301, 'DRM23': 0.0006336243311743171, 'DRM35': 0.000563221627710504, 'DRM37': 0.0007040270346381301, 'DRM47': 0.0006336243311743171, 'DRM48': 0.0006336243311743171, 'DRM49': 0.000563221627710504, 'DRM59': 0.0006336243311743171, 'DRN11': 0.0004928189242466911, 'DRN35': 0.0006336243311743171, 'DRN36': 0.0006336243311743171, 'DRN37': 0.0007040270346381301, 'DRN47': 0.0007040270346381301, 'DRN59': 0.000563221627710504, 'DRO35': 0.0006336243311743171, 'DRO47': 0.0006336243311743171, 'DRO59': 0.0006336243311743171, 'DRP35': 0.0006336243311743171, 'DRP47': 0.0007040270346381301, 'DRQ35': 0.0006336243311743171, 'DRY23': 0.0006336243311743171, 'DRZ11': 0.000563221627710504, 'DRZ24': 0.0007040270346381301, 'FDA01': 0.0006336243311743171, 'FDA02': 0.0007040270346381301, 'FDA03': 0.0006336243311743171, 'FDA04': 0.000563221627710504, 'FDA07': 0.0007040270346381301, 'FDA08': 0.0006336243311743171, 'FDA09': 0.0006336243311743171, 'FDA10': 0.000563221627710504, 'FDA11': 0.000563221627710504, 'FDA13': 0.0007040270346381301, 'FDA14': 0.0006336243311743171, 'FDA15': 0.0006336243311743171, 'FDA16': 0.000563221627710504, 'FDA19': 0.0006336243311743171, 'FDA20': 0.000563221627710504, 'FDA21': 0.000563221627710504, 'FDA22': 0.0006336243311743171, 'FDA23': 0.0006336243311743171, 'FDA25': 0.0006336243311743171, 'FDA26': 0.0006336243311743171, 'FDA27': 0.0006336243311743171, 'FDA28': 0.0007040270346381301, 'FDA31': 0.0006336243311743171, 'FDA32': 0.0007040270346381301, 'FDA33': 0.000563221627710504, 'FDA34': 0.000563221627710504, 'FDA35': 0.000563221627710504, 'FDA36': 0.0006336243311743171, 'FDA37': 0.0006336243311743171, 'FDA38': 0.0007040270346381301, 'FDA39': 0.0007040270346381301, 'FDA40': 0.0006336243311743171, 'FDA43': 0.0007040270346381301, 'FDA44': 0.0006336243311743171, 'FDA45': 0.000563221627710504, 'FDA46': 0.0006336243311743171, 'FDA47': 0.0006336243311743171, 'FDA48': 0.000563221627710504, 'FDA49': 0.0007040270346381301, 'FDA50': 0.0007040270346381301, 'FDA51': 0.000563221627710504, 'FDA52': 0.0007040270346381301, 'FDA55': 0.0006336243311743171, 'FDA56': 0.0006336243311743171, 'FDA57': 0.000563221627710504, 'FDA58': 0.000563221627710504, 'FDB02': 0.000563221627710504, 'FDB03': 0.0007040270346381301, 'FDB04': 0.0007040270346381301, 'FDB05': 0.0006336243311743171, 'FDB08': 0.0006336243311743171, 'FDB09': 0.0006336243311743171, 'FDB10': 0.000563221627710504, 'FDB11': 0.0006336243311743171, 'FDB12': 0.000563221627710504, 'FDB14': 0.0007040270346381301, 'FDB15': 0.0006336243311743171, 'FDB16': 0.000563221627710504, 'FDB17': 0.0007040270346381301, 'FDB20': 0.0007040270346381301, 'FDB21': 0.0006336243311743171, 'FDB22': 0.0006336243311743171, 'FDB23': 0.0007040270346381301, 'FDB26': 0.000563221627710504, 'FDB27': 0.0006336243311743171, 'FDB28': 0.0006336243311743171, 'FDB29': 0.000563221627710504, 'FDB32': 0.0007040270346381301, 'FDB33': 0.0006336243311743171, 'FDB34': 0.0006336243311743171, 'FDB35': 0.0007040270346381301, 'FDB36': 0.000563221627710504, 'FDB37': 0.000563221627710504, 'FDB38': 0.0007040270346381301, 'FDB39': 0.0006336243311743171, 'FDB40': 0.000563221627710504, 'FDB41': 0.0007040270346381301, 'FDB44': 0.0006336243311743171, 'FDB45': 0.0006336243311743171, 'FDB46': 0.000563221627710504, 'FDB47': 0.0006336243311743171, 'FDB49': 0.0006336243311743171, 'FDB50': 0.0006336243311743171, 'FDB51': 0.000563221627710504, 'FDB52': 0.0006336243311743171, 'FDB53': 0.0006336243311743171, 'FDB56': 0.000563221627710504, 'FDB57': 0.0006336243311743171, 'FDB58': 0.0007040270346381301, 'FDB59': 0.0006336243311743171, 'FDB60': 0.0007040270346381301, 'FDC02': 0.0006336243311743171, 'FDC03': 0.0006336243311743171, 'FDC04': 0.0006336243311743171, 'FDC05': 0.0006336243311743171, 'FDC08': 0.0006336243311743171, 'FDC09': 0.000563221627710504, 'FDC10': 0.0007040270346381301, 'FDC11': 0.000563221627710504, 'FDC14': 0.0007040270346381301, 'FDC15': 0.0006336243311743171, 'FDC16': 0.000563221627710504, 'FDC17': 0.0006336243311743171, 'FDC20': 0.0007040270346381301, 'FDC21': 0.0007040270346381301, 'FDC22': 0.0007040270346381301, 'FDC23': 0.000563221627710504, 'FDC26': 0.0006336243311743171, 'FDC28': 0.0007040270346381301, 'FDC29': 0.000563221627710504, 'FDC32': 0.0007040270346381301, 'FDC33': 0.0006336243311743171, 'FDC34': 0.0006336243311743171, 'FDC35': 0.0007040270346381301, 'FDC37': 0.0007040270346381301, 'FDC38': 0.000563221627710504, 'FDC39': 0.000563221627710504, 'FDC40': 0.000563221627710504, 'FDC41': 0.0007040270346381301, 'FDC44': 0.0006336243311743171, 'FDC45': 0.0006336243311743171, 'FDC46': 0.0006336243311743171, 'FDC47': 0.0007040270346381301, 'FDC48': 0.0006336243311743171, 'FDC50': 0.0007040270346381301, 'FDC51': 0.0006336243311743171, 'FDC52': 0.0006336243311743171, 'FDC53': 0.0007040270346381301, 'FDC56': 0.0006336243311743171, 'FDC57': 0.0007040270346381301, 'FDC58': 0.000563221627710504, 'FDC59': 0.0007040270346381301, 'FDC60': 0.0007040270346381301, 'FDD02': 0.0007040270346381301, 'FDD03': 0.000563221627710504, 'FDD04': 0.0006336243311743171, 'FDD05': 0.0007040270346381301, 'FDD08': 0.0007040270346381301, 'FDD09': 0.0006336243311743171, 'FDD10': 0.0006336243311743171, 'FDD11': 0.0006336243311743171, 'FDD14': 0.0007040270346381301, 'FDD16': 0.0007040270346381301, 'FDD17': 0.0007040270346381301, 'FDD20': 0.0006336243311743171, 'FDD21': 0.000563221627710504, 'FDD22': 0.0006336243311743171, 'FDD23': 0.000563221627710504, 'FDD26': 0.0006336243311743171, 'FDD28': 0.0006336243311743171, 'FDD29': 0.0006336243311743171, 'FDD32': 0.0006336243311743171, 'FDD33': 0.0006336243311743171, 'FDD34': 0.000563221627710504, 'FDD35': 0.000563221627710504, 'FDD36': 0.0006336243311743171, 'FDD38': 0.0007040270346381301, 'FDD39': 0.0006336243311743171, 'FDD40': 0.0006336243311743171, 'FDD41': 0.000563221627710504, 'FDD44': 0.000563221627710504, 'FDD45': 0.0007040270346381301, 'FDD46': 0.0007040270346381301, 'FDD47': 0.0007040270346381301, 'FDD48': 0.0006336243311743171, 'FDD50': 0.000563221627710504, 'FDD51': 0.0007040270346381301, 'FDD52': 0.000563221627710504, 'FDD53': 0.0007040270346381301, 'FDD56': 0.0007040270346381301, 'FDD57': 0.0006336243311743171, 'FDD58': 0.0007040270346381301, 'FDD59': 0.000563221627710504, 'FDE02': 0.0007040270346381301, 'FDE04': 0.0006336243311743171, 'FDE05': 0.0006336243311743171, 'FDE08': 0.0006336243311743171, 'FDE09': 0.0007040270346381301, 'FDE10': 0.0006336243311743171, 'FDE11': 0.0007040270346381301, 'FDE14': 0.000563221627710504, 'FDE16': 0.0007040270346381301, 'FDE17': 0.0007040270346381301, 'FDE20': 0.000563221627710504, 'FDE21': 0.0007040270346381301, 'FDE22': 0.0007040270346381301, 'FDE23': 0.0006336243311743171, 'FDE24': 0.0007040270346381301, 'FDE26': 0.0007040270346381301, 'FDE28': 0.0007040270346381301, 'FDE29': 0.0006336243311743171, 'FDE32': 0.000563221627710504, 'FDE33': 0.0007040270346381301, 'FDE34': 0.0007040270346381301, 'FDE35': 0.0007040270346381301, 'FDE36': 0.0007040270346381301, 'FDE38': 0.0006336243311743171, 'FDE39': 0.0006336243311743171, 'FDE40': 0.0006336243311743171, 'FDE41': 0.0006336243311743171, 'FDE44': 0.0006336243311743171, 'FDE45': 0.0007040270346381301, 'FDE46': 0.0006336243311743171, 'FDE47': 0.0006336243311743171, 'FDE50': 0.0006336243311743171, 'FDE51': 0.0006336243311743171, 'FDE52': 0.000563221627710504, 'FDE53': 0.0007040270346381301, 'FDE56': 0.0006336243311743171, 'FDE57': 0.000563221627710504, 'FDE58': 0.000563221627710504, 'FDE59': 0.0006336243311743171, 'FDF02': 0.000563221627710504, 'FDF04': 0.0006336243311743171, 'FDF05': 0.0006336243311743171, 'FDF08': 0.0007040270346381301, 'FDF09': 0.0006336243311743171, 'FDF10': 0.000563221627710504, 'FDF11': 0.0006336243311743171, 'FDF12': 0.000563221627710504, 'FDF14': 0.000563221627710504, 'FDF16': 0.0007040270346381301, 'FDF17': 0.0006336243311743171, 'FDF20': 0.0007040270346381301, 'FDF21': 0.0007040270346381301, 'FDF22': 0.0007040270346381301, 'FDF24': 0.0006336243311743171, 'FDF26': 0.0006336243311743171, 'FDF28': 0.0007040270346381301, 'FDF29': 0.0006336243311743171, 'FDF32': 0.0006336243311743171, 'FDF33': 0.0006336243311743171, 'FDF34': 0.0006336243311743171, 'FDF35': 0.000563221627710504, 'FDF38': 0.000563221627710504, 'FDF39': 0.0006336243311743171, 'FDF40': 0.0006336243311743171, 'FDF41': 0.0007040270346381301, 'FDF44': 0.0006336243311743171, 'FDF45': 0.000563221627710504, 'FDF46': 0.0006336243311743171, 'FDF47': 0.000563221627710504, 'FDF50': 0.000563221627710504, 'FDF52': 0.0007040270346381301, 'FDF53': 0.000563221627710504, 'FDF56': 0.0007040270346381301, 'FDF57': 0.0006336243311743171, 'FDF58': 0.0007040270346381301, 'FDF59': 0.0007040270346381301, 'FDG02': 0.0006336243311743171, 'FDG04': 0.0006336243311743171, 'FDG05': 0.000563221627710504, 'FDG08': 0.0006336243311743171, 'FDG09': 0.0007040270346381301, 'FDG10': 0.0007040270346381301, 'FDG12': 0.0006336243311743171, 'FDG14': 0.000563221627710504, 'FDG16': 0.0006336243311743171, 'FDG17': 0.0006336243311743171, 'FDG20': 0.0006336243311743171, 'FDG21': 0.000563221627710504, 'FDG22': 0.0006336243311743171, 'FDG24': 0.000563221627710504, 'FDG26': 0.0006336243311743171, 'FDG28': 0.0006336243311743171, 'FDG29': 0.000563221627710504, 'FDG31': 0.0007040270346381301, 'FDG32': 0.0006336243311743171, 'FDG33': 0.0007040270346381301, 'FDG34': 0.0006336243311743171, 'FDG35': 0.0006336243311743171, 'FDG38': 0.0006336243311743171, 'FDG40': 0.0007040270346381301, 'FDG41': 0.000563221627710504, 'FDG44': 0.0006336243311743171, 'FDG45': 0.0006336243311743171, 'FDG46': 0.0007040270346381301, 'FDG47': 0.0007040270346381301, 'FDG50': 0.0006336243311743171, 'FDG52': 0.000563221627710504, 'FDG53': 0.0006336243311743171, 'FDG56': 0.0006336243311743171, 'FDG57': 0.0006336243311743171, 'FDG58': 0.0006336243311743171, 'FDG59': 0.0006336243311743171, 'FDG60': 0.0006336243311743171, 'FDH02': 0.0006336243311743171, 'FDH04': 0.0007040270346381301, 'FDH05': 0.0006336243311743171, 'FDH08': 0.0007040270346381301, 'FDH09': 0.000563221627710504, 'FDH10': 0.0007040270346381301, 'FDH12': 0.0007040270346381301, 'FDH14': 0.0007040270346381301, 'FDH16': 0.0006336243311743171, 'FDH17': 0.0006336243311743171, 'FDH19': 0.0006336243311743171, 'FDH20': 0.0006336243311743171, 'FDH21': 0.0007040270346381301, 'FDH22': 0.000563221627710504, 'FDH24': 0.0006336243311743171, 'FDH26': 0.0006336243311743171, 'FDH27': 0.0007040270346381301, 'FDH28': 0.0007040270346381301, 'FDH31': 0.0007040270346381301, 'FDH32': 0.0007040270346381301, 'FDH33': 0.0006336243311743171, 'FDH34': 0.0006336243311743171, 'FDH35': 0.0006336243311743171, 'FDH38': 0.0006336243311743171, 'FDH40': 0.0007040270346381301, 'FDH41': 0.0007040270346381301, 'FDH44': 0.0006336243311743171, 'FDH45': 0.0006336243311743171, 'FDH46': 0.0006336243311743171, 'FDH47': 0.0006336243311743171, 'FDH48': 0.0007040270346381301, 'FDH50': 0.000563221627710504, 'FDH52': 0.0007040270346381301, 'FDH53': 0.0006336243311743171, 'FDH56': 0.0007040270346381301, 'FDH57': 0.0007040270346381301, 'FDH58': 0.0004928189242466911, 'FDH60': 0.0006336243311743171, 'FDI02': 0.000563221627710504, 'FDI04': 0.0007040270346381301, 'FDI05': 0.0006336243311743171, 'FDI07': 0.0006336243311743171, 'FDI08': 0.000563221627710504, 'FDI09': 0.000563221627710504, 'FDI10': 0.000563221627710504, 'FDI12': 0.000563221627710504, 'FDI14': 0.000563221627710504, 'FDI15': 0.0007040270346381301, 'FDI16': 0.0007040270346381301, 'FDI19': 0.000563221627710504, 'FDI20': 0.0007040270346381301, 'FDI21': 0.0006336243311743171, 'FDI22': 0.0007040270346381301, 'FDI24': 0.0006336243311743171, 'FDI26': 0.0006336243311743171, 'FDI27': 0.0006336243311743171, 'FDI28': 0.0006336243311743171, 'FDI32': 0.0007040270346381301, 'FDI33': 0.000563221627710504, 'FDI34': 0.0006336243311743171, 'FDI35': 0.000563221627710504, 'FDI36': 0.0006336243311743171, 'FDI38': 0.0006336243311743171, 'FDI40': 0.0006336243311743171, 'FDI41': 0.0007040270346381301, 'FDI44': 0.000563221627710504, 'FDI45': 0.0006336243311743171, 'FDI46': 0.0004928189242466911, 'FDI48': 0.0006336243311743171, 'FDI50': 0.0006336243311743171, 'FDI52': 0.000563221627710504, 'FDI53': 0.0007040270346381301, 'FDI56': 0.0007040270346381301, 'FDI57': 0.000563221627710504, 'FDI58': 0.000563221627710504, 'FDI60': 0.0006336243311743171, 'FDJ02': 0.0007040270346381301, 'FDJ03': 0.0006336243311743171, 'FDJ04': 0.000563221627710504, 'FDJ07': 0.0006336243311743171, 'FDJ08': 0.0006336243311743171, 'FDJ09': 0.000563221627710504, 'FDJ10': 0.0007040270346381301, 'FDJ12': 0.0006336243311743171, 'FDJ14': 0.0006336243311743171, 'FDJ15': 0.0006336243311743171, 'FDJ16': 0.000563221627710504, 'FDJ20': 0.0007040270346381301, 'FDJ21': 0.000563221627710504, 'FDJ22': 0.0006336243311743171, 'FDJ26': 0.0007040270346381301, 'FDJ27': 0.000563221627710504, 'FDJ28': 0.0006336243311743171, 'FDJ32': 0.0006336243311743171, 'FDJ33': 0.0007040270346381301, 'FDJ34': 0.000563221627710504, 'FDJ36': 0.0006336243311743171, 'FDJ38': 0.0006336243311743171, 'FDJ40': 0.000563221627710504, 'FDJ41': 0.0007040270346381301, 'FDJ44': 0.0006336243311743171, 'FDJ45': 0.0006336243311743171, 'FDJ46': 0.000563221627710504, 'FDJ48': 0.0006336243311743171, 'FDJ50': 0.0006336243311743171, 'FDJ52': 0.000563221627710504, 'FDJ53': 0.0007040270346381301, 'FDJ55': 0.0006336243311743171, 'FDJ56': 0.0006336243311743171, 'FDJ57': 0.0007040270346381301, 'FDJ58': 0.0007040270346381301, 'FDJ60': 0.0006336243311743171, 'FDK02': 0.0007040270346381301, 'FDK03': 0.0006336243311743171, 'FDK04': 0.0006336243311743171, 'FDK08': 0.0007040270346381301, 'FDK09': 0.0007040270346381301, 'FDK10': 0.000563221627710504, 'FDK14': 0.000563221627710504, 'FDK15': 0.0007040270346381301, 'FDK16': 0.0006336243311743171, 'FDK20': 0.0006336243311743171, 'FDK21': 0.0006336243311743171, 'FDK22': 0.000563221627710504, 'FDK24': 0.0006336243311743171, 'FDK25': 0.0006336243311743171, 'FDK26': 0.0007040270346381301, 'FDK27': 0.0006336243311743171, 'FDK28': 0.0006336243311743171, 'FDK32': 0.000563221627710504, 'FDK33': 0.0007040270346381301, 'FDK34': 0.0006336243311743171, 'FDK36': 0.0006336243311743171, 'FDK38': 0.0007040270346381301, 'FDK40': 0.0006336243311743171, 'FDK41': 0.0007040270346381301, 'FDK43': 0.0006336243311743171, 'FDK44': 0.0006336243311743171, 'FDK45': 0.0006336243311743171, 'FDK46': 0.0006336243311743171, 'FDK48': 0.0006336243311743171, 'FDK50': 0.0006336243311743171, 'FDK51': 0.0006336243311743171, 'FDK52': 0.0007040270346381301, 'FDK55': 0.0006336243311743171, 'FDK56': 0.0007040270346381301, 'FDK57': 0.0006336243311743171, 'FDK58': 0.0006336243311743171, 'FDK60': 0.000563221627710504, 'FDL02': 0.0006336243311743171, 'FDL03': 0.0006336243311743171, 'FDL04': 0.0006336243311743171, 'FDL08': 0.000563221627710504, 'FDL09': 0.0007040270346381301, 'FDL10': 0.000563221627710504, 'FDL12': 0.0007040270346381301, 'FDL13': 0.0007040270346381301, 'FDL14': 0.0007040270346381301, 'FDL15': 0.0007040270346381301, 'FDL16': 0.0007040270346381301, 'FDL20': 0.0006336243311743171, 'FDL21': 0.0006336243311743171, 'FDL22': 0.0006336243311743171, 'FDL24': 0.000563221627710504, 'FDL25': 0.000563221627710504, 'FDL26': 0.0006336243311743171, 'FDL27': 0.0006336243311743171, 'FDL28': 0.000563221627710504, 'FDL32': 0.0006336243311743171, 'FDL33': 0.0006336243311743171, 'FDL34': 0.000563221627710504, 'FDL36': 0.0007040270346381301, 'FDL38': 0.0007040270346381301, 'FDL39': 0.0007040270346381301, 'FDL40': 0.0007040270346381301, 'FDL43': 0.0006336243311743171, 'FDL44': 0.0006336243311743171, 'FDL45': 0.0007040270346381301, 'FDL46': 0.0007040270346381301, 'FDL48': 0.0006336243311743171, 'FDL50': 0.0004928189242466911, 'FDL51': 0.0006336243311743171, 'FDL52': 0.0007040270346381301, 'FDL56': 0.0006336243311743171, 'FDL57': 0.0006336243311743171, 'FDL58': 0.0007040270346381301, 'FDM01': 0.000563221627710504, 'FDM02': 0.0006336243311743171, 'FDM03': 0.000563221627710504, 'FDM04': 0.0006336243311743171, 'FDM08': 0.0006336243311743171, 'FDM09': 0.0007040270346381301, 'FDM10': 0.0004928189242466911, 'FDM12': 0.0007040270346381301, 'FDM13': 0.0006336243311743171, 'FDM14': 0.000563221627710504, 'FDM15': 0.0006336243311743171, 'FDM16': 0.000563221627710504, 'FDM20': 0.0007040270346381301, 'FDM21': 0.0006336243311743171, 'FDM22': 0.0007040270346381301, 'FDM24': 0.0006336243311743171, 'FDM25': 0.0007040270346381301, 'FDM27': 0.0006336243311743171, 'FDM28': 0.0007040270346381301, 'FDM32': 0.0006336243311743171, 'FDM33': 0.0006336243311743171, 'FDM34': 0.0007040270346381301, 'FDM36': 0.0006336243311743171, 'FDM38': 0.000563221627710504, 'FDM39': 0.0007040270346381301, 'FDM40': 0.0006336243311743171, 'FDM44': 0.0007040270346381301, 'FDM45': 0.000563221627710504, 'FDM46': 0.0007040270346381301, 'FDM50': 0.0004928189242466911, 'FDM51': 0.0007040270346381301, 'FDM52': 0.0004928189242466911, 'FDM56': 0.0007040270346381301, 'FDM57': 0.0006336243311743171, 'FDM58': 0.0006336243311743171, 'FDM60': 0.0007040270346381301, 'FDN01': 0.0007040270346381301, 'FDN02': 0.0006336243311743171, 'FDN03': 0.0007040270346381301, 'FDN04': 0.000563221627710504, 'FDN08': 0.0006336243311743171, 'FDN09': 0.0006336243311743171, 'FDN10': 0.0006336243311743171, 'FDN12': 0.0006336243311743171, 'FDN13': 0.0006336243311743171, 'FDN15': 0.0007040270346381301, 'FDN16': 0.0006336243311743171, 'FDN20': 0.0006336243311743171, 'FDN21': 0.0007040270346381301, 'FDN22': 0.000563221627710504, 'FDN23': 0.000563221627710504, 'FDN24': 0.0006336243311743171, 'FDN25': 0.0006336243311743171, 'FDN27': 0.0006336243311743171, 'FDN28': 0.000563221627710504, 'FDN31': 0.0006336243311743171, 'FDN32': 0.0007040270346381301, 'FDN33': 0.000563221627710504, 'FDN34': 0.0006336243311743171, 'FDN38': 0.0007040270346381301, 'FDN39': 0.0006336243311743171, 'FDN40': 0.000563221627710504, 'FDN44': 0.000563221627710504, 'FDN45': 0.0006336243311743171, 'FDN46': 0.0006336243311743171, 'FDN48': 0.0007040270346381301, 'FDN49': 0.0006336243311743171, 'FDN50': 0.0007040270346381301, 'FDN51': 0.000563221627710504, 'FDN52': 0.0006336243311743171, 'FDN56': 0.0007040270346381301, 'FDN57': 0.0006336243311743171, 'FDN58': 0.000563221627710504, 'FDN60': 0.0006336243311743171, 'FDO01': 0.0007040270346381301, 'FDO03': 0.0006336243311743171, 'FDO04': 0.000563221627710504, 'FDO08': 0.0007040270346381301, 'FDO09': 0.0007040270346381301, 'FDO10': 0.0007040270346381301, 'FDO11': 0.0007040270346381301, 'FDO12': 0.000563221627710504, 'FDO13': 0.0006336243311743171, 'FDO15': 0.0007040270346381301, 'FDO16': 0.0006336243311743171, 'FDO19': 0.0006336243311743171, 'FDO20': 0.0006336243311743171, 'FDO21': 0.0006336243311743171, 'FDO22': 0.000563221627710504, 'FDO23': 0.0006336243311743171, 'FDO24': 0.0007040270346381301, 'FDO25': 0.0006336243311743171, 'FDO27': 0.0007040270346381301, 'FDO28': 0.0006336243311743171, 'FDO31': 0.0007040270346381301, 'FDO32': 0.0006336243311743171, 'FDO33': 0.0004928189242466911, 'FDO34': 0.0006336243311743171, 'FDO36': 0.0007040270346381301, 'FDO37': 0.0006336243311743171, 'FDO38': 0.0006336243311743171, 'FDO39': 0.0006336243311743171, 'FDO40': 0.0006336243311743171, 'FDO44': 0.000563221627710504, 'FDO45': 0.0006336243311743171, 'FDO46': 0.0006336243311743171, 'FDO48': 0.0006336243311743171, 'FDO49': 0.0006336243311743171, 'FDO50': 0.0006336243311743171, 'FDO51': 0.0006336243311743171, 'FDO52': 0.000563221627710504, 'FDO56': 0.0007040270346381301, 'FDO57': 0.0007040270346381301, 'FDO58': 0.0006336243311743171, 'FDO60': 0.0006336243311743171, 'FDP01': 0.0006336243311743171, 'FDP03': 0.0007040270346381301, 'FDP04': 0.0006336243311743171, 'FDP07': 0.0006336243311743171, 'FDP08': 0.000563221627710504, 'FDP09': 0.0007040270346381301, 'FDP10': 0.0007040270346381301, 'FDP11': 0.0007040270346381301, 'FDP12': 0.000563221627710504, 'FDP13': 0.0006336243311743171, 'FDP15': 0.0007040270346381301, 'FDP16': 0.0006336243311743171, 'FDP19': 0.0006336243311743171, 'FDP20': 0.000563221627710504, 'FDP21': 0.0007040270346381301, 'FDP22': 0.000563221627710504, 'FDP23': 0.0007040270346381301, 'FDP24': 0.0006336243311743171, 'FDP25': 0.0007040270346381301, 'FDP26': 0.0006336243311743171, 'FDP27': 0.0007040270346381301, 'FDP28': 0.0006336243311743171, 'FDP31': 0.000563221627710504, 'FDP32': 0.0006336243311743171, 'FDP33': 0.0007040270346381301, 'FDP34': 0.0006336243311743171, 'FDP36': 0.000563221627710504, 'FDP37': 0.0007040270346381301, 'FDP38': 0.0007040270346381301, 'FDP39': 0.0007040270346381301, 'FDP40': 0.0006336243311743171, 'FDP44': 0.0006336243311743171, 'FDP45': 0.0006336243311743171, 'FDP46': 0.0006336243311743171, 'FDP48': 0.0006336243311743171, 'FDP49': 0.0006336243311743171, 'FDP51': 0.0006336243311743171, 'FDP52': 0.0006336243311743171, 'FDP56': 0.0006336243311743171, 'FDP57': 0.0006336243311743171, 'FDP58': 0.0006336243311743171, 'FDP59': 0.0007040270346381301, 'FDP60': 0.000563221627710504, 'FDQ01': 0.000563221627710504, 'FDQ03': 0.0007040270346381301, 'FDQ04': 0.0007040270346381301, 'FDQ07': 0.0006336243311743171, 'FDQ08': 0.0007040270346381301, 'FDQ09': 0.0006336243311743171, 'FDQ10': 0.0006336243311743171, 'FDQ11': 0.0007040270346381301, 'FDQ12': 0.0007040270346381301, 'FDQ13': 0.0006336243311743171, 'FDQ14': 0.0007040270346381301, 'FDQ15': 0.0006336243311743171, 'FDQ16': 0.0006336243311743171, 'FDQ19': 0.0007040270346381301, 'FDQ20': 0.0006336243311743171, 'FDQ21': 0.0006336243311743171, 'FDQ22': 0.000563221627710504, 'FDQ23': 0.0006336243311743171, 'FDQ24': 0.0006336243311743171, 'FDQ25': 0.0006336243311743171, 'FDQ26': 0.0006336243311743171, 'FDQ27': 0.0006336243311743171, 'FDQ28': 0.0007040270346381301, 'FDQ31': 0.0007040270346381301, 'FDQ32': 0.0006336243311743171, 'FDQ33': 0.0006336243311743171, 'FDQ34': 0.0006336243311743171, 'FDQ36': 0.0006336243311743171, 'FDQ37': 0.0007040270346381301, 'FDQ39': 0.0006336243311743171, 'FDQ40': 0.0007040270346381301, 'FDQ44': 0.000563221627710504, 'FDQ45': 0.0007040270346381301, 'FDQ46': 0.000563221627710504, 'FDQ47': 0.0007040270346381301, 'FDQ48': 0.000563221627710504, 'FDQ49': 0.0007040270346381301, 'FDQ51': 0.0006336243311743171, 'FDQ52': 0.0006336243311743171, 'FDQ55': 0.000563221627710504, 'FDQ56': 0.0006336243311743171, 'FDQ57': 0.0006336243311743171, 'FDQ58': 0.0006336243311743171, 'FDQ59': 0.000563221627710504, 'FDQ60': 0.0006336243311743171, 'FDR01': 0.0006336243311743171, 'FDR02': 0.0007040270346381301, 'FDR03': 0.000563221627710504, 'FDR04': 0.0006336243311743171, 'FDR07': 0.0007040270346381301, 'FDR08': 0.000563221627710504, 'FDR09': 0.0007040270346381301, 'FDR10': 0.0006336243311743171, 'FDR11': 0.0006336243311743171, 'FDR12': 0.0007040270346381301, 'FDR13': 0.0007040270346381301, 'FDR14': 0.0007040270346381301, 'FDR15': 0.0007040270346381301, 'FDR16': 0.0007040270346381301, 'FDR19': 0.0007040270346381301, 'FDR20': 0.0006336243311743171, 'FDR21': 0.0007040270346381301, 'FDR22': 0.0006336243311743171, 'FDR23': 0.0007040270346381301, 'FDR24': 0.0006336243311743171, 'FDR25': 0.000563221627710504, 'FDR26': 0.0006336243311743171, 'FDR27': 0.0007040270346381301, 'FDR28': 0.0006336243311743171, 'FDR31': 0.0007040270346381301, 'FDR32': 0.0006336243311743171, 'FDR33': 0.0007040270346381301, 'FDR34': 0.0006336243311743171, 'FDR35': 0.000563221627710504, 'FDR36': 0.0006336243311743171, 'FDR37': 0.0007040270346381301, 'FDR39': 0.000563221627710504, 'FDR40': 0.0006336243311743171, 'FDR43': 0.0006336243311743171, 'FDR44': 0.0006336243311743171, 'FDR45': 0.0006336243311743171, 'FDR46': 0.0007040270346381301, 'FDR47': 0.0007040270346381301, 'FDR48': 0.0007040270346381301, 'FDR49': 0.0006336243311743171, 'FDR51': 0.0004928189242466911, 'FDR52': 0.0007040270346381301, 'FDR55': 0.000563221627710504, 'FDR56': 0.0006336243311743171, 'FDR57': 0.000563221627710504, 'FDR58': 0.0006336243311743171, 'FDR59': 0.0006336243311743171, 'FDR60': 0.000563221627710504, 'FDS01': 0.0007040270346381301, 'FDS02': 0.0006336243311743171, 'FDS03': 0.0007040270346381301, 'FDS04': 0.0006336243311743171, 'FDS07': 0.000563221627710504, 'FDS08': 0.0007040270346381301, 'FDS09': 0.0006336243311743171, 'FDS10': 0.0006336243311743171, 'FDS11': 0.0006336243311743171, 'FDS12': 0.0007040270346381301, 'FDS13': 0.0007040270346381301, 'FDS14': 0.0006336243311743171, 'FDS15': 0.0007040270346381301, 'FDS16': 0.000563221627710504, 'FDS19': 0.0006336243311743171, 'FDS20': 0.000563221627710504, 'FDS21': 0.0007040270346381301, 'FDS22': 0.0004928189242466911, 'FDS23': 0.0006336243311743171, 'FDS24': 0.0006336243311743171, 'FDS25': 0.0007040270346381301, 'FDS26': 0.0006336243311743171, 'FDS27': 0.0006336243311743171, 'FDS28': 0.0006336243311743171, 'FDS31': 0.0006336243311743171, 'FDS32': 0.0007040270346381301, 'FDS33': 0.0007040270346381301, 'FDS34': 0.000563221627710504, 'FDS35': 0.000563221627710504, 'FDS36': 0.000563221627710504, 'FDS37': 0.0006336243311743171, 'FDS39': 0.0006336243311743171, 'FDS40': 0.0007040270346381301, 'FDS43': 0.000563221627710504, 'FDS44': 0.0006336243311743171, 'FDS45': 0.0007040270346381301, 'FDS46': 0.0006336243311743171, 'FDS47': 0.0007040270346381301, 'FDS48': 0.0007040270346381301, 'FDS49': 0.0006336243311743171, 'FDS50': 0.000563221627710504, 'FDS51': 0.000563221627710504, 'FDS52': 0.0007040270346381301, 'FDS55': 0.0007040270346381301, 'FDS56': 0.0006336243311743171, 'FDS57': 0.0006336243311743171, 'FDS58': 0.0006336243311743171, 'FDS59': 0.0007040270346381301, 'FDS60': 0.000563221627710504, 'FDT01': 0.0006336243311743171, 'FDT02': 0.000563221627710504, 'FDT03': 0.0007040270346381301, 'FDT04': 0.0007040270346381301, 'FDT07': 0.0006336243311743171, 'FDT08': 0.0006336243311743171, 'FDT09': 0.0007040270346381301, 'FDT10': 0.0006336243311743171, 'FDT11': 0.0007040270346381301, 'FDT12': 0.0007040270346381301, 'FDT13': 0.0007040270346381301, 'FDT14': 0.0007040270346381301, 'FDT15': 0.0007040270346381301, 'FDT16': 0.0006336243311743171, 'FDT19': 0.0007040270346381301, 'FDT20': 0.0006336243311743171, 'FDT21': 0.0006336243311743171, 'FDT22': 0.0006336243311743171, 'FDT23': 0.0006336243311743171, 'FDT24': 0.0006336243311743171, 'FDT25': 0.0007040270346381301, 'FDT26': 0.000563221627710504, 'FDT27': 0.0007040270346381301, 'FDT28': 0.0006336243311743171, 'FDT31': 0.0007040270346381301, 'FDT32': 0.0007040270346381301, 'FDT33': 0.000563221627710504, 'FDT34': 0.0007040270346381301, 'FDT35': 0.000563221627710504, 'FDT36': 0.0007040270346381301, 'FDT37': 0.0007040270346381301, 'FDT38': 0.000563221627710504, 'FDT39': 0.0007040270346381301, 'FDT40': 0.0006336243311743171, 'FDT43': 0.0007040270346381301, 'FDT44': 0.000563221627710504, 'FDT45': 0.0006336243311743171, 'FDT46': 0.0007040270346381301, 'FDT47': 0.0006336243311743171, 'FDT48': 0.000563221627710504, 'FDT49': 0.0006336243311743171, 'FDT50': 0.0007040270346381301, 'FDT51': 0.0007040270346381301, 'FDT52': 0.0006336243311743171, 'FDT55': 0.0006336243311743171, 'FDT56': 0.0007040270346381301, 'FDT57': 0.0006336243311743171, 'FDT58': 0.0006336243311743171, 'FDT59': 0.0007040270346381301, 'FDT60': 0.0007040270346381301, 'FDU01': 0.0006336243311743171, 'FDU02': 0.0006336243311743171, 'FDU03': 0.0006336243311743171, 'FDU04': 0.0006336243311743171, 'FDU07': 0.0006336243311743171, 'FDU08': 0.000563221627710504, 'FDU09': 0.000563221627710504, 'FDU10': 0.000563221627710504, 'FDU11': 0.0007040270346381301, 'FDU12': 0.0007040270346381301, 'FDU13': 0.0007040270346381301, 'FDU14': 0.0006336243311743171, 'FDU15': 0.0007040270346381301, 'FDU16': 0.000563221627710504, 'FDU19': 0.000563221627710504, 'FDU20': 0.0007040270346381301, 'FDU21': 0.0007040270346381301, 'FDU22': 0.0006336243311743171, 'FDU23': 0.0006336243311743171, 'FDU24': 0.0006336243311743171, 'FDU25': 0.000563221627710504, 'FDU26': 0.0007040270346381301, 'FDU27': 0.0006336243311743171, 'FDU28': 0.0007040270346381301, 'FDU31': 0.0007040270346381301, 'FDU32': 0.0007040270346381301, 'FDU33': 0.0007040270346381301, 'FDU34': 0.000563221627710504, 'FDU35': 0.0006336243311743171, 'FDU36': 0.0006336243311743171, 'FDU37': 0.0006336243311743171, 'FDU38': 0.0007040270346381301, 'FDU39': 0.000563221627710504, 'FDU40': 0.0007040270346381301, 'FDU43': 0.0006336243311743171, 'FDU44': 0.0006336243311743171, 'FDU45': 0.0007040270346381301, 'FDU46': 0.0006336243311743171, 'FDU47': 0.000563221627710504, 'FDU48': 0.0007040270346381301, 'FDU49': 0.000563221627710504, 'FDU50': 0.000563221627710504, 'FDU51': 0.000563221627710504, 'FDU52': 0.0007040270346381301, 'FDU55': 0.000563221627710504, 'FDU56': 0.000563221627710504, 'FDU57': 0.0007040270346381301, 'FDU58': 0.0006336243311743171, 'FDU59': 0.000563221627710504, 'FDU60': 0.0006336243311743171, 'FDV01': 0.0007040270346381301, 'FDV02': 0.000563221627710504, 'FDV03': 0.0006336243311743171, 'FDV04': 0.0006336243311743171, 'FDV07': 0.000563221627710504, 'FDV08': 0.0006336243311743171, 'FDV09': 0.0007040270346381301, 'FDV10': 0.0007040270346381301, 'FDV11': 0.000563221627710504, 'FDV12': 0.0007040270346381301, 'FDV13': 0.000563221627710504, 'FDV14': 0.0006336243311743171, 'FDV15': 0.0006336243311743171, 'FDV16': 0.0006336243311743171, 'FDV19': 0.0007040270346381301, 'FDV20': 0.0007040270346381301, 'FDV21': 0.0007040270346381301, 'FDV22': 0.0006336243311743171, 'FDV23': 0.0007040270346381301, 'FDV24': 0.0006336243311743171, 'FDV25': 0.0006336243311743171, 'FDV26': 0.0006336243311743171, 'FDV27': 0.000563221627710504, 'FDV28': 0.0007040270346381301, 'FDV31': 0.0006336243311743171, 'FDV32': 0.0006336243311743171, 'FDV33': 0.000563221627710504, 'FDV34': 0.0006336243311743171, 'FDV35': 0.0006336243311743171, 'FDV36': 0.0007040270346381301, 'FDV37': 0.0006336243311743171, 'FDV38': 0.0007040270346381301, 'FDV39': 0.0006336243311743171, 'FDV40': 0.0006336243311743171, 'FDV43': 0.0006336243311743171, 'FDV44': 0.000563221627710504, 'FDV45': 0.0006336243311743171, 'FDV46': 0.0006336243311743171, 'FDV47': 0.0006336243311743171, 'FDV48': 0.0006336243311743171, 'FDV49': 0.0006336243311743171, 'FDV50': 0.0006336243311743171, 'FDV51': 0.0006336243311743171, 'FDV52': 0.0007040270346381301, 'FDV55': 0.000563221627710504, 'FDV56': 0.0006336243311743171, 'FDV57': 0.000563221627710504, 'FDV58': 0.0006336243311743171, 'FDV59': 0.0006336243311743171, 'FDV60': 0.0007040270346381301, 'FDW01': 0.0007040270346381301, 'FDW02': 0.0006336243311743171, 'FDW03': 0.0007040270346381301, 'FDW04': 0.000563221627710504, 'FDW07': 0.0006336243311743171, 'FDW08': 0.000563221627710504, 'FDW09': 0.0006336243311743171, 'FDW10': 0.0007040270346381301, 'FDW11': 0.0006336243311743171, 'FDW12': 0.0007040270346381301, 'FDW13': 0.0007040270346381301, 'FDW14': 0.0006336243311743171, 'FDW15': 0.0007040270346381301, 'FDW16': 0.0007040270346381301, 'FDW19': 0.0007040270346381301, 'FDW20': 0.0006336243311743171, 'FDW21': 0.0006336243311743171, 'FDW22': 0.000563221627710504, 'FDW23': 0.0006336243311743171, 'FDW24': 0.0007040270346381301, 'FDW25': 0.0006336243311743171, 'FDW26': 0.0007040270346381301, 'FDW27': 0.0006336243311743171, 'FDW28': 0.0006336243311743171, 'FDW31': 0.000563221627710504, 'FDW32': 0.0007040270346381301, 'FDW33': 0.0006336243311743171, 'FDW34': 0.0007040270346381301, 'FDW35': 0.0006336243311743171, 'FDW36': 0.0006336243311743171, 'FDW37': 0.000563221627710504, 'FDW38': 0.0007040270346381301, 'FDW39': 0.0007040270346381301, 'FDW40': 0.0007040270346381301, 'FDW43': 0.0006336243311743171, 'FDW44': 0.0006336243311743171, 'FDW45': 0.0006336243311743171, 'FDW46': 0.0006336243311743171, 'FDW47': 0.0007040270346381301, 'FDW48': 0.0006336243311743171, 'FDW49': 0.0007040270346381301, 'FDW50': 0.0006336243311743171, 'FDW51': 0.0006336243311743171, 'FDW52': 0.000563221627710504, 'FDW55': 0.0006336243311743171, 'FDW56': 0.0007040270346381301, 'FDW57': 0.000563221627710504, 'FDW58': 0.0006336243311743171, 'FDW59': 0.0006336243311743171, 'FDW60': 0.000563221627710504, 'FDX01': 0.0006336243311743171, 'FDX02': 0.000563221627710504, 'FDX03': 0.0007040270346381301, 'FDX04': 0.0006336243311743171, 'FDX07': 0.0006336243311743171, 'FDX08': 0.0007040270346381301, 'FDX09': 0.0007040270346381301, 'FDX10': 0.0006336243311743171, 'FDX11': 0.000563221627710504, 'FDX12': 0.0006336243311743171, 'FDX13': 0.0007040270346381301, 'FDX14': 0.0006336243311743171, 'FDX15': 0.000563221627710504, 'FDX16': 0.0006336243311743171, 'FDX19': 0.0006336243311743171, 'FDX20': 0.0006336243311743171, 'FDX21': 0.0007040270346381301, 'FDX22': 0.0007040270346381301, 'FDX23': 0.0006336243311743171, 'FDX24': 0.0007040270346381301, 'FDX25': 0.000563221627710504, 'FDX26': 0.0007040270346381301, 'FDX27': 0.0006336243311743171, 'FDX28': 0.0006336243311743171, 'FDX31': 0.0007040270346381301, 'FDX32': 0.0007040270346381301, 'FDX33': 0.000563221627710504, 'FDX34': 0.000563221627710504, 'FDX35': 0.0007040270346381301, 'FDX36': 0.0007040270346381301, 'FDX37': 0.0006336243311743171, 'FDX38': 0.0007040270346381301, 'FDX39': 0.0006336243311743171, 'FDX40': 0.0007040270346381301, 'FDX43': 0.0007040270346381301, 'FDX44': 0.0006336243311743171, 'FDX45': 0.0006336243311743171, 'FDX46': 0.0007040270346381301, 'FDX47': 0.0007040270346381301, 'FDX48': 0.0007040270346381301, 'FDX49': 0.0004928189242466911, 'FDX50': 0.0007040270346381301, 'FDX51': 0.0006336243311743171, 'FDX52': 0.0006336243311743171, 'FDX55': 0.0006336243311743171, 'FDX56': 0.0006336243311743171, 'FDX57': 0.0006336243311743171, 'FDX58': 0.0006336243311743171, 'FDX59': 0.0006336243311743171, 'FDX60': 0.000563221627710504, 'FDY01': 0.000563221627710504, 'FDY02': 0.0007040270346381301, 'FDY03': 0.0007040270346381301, 'FDY04': 0.0006336243311743171, 'FDY07': 0.0006336243311743171, 'FDY08': 0.0007040270346381301, 'FDY09': 0.0007040270346381301, 'FDY10': 0.0006336243311743171, 'FDY11': 0.000563221627710504, 'FDY12': 0.0006336243311743171, 'FDY13': 0.0006336243311743171, 'FDY14': 0.0007040270346381301, 'FDY15': 0.0006336243311743171, 'FDY16': 0.0006336243311743171, 'FDY19': 0.0006336243311743171, 'FDY20': 0.0006336243311743171, 'FDY21': 0.0007040270346381301, 'FDY22': 0.0007040270346381301, 'FDY24': 0.0007040270346381301, 'FDY25': 0.000563221627710504, 'FDY26': 0.0006336243311743171, 'FDY27': 0.000563221627710504, 'FDY28': 0.0007040270346381301, 'FDY31': 0.0007040270346381301, 'FDY32': 0.0007040270346381301, 'FDY33': 0.0006336243311743171, 'FDY34': 0.0006336243311743171, 'FDY35': 0.0007040270346381301, 'FDY36': 0.0007040270346381301, 'FDY37': 0.0006336243311743171, 'FDY38': 0.0006336243311743171, 'FDY39': 0.0007040270346381301, 'FDY40': 0.0007040270346381301, 'FDY43': 0.000563221627710504, 'FDY44': 0.000563221627710504, 'FDY45': 0.0006336243311743171, 'FDY46': 0.000563221627710504, 'FDY47': 0.0007040270346381301, 'FDY48': 0.0006336243311743171, 'FDY49': 0.0006336243311743171, 'FDY50': 0.000563221627710504, 'FDY51': 0.000563221627710504, 'FDY52': 0.0007040270346381301, 'FDY55': 0.0006336243311743171, 'FDY56': 0.0007040270346381301, 'FDY57': 0.000563221627710504, 'FDY58': 0.0007040270346381301, 'FDY59': 0.0006336243311743171, 'FDY60': 0.0006336243311743171, 'FDZ01': 0.0006336243311743171, 'FDZ02': 0.0006336243311743171, 'FDZ03': 0.000563221627710504, 'FDZ04': 0.0006336243311743171, 'FDZ07': 0.0007040270346381301, 'FDZ08': 0.0006336243311743171, 'FDZ09': 0.0006336243311743171, 'FDZ10': 0.0007040270346381301, 'FDZ12': 0.0007040270346381301, 'FDZ13': 0.0006336243311743171, 'FDZ14': 0.0006336243311743171, 'FDZ15': 0.0006336243311743171, 'FDZ16': 0.0007040270346381301, 'FDZ19': 0.0006336243311743171, 'FDZ20': 0.0007040270346381301, 'FDZ21': 0.0006336243311743171, 'FDZ22': 0.0006336243311743171, 'FDZ23': 0.0007040270346381301, 'FDZ25': 0.0006336243311743171, 'FDZ26': 0.0007040270346381301, 'FDZ27': 0.0006336243311743171, 'FDZ28': 0.0007040270346381301, 'FDZ31': 0.000563221627710504, 'FDZ32': 0.0006336243311743171, 'FDZ33': 0.0007040270346381301, 'FDZ34': 0.000563221627710504, 'FDZ35': 0.0006336243311743171, 'FDZ36': 0.0007040270346381301, 'FDZ37': 0.000563221627710504, 'FDZ38': 0.0006336243311743171, 'FDZ39': 0.0006336243311743171, 'FDZ40': 0.0007040270346381301, 'FDZ43': 0.000563221627710504, 'FDZ44': 0.0007040270346381301, 'FDZ45': 0.0007040270346381301, 'FDZ46': 0.000563221627710504, 'FDZ47': 0.0007040270346381301, 'FDZ48': 0.0007040270346381301, 'FDZ49': 0.0006336243311743171, 'FDZ50': 0.0007040270346381301, 'FDZ51': 0.000563221627710504, 'FDZ52': 0.0006336243311743171, 'FDZ55': 0.000563221627710504, 'FDZ56': 0.0007040270346381301, 'FDZ57': 0.0006336243311743171, 'FDZ58': 0.0006336243311743171, 'FDZ59': 0.0007040270346381301, 'FDZ60': 0.000563221627710504, 'NCA05': 0.0006336243311743171, 'NCA06': 0.000563221627710504, 'NCA17': 0.0006336243311743171, 'NCA18': 0.0006336243311743171, 'NCA29': 0.0007040270346381301, 'NCA30': 0.0006336243311743171, 'NCA41': 0.000563221627710504, 'NCA42': 0.0006336243311743171, 'NCA53': 0.0006336243311743171, 'NCA54': 0.0006336243311743171, 'NCB06': 0.0006336243311743171, 'NCB07': 0.0006336243311743171, 'NCB18': 0.0007040270346381301, 'NCB19': 0.0006336243311743171, 'NCB30': 0.0006336243311743171, 'NCB31': 0.0006336243311743171, 'NCB42': 0.000563221627710504, 'NCB43': 0.0006336243311743171, 'NCB54': 0.0006336243311743171, 'NCB55': 0.0006336243311743171, 'NCC06': 0.0007040270346381301, 'NCC07': 0.0007040270346381301, 'NCC18': 0.0007040270346381301, 'NCC19': 0.000563221627710504, 'NCC30': 0.0006336243311743171, 'NCC31': 0.0007040270346381301, 'NCC42': 0.0006336243311743171, 'NCC43': 0.0006336243311743171, 'NCC54': 0.0007040270346381301, 'NCC55': 0.0006336243311743171, 'NCD06': 0.0006336243311743171, 'NCD07': 0.000563221627710504, 'NCD18': 0.000563221627710504, 'NCD19': 0.0006336243311743171, 'NCD30': 0.0006336243311743171, 'NCD31': 0.0006336243311743171, 'NCD42': 0.0006336243311743171, 'NCD43': 0.0007040270346381301, 'NCD54': 0.0006336243311743171, 'NCD55': 0.0006336243311743171, 'NCE06': 0.0007040270346381301, 'NCE07': 0.0007040270346381301, 'NCE18': 0.000563221627710504, 'NCE19': 0.0007040270346381301, 'NCE30': 0.0006336243311743171, 'NCE31': 0.0007040270346381301, 'NCE42': 0.0006336243311743171, 'NCE43': 0.0007040270346381301, 'NCE54': 0.0006336243311743171, 'NCE55': 0.000563221627710504, 'NCF06': 0.0006336243311743171, 'NCF07': 0.000563221627710504, 'NCF18': 0.0007040270346381301, 'NCF19': 0.0007040270346381301, 'NCF30': 0.0007040270346381301, 'NCF31': 0.0006336243311743171, 'NCF42': 0.0007040270346381301, 'NCF43': 0.0006336243311743171, 'NCF54': 0.0007040270346381301, 'NCF55': 0.000563221627710504, 'NCG06': 0.000563221627710504, 'NCG07': 0.0006336243311743171, 'NCG18': 0.0007040270346381301, 'NCG19': 0.000563221627710504, 'NCG30': 0.0006336243311743171, 'NCG42': 0.0006336243311743171, 'NCG43': 0.0007040270346381301, 'NCG54': 0.000563221627710504, 'NCG55': 0.000563221627710504, 'NCH06': 0.0006336243311743171, 'NCH07': 0.0007040270346381301, 'NCH18': 0.0007040270346381301, 'NCH29': 0.0006336243311743171, 'NCH30': 0.0007040270346381301, 'NCH42': 0.0007040270346381301, 'NCH43': 0.0006336243311743171, 'NCH54': 0.0006336243311743171, 'NCH55': 0.0007040270346381301, 'NCI06': 0.0007040270346381301, 'NCI17': 0.0006336243311743171, 'NCI18': 0.000563221627710504, 'NCI29': 0.0006336243311743171, 'NCI30': 0.0007040270346381301, 'NCI31': 0.0007040270346381301, 'NCI42': 0.0006336243311743171, 'NCI43': 0.000563221627710504, 'NCI54': 0.0007040270346381301, 'NCI55': 0.000563221627710504, 'NCJ05': 0.000563221627710504, 'NCJ06': 0.0007040270346381301, 'NCJ17': 0.0007040270346381301, 'NCJ18': 0.0007040270346381301, 'NCJ19': 0.0007040270346381301, 'NCJ29': 0.000563221627710504, 'NCJ30': 0.0007040270346381301, 'NCJ31': 0.0006336243311743171, 'NCJ42': 0.000563221627710504, 'NCJ43': 0.0006336243311743171, 'NCJ54': 0.0006336243311743171, 'NCK05': 0.0007040270346381301, 'NCK06': 0.0006336243311743171, 'NCK07': 0.000563221627710504, 'NCK17': 0.0007040270346381301, 'NCK18': 0.0007040270346381301, 'NCK19': 0.0006336243311743171, 'NCK29': 0.0007040270346381301, 'NCK30': 0.0006336243311743171, 'NCK31': 0.0007040270346381301, 'NCK42': 0.000563221627710504, 'NCK53': 0.0007040270346381301, 'NCK54': 0.0006336243311743171, 'NCL05': 0.0006336243311743171, 'NCL06': 0.0006336243311743171, 'NCL07': 0.0006336243311743171, 'NCL17': 0.0007040270346381301, 'NCL18': 0.0006336243311743171, 'NCL19': 0.0007040270346381301, 'NCL29': 0.000563221627710504, 'NCL30': 0.000563221627710504, 'NCL31': 0.0006336243311743171, 'NCL41': 0.0006336243311743171, 'NCL42': 0.0004928189242466911, 'NCL53': 0.0006336243311743171, 'NCL54': 0.000563221627710504, 'NCL55': 0.0006336243311743171, 'NCM05': 0.0007040270346381301, 'NCM06': 0.0006336243311743171, 'NCM07': 0.0006336243311743171, 'NCM17': 0.0006336243311743171, 'NCM18': 0.0007040270346381301, 'NCM19': 0.0006336243311743171, 'NCM26': 0.0006336243311743171, 'NCM29': 0.0006336243311743171, 'NCM30': 0.0006336243311743171, 'NCM31': 0.0006336243311743171, 'NCM41': 0.000563221627710504, 'NCM42': 0.0006336243311743171, 'NCM43': 0.0007040270346381301, 'NCM53': 0.0006336243311743171, 'NCM54': 0.0007040270346381301, 'NCM55': 0.0006336243311743171, 'NCN05': 0.000563221627710504, 'NCN06': 0.0006336243311743171, 'NCN07': 0.0007040270346381301, 'NCN14': 0.0007040270346381301, 'NCN17': 0.000563221627710504, 'NCN18': 0.000563221627710504, 'NCN19': 0.0006336243311743171, 'NCN26': 0.0006336243311743171, 'NCN29': 0.0006336243311743171, 'NCN30': 0.0006336243311743171, 'NCN41': 0.0007040270346381301, 'NCN42': 0.0006336243311743171, 'NCN43': 0.0007040270346381301, 'NCN53': 0.0007040270346381301, 'NCN54': 0.0006336243311743171, 'NCN55': 0.0006336243311743171, 'NCO02': 0.0006336243311743171, 'NCO05': 0.0006336243311743171, 'NCO06': 0.0006336243311743171, 'NCO07': 0.0006336243311743171, 'NCO14': 0.0007040270346381301, 'NCO17': 0.0006336243311743171, 'NCO18': 0.0007040270346381301, 'NCO26': 0.0006336243311743171, 'NCO29': 0.0006336243311743171, 'NCO30': 0.0007040270346381301, 'NCO41': 0.0006336243311743171, 'NCO42': 0.0006336243311743171, 'NCO43': 0.0006336243311743171, 'NCO53': 0.000563221627710504, 'NCO54': 0.0007040270346381301, 'NCO55': 0.0007040270346381301, 'NCP02': 0.0007040270346381301, 'NCP05': 0.0006336243311743171, 'NCP06': 0.0006336243311743171, 'NCP14': 0.0006336243311743171, 'NCP17': 0.0006336243311743171, 'NCP18': 0.0006336243311743171, 'NCP29': 0.0006336243311743171, 'NCP30': 0.000563221627710504, 'NCP41': 0.0007040270346381301, 'NCP42': 0.0006336243311743171, 'NCP43': 0.0006336243311743171, 'NCP50': 0.0006336243311743171, 'NCP53': 0.000563221627710504, 'NCP54': 0.000563221627710504, 'NCP55': 0.0007040270346381301, 'NCQ02': 0.0006336243311743171, 'NCQ05': 0.0007040270346381301, 'NCQ06': 0.0006336243311743171, 'NCQ17': 0.0006336243311743171, 'NCQ18': 0.0006336243311743171, 'NCQ29': 0.0007040270346381301, 'NCQ30': 0.0007040270346381301, 'NCQ38': 0.0006336243311743171, 'NCQ41': 0.0006336243311743171, 'NCQ42': 0.0007040270346381301, 'NCQ43': 0.0007040270346381301, 'NCQ50': 0.000563221627710504, 'NCQ53': 0.000563221627710504, 'NCQ54': 0.0006336243311743171, 'NCR05': 0.0006336243311743171, 'NCR06': 0.000563221627710504, 'NCR17': 0.000563221627710504, 'NCR18': 0.000563221627710504, 'NCR29': 0.0006336243311743171, 'NCR30': 0.0007040270346381301, 'NCR38': 0.0006336243311743171, 'NCR41': 0.000563221627710504, 'NCR42': 0.0007040270346381301, 'NCR50': 0.000563221627710504, 'NCR53': 0.0007040270346381301, 'NCR54': 0.0006336243311743171, 'NCS05': 0.0006336243311743171, 'NCS06': 0.000563221627710504, 'NCS17': 0.000563221627710504, 'NCS18': 0.000563221627710504, 'NCS29': 0.0007040270346381301, 'NCS30': 0.0006336243311743171, 'NCS38': 0.0006336243311743171, 'NCS41': 0.0007040270346381301, 'NCS42': 0.0006336243311743171, 'NCS53': 0.0006336243311743171, 'NCS54': 0.0006336243311743171, 'NCT05': 0.000563221627710504, 'NCT06': 0.0006336243311743171, 'NCT17': 0.000563221627710504, 'NCT18': 0.0007040270346381301, 'NCT29': 0.000563221627710504, 'NCT30': 0.0007040270346381301, 'NCT41': 0.0006336243311743171, 'NCT42': 0.0006336243311743171, 'NCT53': 0.0007040270346381301, 'NCT54': 0.0006336243311743171, 'NCU05': 0.0006336243311743171, 'NCU06': 0.000563221627710504, 'NCU17': 0.0006336243311743171, 'NCU18': 0.0007040270346381301, 'NCU29': 0.0007040270346381301, 'NCU30': 0.0006336243311743171, 'NCU41': 0.0006336243311743171, 'NCU42': 0.000563221627710504, 'NCU53': 0.0006336243311743171, 'NCU54': 0.0006336243311743171, 'NCV05': 0.0006336243311743171, 'NCV06': 0.0007040270346381301, 'NCV17': 0.000563221627710504, 'NCV18': 0.0006336243311743171, 'NCV29': 0.0007040270346381301, 'NCV30': 0.000563221627710504, 'NCV41': 0.0007040270346381301, 'NCV42': 0.0007040270346381301, 'NCV53': 0.0006336243311743171, 'NCV54': 0.0007040270346381301, 'NCW05': 0.0006336243311743171, 'NCW06': 0.0006336243311743171, 'NCW17': 0.000563221627710504, 'NCW18': 0.000563221627710504, 'NCW29': 0.0007040270346381301, 'NCW30': 0.000563221627710504, 'NCW41': 0.000563221627710504, 'NCW42': 0.0007040270346381301, 'NCW53': 0.0006336243311743171, 'NCW54': 0.0004928189242466911, 'NCX05': 0.0007040270346381301, 'NCX06': 0.0007040270346381301, 'NCX17': 0.000563221627710504, 'NCX18': 0.0007040270346381301, 'NCX29': 0.0007040270346381301, 'NCX30': 0.0007040270346381301, 'NCX41': 0.0007040270346381301, 'NCX42': 0.0006336243311743171, 'NCX53': 0.0006336243311743171, 'NCX54': 0.0006336243311743171, 'NCY05': 0.000563221627710504, 'NCY06': 0.0006336243311743171, 'NCY17': 0.0006336243311743171, 'NCY18': 0.0006336243311743171, 'NCY29': 0.0007040270346381301, 'NCY30': 0.0006336243311743171, 'NCY41': 0.0007040270346381301, 'NCY42': 0.0006336243311743171, 'NCY53': 0.0006336243311743171, 'NCY54': 0.0006336243311743171, 'NCZ05': 0.0006336243311743171, 'NCZ06': 0.0006336243311743171, 'NCZ17': 0.0006336243311743171, 'NCZ18': 0.0006336243311743171, 'NCZ29': 0.0006336243311743171, 'NCZ30': 0.0007040270346381301, 'NCZ41': 0.000563221627710504, 'NCZ42': 0.0007040270346381301, 'NCZ53': 0.0006336243311743171, 'NCZ54': 0.0007040270346381301}\n"
     ]
    },
    {
     "data": {
      "text/plain": [
       "0        0.000634\n",
       "1        0.000634\n",
       "2        0.000704\n",
       "3        0.000634\n",
       "4        0.000634\n",
       "           ...   \n",
       "14199    0.000704\n",
       "14200    0.000704\n",
       "14201    0.000634\n",
       "14202    0.000704\n",
       "14203    0.000634\n",
       "Name: Item_Identifier, Length: 14204, dtype: float64"
      ]
     },
     "execution_count": 144,
     "metadata": {},
     "output_type": "execute_result"
    }
   ],
   "source": [
    "freq_value = df.groupby('Item_Identifier').size()/len(df)\n",
    "print(freq_value)\n",
    "freq_dict = freq_value.to_dict()\n",
    "print(freq_dict)\n",
    "df['Item_Identifier'].replace(freq_dict)"
   ]
  },
  {
   "cell_type": "code",
   "execution_count": 145,
   "id": "58f4d909",
   "metadata": {},
   "outputs": [
    {
     "name": "stdout",
     "output_type": "stream",
     "text": [
      "Outlet_Identifier\n",
      "OUT010     339.351662\n",
      "OUT013    2298.995256\n",
      "OUT017    2340.675263\n",
      "OUT018    1995.498739\n",
      "OUT019     340.329723\n",
      "OUT027    3694.038558\n",
      "OUT035    2438.841866\n",
      "OUT045    2192.384798\n",
      "OUT046    2277.844267\n",
      "OUT049    2348.354635\n",
      "Name: Item_Outlet_Sales, dtype: float64\n",
      "{'OUT010': 339.351661981982, 'OUT013': 2298.995255579399, 'OUT017': 2340.67526349892, 'OUT018': 1995.498739224138, 'OUT019': 340.3297227272727, 'OUT027': 3694.0385576470585, 'OUT035': 2438.841866021505, 'OUT045': 2192.384797631862, 'OUT046': 2277.8442668817206, 'OUT049': 2348.3546346236562}\n"
     ]
    },
    {
     "data": {
      "text/plain": [
       "0        2348.354635\n",
       "1        1995.498739\n",
       "2        2348.354635\n",
       "3         339.351662\n",
       "4        2298.995256\n",
       "            ...     \n",
       "14199    2277.844267\n",
       "14200    1995.498739\n",
       "14201    2192.384798\n",
       "14202    2340.675263\n",
       "14203    2192.384798\n",
       "Name: Outlet_Identifier, Length: 14204, dtype: float64"
      ]
     },
     "execution_count": 145,
     "metadata": {},
     "output_type": "execute_result"
    }
   ],
   "source": [
    "# target Mean Encoding:\n",
    "\n",
    "mean_value = df.groupby('Outlet_Identifier')['Item_Outlet_Sales'].mean()\n",
    "print(mean_value)\n",
    "mean_dict = mean_value.to_dict()\n",
    "print(mean_dict)\n",
    "df['Outlet_Identifier'].replace(mean_dict)"
   ]
  },
  {
   "cell_type": "code",
   "execution_count": 146,
   "id": "3502f1b1",
   "metadata": {},
   "outputs": [
    {
     "data": {
      "text/plain": [
       "0           Low Fat\n",
       "1           Regular\n",
       "2           Low Fat\n",
       "3           Regular\n",
       "4        Non_edible\n",
       "            ...    \n",
       "14199       Regular\n",
       "14200       Regular\n",
       "14201    Non_edible\n",
       "14202       Regular\n",
       "14203       Regular\n",
       "Name: Item_Fat_Content, Length: 14204, dtype: object"
      ]
     },
     "execution_count": 146,
     "metadata": {},
     "output_type": "execute_result"
    }
   ],
   "source": [
    "df['Item_Fat_Content']"
   ]
  },
  {
   "cell_type": "code",
   "execution_count": 147,
   "id": "6531e25e",
   "metadata": {},
   "outputs": [
    {
     "data": {
      "text/plain": [
       "0        1\n",
       "1        2\n",
       "2        1\n",
       "3        2\n",
       "4        0\n",
       "        ..\n",
       "14199    2\n",
       "14200    2\n",
       "14201    0\n",
       "14202    2\n",
       "14203    2\n",
       "Name: Item_Fat_Content, Length: 14204, dtype: int64"
      ]
     },
     "execution_count": 147,
     "metadata": {},
     "output_type": "execute_result"
    }
   ],
   "source": [
    "Item_Fat_Content_dict = {\"Non_edible\":0,\n",
    "                          \"Low Fat\":1,\n",
    "                          \"Regular\":2,\n",
    "                          }\n",
    "\n",
    "# df['Item_Fat_Content'].apply(lambda x: Item_Fat_Content_dict[x])\n",
    "df['Item_Fat_Content'].replace(Item_Fat_Content_dict)"
   ]
  },
  {
   "cell_type": "code",
   "execution_count": 148,
   "id": "c27a4aab",
   "metadata": {},
   "outputs": [
    {
     "data": {
      "text/plain": [
       "array([0, 2, 0, ..., 1, 2, 2])"
      ]
     },
     "execution_count": 148,
     "metadata": {},
     "output_type": "execute_result"
    }
   ],
   "source": [
    "from sklearn.preprocessing import LabelEncoder\n",
    "le=LabelEncoder()\n",
    "le.fit_transform(df['Item_Fat_Content'])"
   ]
  },
  {
   "cell_type": "code",
   "execution_count": 149,
   "id": "52c633ed",
   "metadata": {},
   "outputs": [
    {
     "data": {
      "text/plain": [
       "array(['Low Fat', 'Non_edible', 'Regular'], dtype=object)"
      ]
     },
     "execution_count": 149,
     "metadata": {},
     "output_type": "execute_result"
    }
   ],
   "source": [
    "le.inverse_transform([0,1,2])"
   ]
  },
  {
   "cell_type": "code",
   "execution_count": 150,
   "id": "b32e855b",
   "metadata": {},
   "outputs": [
    {
     "data": {
      "text/plain": [
       "array([[0.],\n",
       "       [2.],\n",
       "       [0.],\n",
       "       ...,\n",
       "       [1.],\n",
       "       [2.],\n",
       "       [2.]])"
      ]
     },
     "execution_count": 150,
     "metadata": {},
     "output_type": "execute_result"
    }
   ],
   "source": [
    "from sklearn.preprocessing import OrdinalEncoder\n",
    "Oe= OrdinalEncoder()\n",
    "Oe.fit_transform(df[['Item_Fat_Content']])"
   ]
  },
  {
   "cell_type": "code",
   "execution_count": 151,
   "id": "e43ea719",
   "metadata": {},
   "outputs": [
    {
     "data": {
      "text/plain": [
       "array([['Low Fat'],\n",
       "       ['Non_edible'],\n",
       "       ['Regular']], dtype=object)"
      ]
     },
     "execution_count": 151,
     "metadata": {},
     "output_type": "execute_result"
    }
   ],
   "source": [
    "Oe.inverse_transform([[0],[1],[2]])"
   ]
  },
  {
   "cell_type": "code",
   "execution_count": 152,
   "id": "d6d9a366",
   "metadata": {},
   "outputs": [
    {
     "data": {
      "text/html": [
       "<div>\n",
       "<style scoped>\n",
       "    .dataframe tbody tr th:only-of-type {\n",
       "        vertical-align: middle;\n",
       "    }\n",
       "\n",
       "    .dataframe tbody tr th {\n",
       "        vertical-align: top;\n",
       "    }\n",
       "\n",
       "    .dataframe thead th {\n",
       "        text-align: right;\n",
       "    }\n",
       "</style>\n",
       "<table border=\"1\" class=\"dataframe\">\n",
       "  <thead>\n",
       "    <tr style=\"text-align: right;\">\n",
       "      <th></th>\n",
       "      <th>Item_Weight</th>\n",
       "      <th>Item_Fat_Content</th>\n",
       "      <th>Item_Visibility</th>\n",
       "      <th>Item_MRP</th>\n",
       "      <th>Outlet_Establishment_Year</th>\n",
       "      <th>Outlet_Size</th>\n",
       "      <th>Outlet_Location_Type</th>\n",
       "      <th>Outlet_Type</th>\n",
       "      <th>Item_Outlet_Sales</th>\n",
       "      <th>Item_Type_combined</th>\n",
       "      <th>Outlet_Identifier_OUT010</th>\n",
       "      <th>Outlet_Identifier_OUT013</th>\n",
       "      <th>Outlet_Identifier_OUT017</th>\n",
       "      <th>Outlet_Identifier_OUT018</th>\n",
       "      <th>Outlet_Identifier_OUT019</th>\n",
       "      <th>Outlet_Identifier_OUT027</th>\n",
       "      <th>Outlet_Identifier_OUT035</th>\n",
       "      <th>Outlet_Identifier_OUT045</th>\n",
       "      <th>Outlet_Identifier_OUT046</th>\n",
       "      <th>Outlet_Identifier_OUT049</th>\n",
       "    </tr>\n",
       "  </thead>\n",
       "  <tbody>\n",
       "    <tr>\n",
       "      <th>0</th>\n",
       "      <td>9.30</td>\n",
       "      <td>0</td>\n",
       "      <td>0.016047</td>\n",
       "      <td>249.8092</td>\n",
       "      <td>1999</td>\n",
       "      <td>1</td>\n",
       "      <td>0</td>\n",
       "      <td>1</td>\n",
       "      <td>3735.1380</td>\n",
       "      <td>1</td>\n",
       "      <td>False</td>\n",
       "      <td>False</td>\n",
       "      <td>False</td>\n",
       "      <td>False</td>\n",
       "      <td>False</td>\n",
       "      <td>False</td>\n",
       "      <td>False</td>\n",
       "      <td>False</td>\n",
       "      <td>False</td>\n",
       "      <td>True</td>\n",
       "    </tr>\n",
       "    <tr>\n",
       "      <th>1</th>\n",
       "      <td>5.92</td>\n",
       "      <td>2</td>\n",
       "      <td>0.019278</td>\n",
       "      <td>48.2692</td>\n",
       "      <td>2009</td>\n",
       "      <td>1</td>\n",
       "      <td>2</td>\n",
       "      <td>2</td>\n",
       "      <td>443.4228</td>\n",
       "      <td>0</td>\n",
       "      <td>False</td>\n",
       "      <td>False</td>\n",
       "      <td>False</td>\n",
       "      <td>True</td>\n",
       "      <td>False</td>\n",
       "      <td>False</td>\n",
       "      <td>False</td>\n",
       "      <td>False</td>\n",
       "      <td>False</td>\n",
       "      <td>False</td>\n",
       "    </tr>\n",
       "    <tr>\n",
       "      <th>2</th>\n",
       "      <td>17.50</td>\n",
       "      <td>0</td>\n",
       "      <td>0.016760</td>\n",
       "      <td>141.6180</td>\n",
       "      <td>1999</td>\n",
       "      <td>1</td>\n",
       "      <td>0</td>\n",
       "      <td>1</td>\n",
       "      <td>2097.2700</td>\n",
       "      <td>1</td>\n",
       "      <td>False</td>\n",
       "      <td>False</td>\n",
       "      <td>False</td>\n",
       "      <td>False</td>\n",
       "      <td>False</td>\n",
       "      <td>False</td>\n",
       "      <td>False</td>\n",
       "      <td>False</td>\n",
       "      <td>False</td>\n",
       "      <td>True</td>\n",
       "    </tr>\n",
       "    <tr>\n",
       "      <th>3</th>\n",
       "      <td>19.20</td>\n",
       "      <td>2</td>\n",
       "      <td>0.017834</td>\n",
       "      <td>182.0950</td>\n",
       "      <td>1998</td>\n",
       "      <td>2</td>\n",
       "      <td>2</td>\n",
       "      <td>0</td>\n",
       "      <td>732.3800</td>\n",
       "      <td>1</td>\n",
       "      <td>True</td>\n",
       "      <td>False</td>\n",
       "      <td>False</td>\n",
       "      <td>False</td>\n",
       "      <td>False</td>\n",
       "      <td>False</td>\n",
       "      <td>False</td>\n",
       "      <td>False</td>\n",
       "      <td>False</td>\n",
       "      <td>False</td>\n",
       "    </tr>\n",
       "    <tr>\n",
       "      <th>4</th>\n",
       "      <td>8.93</td>\n",
       "      <td>1</td>\n",
       "      <td>0.009780</td>\n",
       "      <td>53.8614</td>\n",
       "      <td>1987</td>\n",
       "      <td>0</td>\n",
       "      <td>2</td>\n",
       "      <td>1</td>\n",
       "      <td>994.7052</td>\n",
       "      <td>2</td>\n",
       "      <td>False</td>\n",
       "      <td>True</td>\n",
       "      <td>False</td>\n",
       "      <td>False</td>\n",
       "      <td>False</td>\n",
       "      <td>False</td>\n",
       "      <td>False</td>\n",
       "      <td>False</td>\n",
       "      <td>False</td>\n",
       "      <td>False</td>\n",
       "    </tr>\n",
       "  </tbody>\n",
       "</table>\n",
       "</div>"
      ],
      "text/plain": [
       "   Item_Weight  Item_Fat_Content  Item_Visibility  Item_MRP  \\\n",
       "0         9.30                 0         0.016047  249.8092   \n",
       "1         5.92                 2         0.019278   48.2692   \n",
       "2        17.50                 0         0.016760  141.6180   \n",
       "3        19.20                 2         0.017834  182.0950   \n",
       "4         8.93                 1         0.009780   53.8614   \n",
       "\n",
       "   Outlet_Establishment_Year  Outlet_Size  Outlet_Location_Type  Outlet_Type  \\\n",
       "0                       1999            1                     0            1   \n",
       "1                       2009            1                     2            2   \n",
       "2                       1999            1                     0            1   \n",
       "3                       1998            2                     2            0   \n",
       "4                       1987            0                     2            1   \n",
       "\n",
       "   Item_Outlet_Sales  Item_Type_combined  Outlet_Identifier_OUT010  \\\n",
       "0          3735.1380                   1                     False   \n",
       "1           443.4228                   0                     False   \n",
       "2          2097.2700                   1                     False   \n",
       "3           732.3800                   1                      True   \n",
       "4           994.7052                   2                     False   \n",
       "\n",
       "   Outlet_Identifier_OUT013  Outlet_Identifier_OUT017  \\\n",
       "0                     False                     False   \n",
       "1                     False                     False   \n",
       "2                     False                     False   \n",
       "3                     False                     False   \n",
       "4                      True                     False   \n",
       "\n",
       "   Outlet_Identifier_OUT018  Outlet_Identifier_OUT019  \\\n",
       "0                     False                     False   \n",
       "1                      True                     False   \n",
       "2                     False                     False   \n",
       "3                     False                     False   \n",
       "4                     False                     False   \n",
       "\n",
       "   Outlet_Identifier_OUT027  Outlet_Identifier_OUT035  \\\n",
       "0                     False                     False   \n",
       "1                     False                     False   \n",
       "2                     False                     False   \n",
       "3                     False                     False   \n",
       "4                     False                     False   \n",
       "\n",
       "   Outlet_Identifier_OUT045  Outlet_Identifier_OUT046  \\\n",
       "0                     False                     False   \n",
       "1                     False                     False   \n",
       "2                     False                     False   \n",
       "3                     False                     False   \n",
       "4                     False                     False   \n",
       "\n",
       "   Outlet_Identifier_OUT049  \n",
       "0                      True  \n",
       "1                     False  \n",
       "2                      True  \n",
       "3                     False  \n",
       "4                     False  "
      ]
     },
     "execution_count": 152,
     "metadata": {},
     "output_type": "execute_result"
    }
   ],
   "source": [
    "#Label Encoding all the columns with text entries and dropping Item_identifier\n",
    "list=['Item_Fat_Content','Outlet_Location_Type','Outlet_Size','Outlet_Type','Item_Type_combined',\n",
    "      'Outlet_Size']\n",
    "\n",
    "le=LabelEncoder()\n",
    "for i in list:\n",
    "    df[i]= le.fit_transform(df[i])\n",
    "# or\n",
    "# Oe = OrdinalEncoder()\n",
    "# Oe.fit_transform(df[list])\n",
    "\n",
    "\n",
    "df_new=df.drop(columns='Item_Identifier')  # frequency encoding\n",
    "df_new= pd.get_dummies(df_new,columns=['Outlet_Identifier'])\n",
    "df_new.head()"
   ]
  },
  {
   "cell_type": "markdown",
   "id": "82e44711",
   "metadata": {},
   "source": [
    "# Feature Engineering"
   ]
  },
  {
   "cell_type": "code",
   "execution_count": 153,
   "id": "bd73859c",
   "metadata": {},
   "outputs": [
    {
     "data": {
      "text/html": [
       "<div>\n",
       "<style scoped>\n",
       "    .dataframe tbody tr th:only-of-type {\n",
       "        vertical-align: middle;\n",
       "    }\n",
       "\n",
       "    .dataframe tbody tr th {\n",
       "        vertical-align: top;\n",
       "    }\n",
       "\n",
       "    .dataframe thead th {\n",
       "        text-align: right;\n",
       "    }\n",
       "</style>\n",
       "<table border=\"1\" class=\"dataframe\">\n",
       "  <thead>\n",
       "    <tr style=\"text-align: right;\">\n",
       "      <th></th>\n",
       "      <th>Item_Weight</th>\n",
       "      <th>Item_Fat_Content</th>\n",
       "      <th>Item_Visibility</th>\n",
       "      <th>Item_MRP</th>\n",
       "      <th>Outlet_Size</th>\n",
       "      <th>Outlet_Location_Type</th>\n",
       "      <th>Outlet_Type</th>\n",
       "      <th>Item_Outlet_Sales</th>\n",
       "      <th>Item_Type_combined</th>\n",
       "      <th>Outlet_Identifier_OUT010</th>\n",
       "      <th>Outlet_Identifier_OUT013</th>\n",
       "      <th>Outlet_Identifier_OUT017</th>\n",
       "      <th>Outlet_Identifier_OUT018</th>\n",
       "      <th>Outlet_Identifier_OUT019</th>\n",
       "      <th>Outlet_Identifier_OUT027</th>\n",
       "      <th>Outlet_Identifier_OUT035</th>\n",
       "      <th>Outlet_Identifier_OUT045</th>\n",
       "      <th>Outlet_Identifier_OUT046</th>\n",
       "      <th>Outlet_Identifier_OUT049</th>\n",
       "      <th>years_old</th>\n",
       "    </tr>\n",
       "  </thead>\n",
       "  <tbody>\n",
       "    <tr>\n",
       "      <th>0</th>\n",
       "      <td>9.30</td>\n",
       "      <td>0</td>\n",
       "      <td>0.016047</td>\n",
       "      <td>249.8092</td>\n",
       "      <td>1</td>\n",
       "      <td>0</td>\n",
       "      <td>1</td>\n",
       "      <td>3735.1380</td>\n",
       "      <td>1</td>\n",
       "      <td>False</td>\n",
       "      <td>False</td>\n",
       "      <td>False</td>\n",
       "      <td>False</td>\n",
       "      <td>False</td>\n",
       "      <td>False</td>\n",
       "      <td>False</td>\n",
       "      <td>False</td>\n",
       "      <td>False</td>\n",
       "      <td>True</td>\n",
       "      <td>24</td>\n",
       "    </tr>\n",
       "    <tr>\n",
       "      <th>1</th>\n",
       "      <td>5.92</td>\n",
       "      <td>2</td>\n",
       "      <td>0.019278</td>\n",
       "      <td>48.2692</td>\n",
       "      <td>1</td>\n",
       "      <td>2</td>\n",
       "      <td>2</td>\n",
       "      <td>443.4228</td>\n",
       "      <td>0</td>\n",
       "      <td>False</td>\n",
       "      <td>False</td>\n",
       "      <td>False</td>\n",
       "      <td>True</td>\n",
       "      <td>False</td>\n",
       "      <td>False</td>\n",
       "      <td>False</td>\n",
       "      <td>False</td>\n",
       "      <td>False</td>\n",
       "      <td>False</td>\n",
       "      <td>14</td>\n",
       "    </tr>\n",
       "    <tr>\n",
       "      <th>2</th>\n",
       "      <td>17.50</td>\n",
       "      <td>0</td>\n",
       "      <td>0.016760</td>\n",
       "      <td>141.6180</td>\n",
       "      <td>1</td>\n",
       "      <td>0</td>\n",
       "      <td>1</td>\n",
       "      <td>2097.2700</td>\n",
       "      <td>1</td>\n",
       "      <td>False</td>\n",
       "      <td>False</td>\n",
       "      <td>False</td>\n",
       "      <td>False</td>\n",
       "      <td>False</td>\n",
       "      <td>False</td>\n",
       "      <td>False</td>\n",
       "      <td>False</td>\n",
       "      <td>False</td>\n",
       "      <td>True</td>\n",
       "      <td>24</td>\n",
       "    </tr>\n",
       "    <tr>\n",
       "      <th>3</th>\n",
       "      <td>19.20</td>\n",
       "      <td>2</td>\n",
       "      <td>0.017834</td>\n",
       "      <td>182.0950</td>\n",
       "      <td>2</td>\n",
       "      <td>2</td>\n",
       "      <td>0</td>\n",
       "      <td>732.3800</td>\n",
       "      <td>1</td>\n",
       "      <td>True</td>\n",
       "      <td>False</td>\n",
       "      <td>False</td>\n",
       "      <td>False</td>\n",
       "      <td>False</td>\n",
       "      <td>False</td>\n",
       "      <td>False</td>\n",
       "      <td>False</td>\n",
       "      <td>False</td>\n",
       "      <td>False</td>\n",
       "      <td>25</td>\n",
       "    </tr>\n",
       "    <tr>\n",
       "      <th>4</th>\n",
       "      <td>8.93</td>\n",
       "      <td>1</td>\n",
       "      <td>0.009780</td>\n",
       "      <td>53.8614</td>\n",
       "      <td>0</td>\n",
       "      <td>2</td>\n",
       "      <td>1</td>\n",
       "      <td>994.7052</td>\n",
       "      <td>2</td>\n",
       "      <td>False</td>\n",
       "      <td>True</td>\n",
       "      <td>False</td>\n",
       "      <td>False</td>\n",
       "      <td>False</td>\n",
       "      <td>False</td>\n",
       "      <td>False</td>\n",
       "      <td>False</td>\n",
       "      <td>False</td>\n",
       "      <td>False</td>\n",
       "      <td>36</td>\n",
       "    </tr>\n",
       "  </tbody>\n",
       "</table>\n",
       "</div>"
      ],
      "text/plain": [
       "   Item_Weight  Item_Fat_Content  Item_Visibility  Item_MRP  Outlet_Size  \\\n",
       "0         9.30                 0         0.016047  249.8092            1   \n",
       "1         5.92                 2         0.019278   48.2692            1   \n",
       "2        17.50                 0         0.016760  141.6180            1   \n",
       "3        19.20                 2         0.017834  182.0950            2   \n",
       "4         8.93                 1         0.009780   53.8614            0   \n",
       "\n",
       "   Outlet_Location_Type  Outlet_Type  Item_Outlet_Sales  Item_Type_combined  \\\n",
       "0                     0            1          3735.1380                   1   \n",
       "1                     2            2           443.4228                   0   \n",
       "2                     0            1          2097.2700                   1   \n",
       "3                     2            0           732.3800                   1   \n",
       "4                     2            1           994.7052                   2   \n",
       "\n",
       "   Outlet_Identifier_OUT010  Outlet_Identifier_OUT013  \\\n",
       "0                     False                     False   \n",
       "1                     False                     False   \n",
       "2                     False                     False   \n",
       "3                      True                     False   \n",
       "4                     False                      True   \n",
       "\n",
       "   Outlet_Identifier_OUT017  Outlet_Identifier_OUT018  \\\n",
       "0                     False                     False   \n",
       "1                     False                      True   \n",
       "2                     False                     False   \n",
       "3                     False                     False   \n",
       "4                     False                     False   \n",
       "\n",
       "   Outlet_Identifier_OUT019  Outlet_Identifier_OUT027  \\\n",
       "0                     False                     False   \n",
       "1                     False                     False   \n",
       "2                     False                     False   \n",
       "3                     False                     False   \n",
       "4                     False                     False   \n",
       "\n",
       "   Outlet_Identifier_OUT035  Outlet_Identifier_OUT045  \\\n",
       "0                     False                     False   \n",
       "1                     False                     False   \n",
       "2                     False                     False   \n",
       "3                     False                     False   \n",
       "4                     False                     False   \n",
       "\n",
       "   Outlet_Identifier_OUT046  Outlet_Identifier_OUT049  years_old  \n",
       "0                     False                      True         24  \n",
       "1                     False                     False         14  \n",
       "2                     False                      True         24  \n",
       "3                     False                     False         25  \n",
       "4                     False                     False         36  "
      ]
     },
     "execution_count": 153,
     "metadata": {},
     "output_type": "execute_result"
    }
   ],
   "source": [
    "#Using feature Engineering and adding new column\n",
    "df_new['years_old']=2023-df_new['Outlet_Establishment_Year']\n",
    "df_new=df_new.drop(columns=['Outlet_Establishment_Year'])\n",
    "df_new.head()"
   ]
  },
  {
   "cell_type": "markdown",
   "id": "038fe8b6",
   "metadata": {},
   "source": [
    "### Checking correlation for all Numerical Variable"
   ]
  },
  {
   "cell_type": "code",
   "execution_count": 154,
   "id": "62182606",
   "metadata": {},
   "outputs": [],
   "source": [
    "# explanatory code"
   ]
  },
  {
   "cell_type": "code",
   "execution_count": 155,
   "id": "176b515c",
   "metadata": {},
   "outputs": [
    {
     "data": {
      "text/plain": [
       "<Axes: >"
      ]
     },
     "execution_count": 155,
     "metadata": {},
     "output_type": "execute_result"
    },
    {
     "data": {
      "image/png": "[encoded data removed]",
      "text/plain": [
       "<Figure size 640x480 with 2 Axes>"
      ]
     },
     "metadata": {},
     "output_type": "display_data"
    }
   ],
   "source": [
    "df_new.corr()\n",
    "sns.heatmap(df_new.corr(),cmap='RdYlGn')"
   ]
  },
  {
   "cell_type": "markdown",
   "id": "17d31dc4",
   "metadata": {},
   "source": [
    "# Creating Test and Train set"
   ]
  },
  {
   "cell_type": "code",
   "execution_count": 156,
   "id": "f9b8080e",
   "metadata": {},
   "outputs": [],
   "source": [
    "#Separating test and train set\n",
    "df_train=df_new.iloc[:8523,:]\n",
    "df_test=df_new.iloc[8523:,:]\n",
    "\n",
    "df_test=df_test.drop(columns=['Item_Outlet_Sales'])"
   ]
  },
  {
   "cell_type": "code",
   "execution_count": 157,
   "id": "7a898713",
   "metadata": {},
   "outputs": [],
   "source": [
    "#Splitting X (independent factor) and Y (target factor)\n",
    "y = df_train['Item_Outlet_Sales']\n",
    "\n",
    "X = df_train.drop(columns=['Item_Outlet_Sales'])"
   ]
  },
  {
   "cell_type": "code",
   "execution_count": 158,
   "id": "a20b5697",
   "metadata": {},
   "outputs": [
    {
     "data": {
      "text/plain": [
       "(8523, 19)"
      ]
     },
     "execution_count": 158,
     "metadata": {},
     "output_type": "execute_result"
    }
   ],
   "source": [
    "X.shape"
   ]
  },
  {
   "cell_type": "code",
   "execution_count": 159,
   "id": "86db8409",
   "metadata": {},
   "outputs": [
    {
     "data": {
      "text/plain": [
       "Index(['Item_Weight', 'Item_Fat_Content', 'Item_Visibility', 'Item_MRP',\n",
       "       'Outlet_Size', 'Outlet_Location_Type', 'Outlet_Type',\n",
       "       'Item_Type_combined', 'Outlet_Identifier_OUT010',\n",
       "       'Outlet_Identifier_OUT013', 'Outlet_Identifier_OUT017',\n",
       "       'Outlet_Identifier_OUT018', 'Outlet_Identifier_OUT019',\n",
       "       'Outlet_Identifier_OUT027', 'Outlet_Identifier_OUT035',\n",
       "       'Outlet_Identifier_OUT045', 'Outlet_Identifier_OUT046',\n",
       "       'Outlet_Identifier_OUT049', 'years_old'],\n",
       "      dtype='object')"
      ]
     },
     "execution_count": 159,
     "metadata": {},
     "output_type": "execute_result"
    }
   ],
   "source": [
    "X.columns"
   ]
  },
  {
   "cell_type": "code",
   "execution_count": 160,
   "id": "0ff63d11",
   "metadata": {},
   "outputs": [
    {
     "data": {
      "text/plain": [
       "array([4043.06508605,  604.21120294, 2359.35690095, ..., 1521.58464772,\n",
       "       1408.16690788, 1251.74458312])"
      ]
     },
     "execution_count": 160,
     "metadata": {},
     "output_type": "execute_result"
    }
   ],
   "source": [
    "from sklearn.linear_model import LinearRegression\n",
    "model = LinearRegression()\n",
    "# Defining my final model that I will use for prediction\n",
    "model.fit(X,y)\n",
    "model.predict(X)"
   ]
  },
  {
   "cell_type": "markdown",
   "id": "0161d12d",
   "metadata": {},
   "source": [
    "### Evaluation"
   ]
  },
  {
   "cell_type": "code",
   "execution_count": 161,
   "id": "36122129",
   "metadata": {},
   "outputs": [
    {
     "name": "stdout",
     "output_type": "stream",
     "text": [
      "MAE Score for model is :  836.0930013571033\n",
      "MSE Score for model is :  1271264.8598822241\n",
      "RMSE Score for model is :  1127.5038181231246\n",
      "R2 Score for model is :  0.563409168304077\n"
     ]
    }
   ],
   "source": [
    "# Metrics Calculation\n",
    "from sklearn.metrics import r2_score, mean_absolute_error ,mean_squared_error\n",
    "\n",
    "import math\n",
    "def root_mean_squared_error(y,y_pred):\n",
    "    mse =np.square(np.subtract(y,y_pred)).mean()\n",
    "    rmse = math.sqrt(mse)\n",
    "    return rmse\n",
    "\n",
    "model.intercept_ , model.coef_\n",
    "\n",
    "print(\"MAE Score for model is : \",mean_absolute_error(y,model.predict(X)))\n",
    "print(\"MSE Score for model is : \",mean_squared_error(y,model.predict(X)))\n",
    "print(\"RMSE Score for model is : \",root_mean_squared_error(y,model.predict(X)))\n",
    "print(\"R2 Score for model is : \",r2_score(y,model.predict(X)))"
   ]
  },
  {
   "cell_type": "markdown",
   "id": "7a99a75f",
   "metadata": {},
   "source": [
    "# Improvement and Enchancement of Model"
   ]
  },
  {
   "cell_type": "code",
   "execution_count": 162,
   "id": "483cbe19",
   "metadata": {},
   "outputs": [],
   "source": [
    "from sklearn.linear_model import LinearRegression\n",
    "from sklearn.linear_model import Ridge\n",
    "from sklearn.linear_model import ElasticNet\n",
    "from sklearn.linear_model import SGDRegressor\n",
    "from sklearn.linear_model import Lasso\n",
    "from sklearn.linear_model import HuberRegressor\n",
    "from sklearn.linear_model import RANSACRegressor\n",
    "from sklearn.linear_model import TheilSenRegressor\n",
    "from sklearn.linear_model import QuantileRegressor\n",
    "\n",
    "#### To Be applied after we cover these Algorithms.\n",
    "# from sklearn.ensemble import RandomForestRegressor\n",
    "# from sklearn.ensemble import ExtraTreesRegressor\n",
    "# from sklearn.ensemble import BaggingRegressor\n",
    "# from sklearn.ensemble import GradientBoostingRegressor\n",
    "# from sklearn.neural_network import MLPRegressor\n",
    "# from xgboost import XGBRegressor\n",
    "# import xgboost as xgb\n",
    "\n",
    "from sklearn.model_selection import KFold, cross_val_score\n",
    "from sklearn.metrics import mean_absolute_error,mean_squared_error,r2_score\n"
   ]
  },
  {
   "cell_type": "code",
   "execution_count": 163,
   "id": "7ef1ad72",
   "metadata": {},
   "outputs": [],
   "source": [
    "models = [('lr',LinearRegression()),\n",
    "          ('sgd',SGDRegressor()),\n",
    "          ('lasso',Lasso()),\n",
    "          ('ridge',Ridge()),\n",
    "          ('en',ElasticNet()),\n",
    "          ('huber',HuberRegressor()),\n",
    "          ('ransac',RANSACRegressor()),\n",
    "          ('theilSen',TheilSenRegressor())\n",
    "         ]"
   ]
  },
  {
   "cell_type": "code",
   "execution_count": 164,
   "id": "814dfa1a",
   "metadata": {},
   "outputs": [
    {
     "data": {
      "text/plain": [
       "['accuracy',\n",
       " 'adjusted_mutual_info_score',\n",
       " 'adjusted_rand_score',\n",
       " 'average_precision',\n",
       " 'balanced_accuracy',\n",
       " 'completeness_score',\n",
       " 'explained_variance',\n",
       " 'f1',\n",
       " 'f1_macro',\n",
       " 'f1_micro',\n",
       " 'f1_samples',\n",
       " 'f1_weighted',\n",
       " 'fowlkes_mallows_score',\n",
       " 'homogeneity_score',\n",
       " 'jaccard',\n",
       " 'jaccard_macro',\n",
       " 'jaccard_micro',\n",
       " 'jaccard_samples',\n",
       " 'jaccard_weighted',\n",
       " 'matthews_corrcoef',\n",
       " 'max_error',\n",
       " 'mutual_info_score',\n",
       " 'neg_brier_score',\n",
       " 'neg_log_loss',\n",
       " 'neg_mean_absolute_error',\n",
       " 'neg_mean_absolute_percentage_error',\n",
       " 'neg_mean_gamma_deviance',\n",
       " 'neg_mean_poisson_deviance',\n",
       " 'neg_mean_squared_error',\n",
       " 'neg_mean_squared_log_error',\n",
       " 'neg_median_absolute_error',\n",
       " 'neg_negative_likelihood_ratio',\n",
       " 'neg_root_mean_squared_error',\n",
       " 'normalized_mutual_info_score',\n",
       " 'positive_likelihood_ratio',\n",
       " 'precision',\n",
       " 'precision_macro',\n",
       " 'precision_micro',\n",
       " 'precision_samples',\n",
       " 'precision_weighted',\n",
       " 'r2',\n",
       " 'rand_score',\n",
       " 'recall',\n",
       " 'recall_macro',\n",
       " 'recall_micro',\n",
       " 'recall_samples',\n",
       " 'recall_weighted',\n",
       " 'roc_auc',\n",
       " 'roc_auc_ovo',\n",
       " 'roc_auc_ovo_weighted',\n",
       " 'roc_auc_ovr',\n",
       " 'roc_auc_ovr_weighted',\n",
       " 'top_k_accuracy',\n",
       " 'v_measure_score']"
      ]
     },
     "execution_count": 164,
     "metadata": {},
     "output_type": "execute_result"
    }
   ],
   "source": [
    "import sklearn\n",
    "sklearn.metrics.get_scorer_names()\n",
    "\n",
    "# For evaluating multiple scores, use sklearn.model_selection.cross_validate instead. ['r2'] was passed.\n"
   ]
  },
  {
   "cell_type": "code",
   "execution_count": 165,
   "id": "5de534eb",
   "metadata": {},
   "outputs": [],
   "source": [
    "#Making function for making best 2 models for further hyperparameter tuning\n",
    "#  https://scikit-learn.org/stable/modules/cross_validation.html#cross-validation\n",
    "def basic_model_selection(x,y,cross_folds,model,scoring):\n",
    "    scores=[]\n",
    "    names = []\n",
    "    for i , j in model:\n",
    "        cv_scores = cross_val_score(j, x, y,cv=cross_folds,n_jobs=5,scoring=scoring)\n",
    "        scores.append(cv_scores)\n",
    "        names.append(i)\n",
    "    for k in range(len(scores)):\n",
    "        print(names[k],scores[k].mean())"
   ]
  },
  {
   "cell_type": "code",
   "execution_count": 166,
   "id": "1681684c",
   "metadata": {},
   "outputs": [
    {
     "name": "stdout",
     "output_type": "stream",
     "text": [
      "lr 0.5600167514366816\n",
      "sgd -5.904493848389208e+18\n",
      "lasso 0.5600381393243655\n",
      "ridge 0.5600211200777784\n",
      "en 0.4778294429615873\n",
      "huber 0.5541310416712488\n",
      "ransac 0.48995415090759725\n",
      "theilSen 0.5510316632721883\n"
     ]
    }
   ],
   "source": [
    "basic_model_selection(X,y,4,models,'r2')"
   ]
  },
  {
   "cell_type": "code",
   "execution_count": 167,
   "id": "b10aeb50",
   "metadata": {},
   "outputs": [
    {
     "name": "stdout",
     "output_type": "stream",
     "text": [
      "lr -838.6430244950401\n",
      "sgd -2988908507491.112\n",
      "lasso -838.2323416178793\n",
      "ridge -838.6018592402061\n",
      "en -910.6618386560157\n",
      "huber -831.497691789984\n",
      "ransac -897.9406436940151\n",
      "theilSen -843.1367137315015\n"
     ]
    }
   ],
   "source": [
    "# N Mae score\n",
    "basic_model_selection(X,y,4,models,'neg_mean_absolute_error')"
   ]
  },
  {
   "cell_type": "markdown",
   "id": "a20acd2c",
   "metadata": {},
   "source": [
    "\n",
    "'''\n",
    "Way to understand neg_mean_absolute_error (NMAE).\n",
    "The way in which neg_mean_absolute_error is computed as follows:\n",
    "![](https://i.stack.imgur.com/39XDd.gif)\n",
    "\n",
    "where N is the total number of data points, Y_i is the true value and Y_i^p is the predicted value.\n",
    "\n",
    "Still we equally penalize the model if it predicts higher or lower than the true value, but it is just that we multiply the final result with -1 just to follow the convention that sklearn has set. So if a model gives you a MAE of say 0.55 and another model gives you a MAE of say 0.78, their NMAE values would be flipped as -0.55 and -0.78 and by following the convention of higher the better, we pick the former model which results has a higher NMAE of -0.55.\n",
    "\n",
    "It's simple: minimizing MSE is equivalent to maximizing negative-MSE.\n",
    "\n",
    "An objective function that the scorer can maximize is just by \"convention\" as the Sklearn documentation suggests.\n",
    "\n",
    "You can make a similar argument for MSE.\n",
    "'''"
   ]
  },
  {
   "cell_type": "code",
   "execution_count": 168,
   "id": "b847f2cb",
   "metadata": {},
   "outputs": [
    {
     "name": "stdout",
     "output_type": "stream",
     "text": [
      "lr -1278990.753409691\n",
      "sgd -4.578736225338852e+25\n",
      "lasso -1278928.173405622\n",
      "ridge -1278979.4368474921\n",
      "en -1519096.4019700158\n",
      "huber -1297046.2285731598\n",
      "ransac -1647571.9856848698\n",
      "theilSen -1302025.8124072182\n"
     ]
    }
   ],
   "source": [
    "# N Mse score\n",
    "basic_model_selection(X,y,4,models,'neg_mean_squared_error')"
   ]
  },
  {
   "cell_type": "code",
   "execution_count": 169,
   "id": "5de7c332",
   "metadata": {},
   "outputs": [
    {
     "name": "stdout",
     "output_type": "stream",
     "text": [
      "lr -1.0361393620915051\n",
      "sgd -1400491681.776033\n",
      "lasso -1.031310689075672\n",
      "ridge -1.0356841899611444\n",
      "en -1.0169575038111296\n",
      "huber -0.9653046636010818\n",
      "ransac -1.0203679635785294\n",
      "theilSen -0.9617926527965657\n"
     ]
    }
   ],
   "source": [
    "# R2 score\n",
    "basic_model_selection(X,y,4,models,'neg_mean_absolute_percentage_error')"
   ]
  },
  {
   "cell_type": "markdown",
   "id": "ad061702",
   "metadata": {},
   "source": [
    "# Standardization of the model before training"
   ]
  },
  {
   "cell_type": "code",
   "execution_count": 170,
   "id": "46948b11",
   "metadata": {},
   "outputs": [
    {
     "data": {
      "text/html": [
       "<div>\n",
       "<style scoped>\n",
       "    .dataframe tbody tr th:only-of-type {\n",
       "        vertical-align: middle;\n",
       "    }\n",
       "\n",
       "    .dataframe tbody tr th {\n",
       "        vertical-align: top;\n",
       "    }\n",
       "\n",
       "    .dataframe thead th {\n",
       "        text-align: right;\n",
       "    }\n",
       "</style>\n",
       "<table border=\"1\" class=\"dataframe\">\n",
       "  <thead>\n",
       "    <tr style=\"text-align: right;\">\n",
       "      <th></th>\n",
       "      <th>Item_Weight</th>\n",
       "      <th>Item_Fat_Content</th>\n",
       "      <th>Item_Visibility</th>\n",
       "      <th>Item_MRP</th>\n",
       "      <th>Outlet_Size</th>\n",
       "      <th>Outlet_Location_Type</th>\n",
       "      <th>Outlet_Type</th>\n",
       "      <th>Item_Type_combined</th>\n",
       "      <th>Outlet_Identifier_OUT010</th>\n",
       "      <th>Outlet_Identifier_OUT013</th>\n",
       "      <th>Outlet_Identifier_OUT017</th>\n",
       "      <th>Outlet_Identifier_OUT018</th>\n",
       "      <th>Outlet_Identifier_OUT019</th>\n",
       "      <th>Outlet_Identifier_OUT027</th>\n",
       "      <th>Outlet_Identifier_OUT035</th>\n",
       "      <th>Outlet_Identifier_OUT045</th>\n",
       "      <th>Outlet_Identifier_OUT046</th>\n",
       "      <th>Outlet_Identifier_OUT049</th>\n",
       "      <th>years_old</th>\n",
       "    </tr>\n",
       "  </thead>\n",
       "  <tbody>\n",
       "    <tr>\n",
       "      <th>0</th>\n",
       "      <td>-0.769246</td>\n",
       "      <td>-0.997813</td>\n",
       "      <td>-1.081039</td>\n",
       "      <td>1.747454</td>\n",
       "      <td>-0.664080</td>\n",
       "      <td>-1.369334</td>\n",
       "      <td>-0.252658</td>\n",
       "      <td>-0.179795</td>\n",
       "      <td>-0.263920</td>\n",
       "      <td>-0.350395</td>\n",
       "      <td>-0.349128</td>\n",
       "      <td>-0.349551</td>\n",
       "      <td>-0.256985</td>\n",
       "      <td>-0.351028</td>\n",
       "      <td>-0.349973</td>\n",
       "      <td>-0.349762</td>\n",
       "      <td>-0.349973</td>\n",
       "      <td>2.857362</td>\n",
       "      <td>-0.139541</td>\n",
       "    </tr>\n",
       "    <tr>\n",
       "      <th>1</th>\n",
       "      <td>-1.496813</td>\n",
       "      <td>1.236942</td>\n",
       "      <td>-1.016230</td>\n",
       "      <td>-1.489023</td>\n",
       "      <td>-0.664080</td>\n",
       "      <td>1.091569</td>\n",
       "      <td>1.002972</td>\n",
       "      <td>-2.095286</td>\n",
       "      <td>-0.263920</td>\n",
       "      <td>-0.350395</td>\n",
       "      <td>-0.349128</td>\n",
       "      <td>2.860816</td>\n",
       "      <td>-0.256985</td>\n",
       "      <td>-0.351028</td>\n",
       "      <td>-0.349973</td>\n",
       "      <td>-0.349762</td>\n",
       "      <td>-0.349973</td>\n",
       "      <td>-0.349973</td>\n",
       "      <td>-1.334103</td>\n",
       "    </tr>\n",
       "    <tr>\n",
       "      <th>2</th>\n",
       "      <td>0.995858</td>\n",
       "      <td>-0.997813</td>\n",
       "      <td>-1.066741</td>\n",
       "      <td>0.010040</td>\n",
       "      <td>-0.664080</td>\n",
       "      <td>-1.369334</td>\n",
       "      <td>-0.252658</td>\n",
       "      <td>-0.179795</td>\n",
       "      <td>-0.263920</td>\n",
       "      <td>-0.350395</td>\n",
       "      <td>-0.349128</td>\n",
       "      <td>-0.349551</td>\n",
       "      <td>-0.256985</td>\n",
       "      <td>-0.351028</td>\n",
       "      <td>-0.349973</td>\n",
       "      <td>-0.349762</td>\n",
       "      <td>-0.349973</td>\n",
       "      <td>2.857362</td>\n",
       "      <td>-0.139541</td>\n",
       "    </tr>\n",
       "    <tr>\n",
       "      <th>3</th>\n",
       "      <td>1.361794</td>\n",
       "      <td>1.236942</td>\n",
       "      <td>-1.045193</td>\n",
       "      <td>0.660050</td>\n",
       "      <td>0.799954</td>\n",
       "      <td>1.091569</td>\n",
       "      <td>-1.508289</td>\n",
       "      <td>-0.179795</td>\n",
       "      <td>3.789031</td>\n",
       "      <td>-0.350395</td>\n",
       "      <td>-0.349128</td>\n",
       "      <td>-0.349551</td>\n",
       "      <td>-0.256985</td>\n",
       "      <td>-0.351028</td>\n",
       "      <td>-0.349973</td>\n",
       "      <td>-0.349762</td>\n",
       "      <td>-0.349973</td>\n",
       "      <td>-0.349973</td>\n",
       "      <td>-0.020085</td>\n",
       "    </tr>\n",
       "    <tr>\n",
       "      <th>4</th>\n",
       "      <td>-0.848890</td>\n",
       "      <td>0.119565</td>\n",
       "      <td>-1.206757</td>\n",
       "      <td>-1.399220</td>\n",
       "      <td>-2.128115</td>\n",
       "      <td>1.091569</td>\n",
       "      <td>-0.252658</td>\n",
       "      <td>1.735696</td>\n",
       "      <td>-0.263920</td>\n",
       "      <td>2.853918</td>\n",
       "      <td>-0.349128</td>\n",
       "      <td>-0.349551</td>\n",
       "      <td>-0.256985</td>\n",
       "      <td>-0.351028</td>\n",
       "      <td>-0.349973</td>\n",
       "      <td>-0.349762</td>\n",
       "      <td>-0.349973</td>\n",
       "      <td>-0.349973</td>\n",
       "      <td>1.293934</td>\n",
       "    </tr>\n",
       "  </tbody>\n",
       "</table>\n",
       "</div>"
      ],
      "text/plain": [
       "   Item_Weight  Item_Fat_Content  Item_Visibility  Item_MRP  Outlet_Size  \\\n",
       "0    -0.769246         -0.997813        -1.081039  1.747454    -0.664080   \n",
       "1    -1.496813          1.236942        -1.016230 -1.489023    -0.664080   \n",
       "2     0.995858         -0.997813        -1.066741  0.010040    -0.664080   \n",
       "3     1.361794          1.236942        -1.045193  0.660050     0.799954   \n",
       "4    -0.848890          0.119565        -1.206757 -1.399220    -2.128115   \n",
       "\n",
       "   Outlet_Location_Type  Outlet_Type  Item_Type_combined  \\\n",
       "0             -1.369334    -0.252658           -0.179795   \n",
       "1              1.091569     1.002972           -2.095286   \n",
       "2             -1.369334    -0.252658           -0.179795   \n",
       "3              1.091569    -1.508289           -0.179795   \n",
       "4              1.091569    -0.252658            1.735696   \n",
       "\n",
       "   Outlet_Identifier_OUT010  Outlet_Identifier_OUT013  \\\n",
       "0                 -0.263920                 -0.350395   \n",
       "1                 -0.263920                 -0.350395   \n",
       "2                 -0.263920                 -0.350395   \n",
       "3                  3.789031                 -0.350395   \n",
       "4                 -0.263920                  2.853918   \n",
       "\n",
       "   Outlet_Identifier_OUT017  Outlet_Identifier_OUT018  \\\n",
       "0                 -0.349128                 -0.349551   \n",
       "1                 -0.349128                  2.860816   \n",
       "2                 -0.349128                 -0.349551   \n",
       "3                 -0.349128                 -0.349551   \n",
       "4                 -0.349128                 -0.349551   \n",
       "\n",
       "   Outlet_Identifier_OUT019  Outlet_Identifier_OUT027  \\\n",
       "0                 -0.256985                 -0.351028   \n",
       "1                 -0.256985                 -0.351028   \n",
       "2                 -0.256985                 -0.351028   \n",
       "3                 -0.256985                 -0.351028   \n",
       "4                 -0.256985                 -0.351028   \n",
       "\n",
       "   Outlet_Identifier_OUT035  Outlet_Identifier_OUT045  \\\n",
       "0                 -0.349973                 -0.349762   \n",
       "1                 -0.349973                 -0.349762   \n",
       "2                 -0.349973                 -0.349762   \n",
       "3                 -0.349973                 -0.349762   \n",
       "4                 -0.349973                 -0.349762   \n",
       "\n",
       "   Outlet_Identifier_OUT046  Outlet_Identifier_OUT049  years_old  \n",
       "0                 -0.349973                  2.857362  -0.139541  \n",
       "1                 -0.349973                 -0.349973  -1.334103  \n",
       "2                 -0.349973                  2.857362  -0.139541  \n",
       "3                 -0.349973                 -0.349973  -0.020085  \n",
       "4                 -0.349973                 -0.349973   1.293934  "
      ]
     },
     "execution_count": 170,
     "metadata": {},
     "output_type": "execute_result"
    }
   ],
   "source": [
    "from sklearn.preprocessing import StandardScaler\n",
    "scaler = StandardScaler()\n",
    "\n",
    "standardized=scaler.fit_transform(X)\n",
    "column_names = X.columns\n",
    "df_standardized = pd.DataFrame(data=standardized,columns=column_names)\n",
    "df_standardized.head()"
   ]
  },
  {
   "cell_type": "code",
   "execution_count": 171,
   "id": "863e5e11",
   "metadata": {},
   "outputs": [
    {
     "name": "stdout",
     "output_type": "stream",
     "text": [
      "lr 0.560046857100979\n",
      "sgd 0.5595515299769793\n",
      "lasso 0.5600956145231253\n",
      "ridge 0.5600174793091026\n",
      "en 0.5116677899683771\n",
      "huber 0.5540855379255999\n",
      "ransac 0.48683524454038846\n",
      "theilSen 0.5238613785820169\n"
     ]
    }
   ],
   "source": [
    "basic_model_selection(df_standardized,y,4,models,'r2')"
   ]
  },
  {
   "cell_type": "markdown",
   "id": "d631b702",
   "metadata": {},
   "source": [
    "# Using Robust Scaler\n",
    "\n",
    "#### My dataset having outliers make it more prone to mistakes\n",
    "* Robust Scaler handles the outliers as well\n",
    "* It scales according to the quartile range"
   ]
  },
  {
   "cell_type": "code",
   "execution_count": 172,
   "id": "4b10fd54",
   "metadata": {},
   "outputs": [
    {
     "data": {
      "text/html": [
       "<div>\n",
       "<style scoped>\n",
       "    .dataframe tbody tr th:only-of-type {\n",
       "        vertical-align: middle;\n",
       "    }\n",
       "\n",
       "    .dataframe tbody tr th {\n",
       "        vertical-align: top;\n",
       "    }\n",
       "\n",
       "    .dataframe thead th {\n",
       "        text-align: right;\n",
       "    }\n",
       "</style>\n",
       "<table border=\"1\" class=\"dataframe\">\n",
       "  <thead>\n",
       "    <tr style=\"text-align: right;\">\n",
       "      <th></th>\n",
       "      <th>Item_Weight</th>\n",
       "      <th>Item_Fat_Content</th>\n",
       "      <th>Item_Visibility</th>\n",
       "      <th>Item_MRP</th>\n",
       "      <th>Outlet_Size</th>\n",
       "      <th>Outlet_Location_Type</th>\n",
       "      <th>Outlet_Type</th>\n",
       "      <th>Item_Type_combined</th>\n",
       "      <th>Outlet_Identifier_OUT010</th>\n",
       "      <th>Outlet_Identifier_OUT013</th>\n",
       "      <th>Outlet_Identifier_OUT017</th>\n",
       "      <th>Outlet_Identifier_OUT018</th>\n",
       "      <th>Outlet_Identifier_OUT019</th>\n",
       "      <th>Outlet_Identifier_OUT027</th>\n",
       "      <th>Outlet_Identifier_OUT035</th>\n",
       "      <th>Outlet_Identifier_OUT045</th>\n",
       "      <th>Outlet_Identifier_OUT046</th>\n",
       "      <th>Outlet_Identifier_OUT049</th>\n",
       "      <th>years_old</th>\n",
       "    </tr>\n",
       "  </thead>\n",
       "  <tbody>\n",
       "    <tr>\n",
       "      <th>0</th>\n",
       "      <td>0.282525</td>\n",
       "      <td>0.0</td>\n",
       "      <td>0.038399</td>\n",
       "      <td>0.927507</td>\n",
       "      <td>0.5</td>\n",
       "      <td>0.0</td>\n",
       "      <td>0.333333</td>\n",
       "      <td>0.5</td>\n",
       "      <td>0.0</td>\n",
       "      <td>0.0</td>\n",
       "      <td>0.0</td>\n",
       "      <td>0.0</td>\n",
       "      <td>0.0</td>\n",
       "      <td>0.0</td>\n",
       "      <td>0.0</td>\n",
       "      <td>0.0</td>\n",
       "      <td>0.0</td>\n",
       "      <td>1.0</td>\n",
       "      <td>0.416667</td>\n",
       "    </tr>\n",
       "    <tr>\n",
       "      <th>1</th>\n",
       "      <td>0.081274</td>\n",
       "      <td>1.0</td>\n",
       "      <td>0.048346</td>\n",
       "      <td>0.072068</td>\n",
       "      <td>0.5</td>\n",
       "      <td>1.0</td>\n",
       "      <td>0.666667</td>\n",
       "      <td>0.0</td>\n",
       "      <td>0.0</td>\n",
       "      <td>0.0</td>\n",
       "      <td>0.0</td>\n",
       "      <td>1.0</td>\n",
       "      <td>0.0</td>\n",
       "      <td>0.0</td>\n",
       "      <td>0.0</td>\n",
       "      <td>0.0</td>\n",
       "      <td>0.0</td>\n",
       "      <td>0.0</td>\n",
       "      <td>0.000000</td>\n",
       "    </tr>\n",
       "    <tr>\n",
       "      <th>2</th>\n",
       "      <td>0.770765</td>\n",
       "      <td>0.0</td>\n",
       "      <td>0.040593</td>\n",
       "      <td>0.468288</td>\n",
       "      <td>0.5</td>\n",
       "      <td>0.0</td>\n",
       "      <td>0.333333</td>\n",
       "      <td>0.5</td>\n",
       "      <td>0.0</td>\n",
       "      <td>0.0</td>\n",
       "      <td>0.0</td>\n",
       "      <td>0.0</td>\n",
       "      <td>0.0</td>\n",
       "      <td>0.0</td>\n",
       "      <td>0.0</td>\n",
       "      <td>0.0</td>\n",
       "      <td>0.0</td>\n",
       "      <td>1.0</td>\n",
       "      <td>0.416667</td>\n",
       "    </tr>\n",
       "    <tr>\n",
       "      <th>3</th>\n",
       "      <td>0.871986</td>\n",
       "      <td>1.0</td>\n",
       "      <td>0.043901</td>\n",
       "      <td>0.640093</td>\n",
       "      <td>1.0</td>\n",
       "      <td>1.0</td>\n",
       "      <td>0.000000</td>\n",
       "      <td>0.5</td>\n",
       "      <td>1.0</td>\n",
       "      <td>0.0</td>\n",
       "      <td>0.0</td>\n",
       "      <td>0.0</td>\n",
       "      <td>0.0</td>\n",
       "      <td>0.0</td>\n",
       "      <td>0.0</td>\n",
       "      <td>0.0</td>\n",
       "      <td>0.0</td>\n",
       "      <td>0.0</td>\n",
       "      <td>0.458333</td>\n",
       "    </tr>\n",
       "    <tr>\n",
       "      <th>4</th>\n",
       "      <td>0.260494</td>\n",
       "      <td>0.5</td>\n",
       "      <td>0.019104</td>\n",
       "      <td>0.095805</td>\n",
       "      <td>0.0</td>\n",
       "      <td>1.0</td>\n",
       "      <td>0.333333</td>\n",
       "      <td>1.0</td>\n",
       "      <td>0.0</td>\n",
       "      <td>1.0</td>\n",
       "      <td>0.0</td>\n",
       "      <td>0.0</td>\n",
       "      <td>0.0</td>\n",
       "      <td>0.0</td>\n",
       "      <td>0.0</td>\n",
       "      <td>0.0</td>\n",
       "      <td>0.0</td>\n",
       "      <td>0.0</td>\n",
       "      <td>0.916667</td>\n",
       "    </tr>\n",
       "  </tbody>\n",
       "</table>\n",
       "</div>"
      ],
      "text/plain": [
       "   Item_Weight  Item_Fat_Content  Item_Visibility  Item_MRP  Outlet_Size  \\\n",
       "0     0.282525               0.0         0.038399  0.927507          0.5   \n",
       "1     0.081274               1.0         0.048346  0.072068          0.5   \n",
       "2     0.770765               0.0         0.040593  0.468288          0.5   \n",
       "3     0.871986               1.0         0.043901  0.640093          1.0   \n",
       "4     0.260494               0.5         0.019104  0.095805          0.0   \n",
       "\n",
       "   Outlet_Location_Type  Outlet_Type  Item_Type_combined  \\\n",
       "0                   0.0     0.333333                 0.5   \n",
       "1                   1.0     0.666667                 0.0   \n",
       "2                   0.0     0.333333                 0.5   \n",
       "3                   1.0     0.000000                 0.5   \n",
       "4                   1.0     0.333333                 1.0   \n",
       "\n",
       "   Outlet_Identifier_OUT010  Outlet_Identifier_OUT013  \\\n",
       "0                       0.0                       0.0   \n",
       "1                       0.0                       0.0   \n",
       "2                       0.0                       0.0   \n",
       "3                       1.0                       0.0   \n",
       "4                       0.0                       1.0   \n",
       "\n",
       "   Outlet_Identifier_OUT017  Outlet_Identifier_OUT018  \\\n",
       "0                       0.0                       0.0   \n",
       "1                       0.0                       1.0   \n",
       "2                       0.0                       0.0   \n",
       "3                       0.0                       0.0   \n",
       "4                       0.0                       0.0   \n",
       "\n",
       "   Outlet_Identifier_OUT019  Outlet_Identifier_OUT027  \\\n",
       "0                       0.0                       0.0   \n",
       "1                       0.0                       0.0   \n",
       "2                       0.0                       0.0   \n",
       "3                       0.0                       0.0   \n",
       "4                       0.0                       0.0   \n",
       "\n",
       "   Outlet_Identifier_OUT035  Outlet_Identifier_OUT045  \\\n",
       "0                       0.0                       0.0   \n",
       "1                       0.0                       0.0   \n",
       "2                       0.0                       0.0   \n",
       "3                       0.0                       0.0   \n",
       "4                       0.0                       0.0   \n",
       "\n",
       "   Outlet_Identifier_OUT046  Outlet_Identifier_OUT049  years_old  \n",
       "0                       0.0                       1.0   0.416667  \n",
       "1                       0.0                       0.0   0.000000  \n",
       "2                       0.0                       1.0   0.416667  \n",
       "3                       0.0                       0.0   0.458333  \n",
       "4                       0.0                       0.0   0.916667  "
      ]
     },
     "execution_count": 172,
     "metadata": {},
     "output_type": "execute_result"
    }
   ],
   "source": [
    "from sklearn.preprocessing import RobustScaler\n",
    "from sklearn.preprocessing import MinMaxScaler\n",
    "\n",
    "normalize = MinMaxScaler()\n",
    "robust = RobustScaler(quantile_range = (0.1,0.8)) #range of inerquartile is one of the parameters\n",
    "\n",
    "robust_stan = robust.fit_transform(X)\n",
    "robust_stan_normalize = normalize.fit_transform(robust_stan)\n",
    "\n",
    "# also normalized the dataset using MinMaxScaler i.e has bought the data set between (0,1)\n",
    "df_robust_normalize = pd.DataFrame(robust_stan_normalize,columns=column_names)\n",
    "df_robust_normalize.head()"
   ]
  },
  {
   "cell_type": "code",
   "execution_count": 173,
   "id": "6f29bac2",
   "metadata": {},
   "outputs": [
    {
     "name": "stdout",
     "output_type": "stream",
     "text": [
      "lr 0.5599808781314108\n",
      "sgd 0.5596105284773998\n",
      "lasso 0.5602364376089488\n",
      "ridge 0.5600244473901529\n",
      "en 0.16451784419804824\n",
      "huber 0.5540659349001216\n",
      "ransac 0.38796025831408804\n",
      "theilSen 0.5466672318791168\n"
     ]
    }
   ],
   "source": [
    "basic_model_selection(df_robust_normalize,y,4,models,'r2')"
   ]
  },
  {
   "cell_type": "markdown",
   "id": "2237197e",
   "metadata": {},
   "source": [
    "# Best Model\n",
    "#### Comparing all models using RMSE score"
   ]
  },
  {
   "cell_type": "code",
   "execution_count": 174,
   "id": "ed2f3a1d",
   "metadata": {},
   "outputs": [],
   "source": [
    "robust_test = robust.fit_transform(X)\n",
    "robust_normalize_test = normalize.fit_transform(robust_test)\n",
    "df_test_robust_normalize = pd.DataFrame(robust_normalize_test,columns=column_names)"
   ]
  },
  {
   "cell_type": "code",
   "execution_count": 175,
   "id": "2e96f2a9",
   "metadata": {},
   "outputs": [],
   "source": [
    "model = LinearRegression()\n",
    "# Defining my final model that I will use for prediction"
   ]
  },
  {
   "cell_type": "code",
   "execution_count": 176,
   "id": "60b0b663",
   "metadata": {},
   "outputs": [],
   "source": [
    "# Metrics Calculation\n",
    "from sklearn.metrics import r2_score, mean_absolute_error ,mean_squared_error\n",
    "\n",
    "import math\n",
    "def root_mean_squared_error(y,y_pred):\n",
    "    mse =np.square(np.subtract(y,y_pred)).mean()\n",
    "    rmse = math.sqrt(mse)\n",
    "    return rmse"
   ]
  },
  {
   "cell_type": "code",
   "execution_count": 177,
   "id": "f2d5f8dd",
   "metadata": {},
   "outputs": [
    {
     "ename": "AttributeError",
     "evalue": "'LinearRegression' object has no attribute 'intercept_'",
     "output_type": "error",
     "traceback": [
      "\u001b[1;31m---------------------------------------------------------------------------\u001b[0m",
      "\u001b[1;31mAttributeError\u001b[0m                            Traceback (most recent call last)",
      "Cell \u001b[1;32mIn[177], line 1\u001b[0m\n\u001b[1;32m----> 1\u001b[0m model\u001b[38;5;241m.\u001b[39mintercept_ , model\u001b[38;5;241m.\u001b[39mcoef_\n",
      "\u001b[1;31mAttributeError\u001b[0m: 'LinearRegression' object has no attribute 'intercept_'"
     ]
    }
   ],
   "source": [
    "model.intercept_ , model.coef_"
   ]
  },
  {
   "cell_type": "code",
   "execution_count": null,
   "id": "b21c6696",
   "metadata": {},
   "outputs": [],
   "source": [
    "print(\"MAE Score for model is : \",mean_absolute_error(y,model.predict(df_robust_normalize)))\n",
    "print(\"MSE Score for model is : \",mean_squared_error(y,model.predict(df_robust_normalize)))\n",
    "print(\"RMSE Score for model is : \",root_mean_squared_error(y,model.predict(df_robust_normalize)))\n",
    "print(\"R2 Score for model is : \",r2_score(y,model.predict(df_robust_normalize)))"
   ]
  },
  {
   "cell_type": "code",
   "execution_count": null,
   "id": "1fbe22c8",
   "metadata": {},
   "outputs": [],
   "source": [
    "final_prediction=model.predict(df_test_robust_normalize) #Predicting the outlet sales"
   ]
  },
  {
   "cell_type": "code",
   "execution_count": null,
   "id": "1e612871",
   "metadata": {},
   "outputs": [],
   "source": [
    "#the prediction is in the form of numpy array\n",
    "# Converting into Dataframe\n",
    "df_final_prediction = pd.DataFrame(final_prediction,columns=['Item_Outlet_Sales'])"
   ]
  },
  {
   "cell_type": "code",
   "execution_count": null,
   "id": "1652693d",
   "metadata": {},
   "outputs": [],
   "source": [
    "df_final_prediction.head()"
   ]
  },
  {
   "cell_type": "markdown",
   "id": "30715ee2",
   "metadata": {},
   "source": [
    "# Saving the final model using Joblib"
   ]
  },
  {
   "cell_type": "code",
   "execution_count": null,
   "id": "b4515c3c",
   "metadata": {},
   "outputs": [],
   "source": [
    "import joblib\n",
    "filename = 'linear_regression.joblib' # Name of the model\n",
    "joblib.dump(model, filename) # it is saved in your current working directory"
   ]
  },
  {
   "cell_type": "code",
   "execution_count": null,
   "id": "1b1d18fa",
   "metadata": {},
   "outputs": [],
   "source": [
    "# This command loads the model once again\n",
    "load_model = joblib.load(filename)"
   ]
  },
  {
   "cell_type": "code",
   "execution_count": null,
   "id": "937e42e8",
   "metadata": {},
   "outputs": [],
   "source": [
    "float_formatter = \"{:.2f}\".format"
   ]
  },
  {
   "cell_type": "code",
   "execution_count": null,
   "id": "b226ef52",
   "metadata": {},
   "outputs": [],
   "source": [
    "load_model.predict(np.array(df_robust_normalize.iloc[0,:]).reshape(1, -1))"
   ]
  },
  {
   "cell_type": "code",
   "execution_count": null,
   "id": "3a219ae2",
   "metadata": {},
   "outputs": [],
   "source": [
    "load_model.predict(np.array(df_robust_normalize.iloc[0:5,:]))"
   ]
  },
  {
   "cell_type": "markdown",
   "id": "4ebdc35b",
   "metadata": {},
   "source": [
    "# The Models for hyperparameter tuning are same Regression Models"
   ]
  },
  {
   "cell_type": "code",
   "execution_count": null,
   "id": "34198007",
   "metadata": {},
   "outputs": [],
   "source": [
    "def model_parameter_tuning(x,y,model,parameters,cross_folds):\n",
    "    model_grid = GridSearchCV(model,\n",
    "                        parameters,\n",
    "                        cv = cross_folds,\n",
    "                        n_jobs = 5,\n",
    "                        verbose=True)\n",
    "    model_grid.fit(x,y)\n",
    "    y_predicted = model_grid.predict(x)\n",
    "    print(model_grid.score)\n",
    "    print(model_grid.best_params_)\n",
    "    print(\"The RMSE score is\",np.sqrt(np.mean((y-y_predicted)**2)))\n",
    "    print(\"The R2 score is\",r2_score(y,y_predicted))\n",
    "\n",
    "#defining function for hyper parameter tuning and using RMSE as my metric\n",
    "model = Lasso(random_state=0, max_iter=10000)\n",
    "alphas = np.logspace(-4, -0.5, 30)\n",
    "\n",
    "model_parameters=[{\"alpha\": alphas}]\n",
    "\n",
    "model_parameter_tuning(df_standardized,y,model,model_parameters,4)"
   ]
  },
  {
   "cell_type": "markdown",
   "id": "dece92db",
   "metadata": {},
   "source": [
    "# **Random Forest**"
   ]
  },
  {
   "cell_type": "code",
   "execution_count": null,
   "id": "2d450160",
   "metadata": {},
   "outputs": [],
   "source": [
    "from sklearn.ensemble import RandomForestRegressor\n",
    "\n",
    "\n",
    "# Create a Random Forest Regressor with 100 trees\n",
    "n_trees = 100\n",
    "random_forest = RandomForestRegressor(n_estimators=n_trees, random_state=42)\n",
    "\n",
    "# Train the Random Forest Regressor\n",
    "random_forest.fit(df_standardized, y)\n",
    "\n",
    "\n",
    "print(\"MAE Score for model is : \",mean_absolute_error(y,random_forest.predict(df_standardized)))\n",
    "print(\"MSE Score for model is : \",mean_squared_error(y,random_forest.predict(df_standardized)))\n",
    "print(\"RMSE Score for model is : \",root_mean_squared_error(y,random_forest.predict(df_standardized)))\n",
    "print(\"R2 Score for model is : \",r2_score(y,random_forest.predict(df_standardized)))"
   ]
  },
  {
   "cell_type": "markdown",
   "id": "f13a23f4",
   "metadata": {},
   "source": [
    "# **XG Boost**"
   ]
  },
  {
   "cell_type": "code",
   "execution_count": null,
   "id": "ab8a2a86",
   "metadata": {},
   "outputs": [],
   "source": [
    "import xgboost as xgb\n",
    "\n",
    "# Create an XGBoost Regressor\n",
    "xgb_regressor = xgb.XGBRegressor(n_estimators=100, learning_rate=0.1, random_state=42)\n",
    "\n",
    "# Train the regressor\n",
    "xgb_regressor.fit(df_standardized, y)\n",
    "\n",
    "print(\"MAE Score for model is : \",mean_absolute_error(y,xgb_regressor.predict(df_standardized)))\n",
    "print(\"MSE Score for model is : \",mean_squared_error(y,xgb_regressor.predict(df_standardized)))\n",
    "print(\"RMSE Score for model is : \",root_mean_squared_error(y,xgb_regressor.predict(df_standardized)))\n",
    "print(\"R2 Score for model is : \",r2_score(y,xgb_regressor.predict(df_standardized)))"
   ]
  },
  {
   "cell_type": "markdown",
   "id": "3fb61390",
   "metadata": {},
   "source": [
    "# **Light GBM**"
   ]
  },
  {
   "cell_type": "code",
   "execution_count": null,
   "id": "52f77ce8",
   "metadata": {},
   "outputs": [],
   "source": [
    "import lightgbm as lgb\n",
    "\n",
    "\n",
    "# Create a LightGBM Regressor\n",
    "lgb_regressor = lgb.LGBMRegressor(n_estimators=100, learning_rate=0.1, random_state=42)\n",
    "\n",
    "# Train the regressor\n",
    "lgb_regressor.fit(df_standardized, y)\n",
    "\n",
    "print(\"MAE Score for model is : \",mean_absolute_error(y,lgb_regressor.predict(df_standardized)))\n",
    "print(\"MSE Score for model is : \",mean_squared_error(y,lgb_regressor.predict(df_standardized)))\n",
    "print(\"RMSE Score for model is : \",root_mean_squared_error(y,lgb_regressor.predict(df_standardized)))\n",
    "print(\"R2 Score for model is : \",r2_score(y,lgb_regressor.predict(df_standardized)))"
   ]
  },
  {
   "cell_type": "markdown",
   "id": "3c277ac4",
   "metadata": {},
   "source": [
    "# **Cat Boost**"
   ]
  },
  {
   "cell_type": "code",
   "execution_count": null,
   "id": "ee2c6e2b",
   "metadata": {},
   "outputs": [],
   "source": [
    "! pip install catboost --quiet"
   ]
  },
  {
   "cell_type": "code",
   "execution_count": null,
   "id": "c1556fda",
   "metadata": {},
   "outputs": [],
   "source": [
    "from catboost import CatBoostRegressor, Pool\n",
    "\n",
    "\n",
    "# Create a CatBoost Regressor\n",
    "catboost_regressor = CatBoostRegressor(iterations=100, learning_rate=0.1, random_state=42)\n",
    "\n",
    "# Train the regressor\n",
    "catboost_regressor.fit(df_standardized, y)\n",
    "\n",
    "print(\"MAE Score for model is : \",mean_absolute_error(y,catboost_regressor.predict(df_standardized)))\n",
    "print(\"MSE Score for model is : \",mean_squared_error(y,catboost_regressor.predict(df_standardized)))\n",
    "print(\"RMSE Score for model is : \",root_mean_squared_error(y,catboost_regressor.predict(df_standardized)))\n",
    "print(\"R2 Score for model is : \",r2_score(y,catboost_regressor.predict(df_standardized)))"
   ]
  },
  {
   "cell_type": "code",
   "execution_count": null,
   "id": "0a6d465e",
   "metadata": {},
   "outputs": [],
   "source": []
  }
 ],
 "metadata": {
  "kernelspec": {
   "display_name": "Python 3 (ipykernel)",
   "language": "python",
   "name": "python3"
  },
  "language_info": {
   "codemirror_mode": {
    "name": "ipython",
    "version": 3
   },
   "file_extension": ".py",
   "mimetype": "text/x-python",
   "name": "python",
   "nbconvert_exporter": "python",
   "pygments_lexer": "ipython3",
   "version": "3.11.5"
  }
 },
 "nbformat": 4,
 "nbformat_minor": 5
}
